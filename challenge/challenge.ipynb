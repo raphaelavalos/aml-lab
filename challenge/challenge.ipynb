{
 "cells": [
  {
   "cell_type": "markdown",
   "metadata": {},
   "source": [
    "2018 Edition"
   ]
  },
  {
   "cell_type": "markdown",
   "metadata": {},
   "source": [
    "# Challenge: What is the future selling price of a home?\n",
    "\n",
    "A home is often the largest and most expensive purchase a person makes in his or her lifetime. Ensuring homeowners have a trusted way to monitor this asset is incredibly important.\n",
    "\n",
    "In this competition, students are required to develop a full-fledged approach to make predictions about the future sale prices of homes. A full-fledged approach constist, at least, in the following steps:\n",
    "\n",
    "* Descriptive statistics about the data\n",
    "* Data cleaning and pre-processing\n",
    "* Defining a modeling approach to the problem\n",
    "* Build such a statistical model\n",
    "* Validate the outcome of the model\n",
    "\n",
    "Now, should you ask a home buyer to describe their dream house, they probably wouldn't begin with describing features such as the height of the basement ceiling or the proximity to a railroad. As you will see, the dataset we use in this competition proves that many more features influence price negotiations than the number of bedrooms or a white-picket fence.\n",
    "\n",
    "With 79 explanatory variables describing (almost) every aspect of residential homes in a small city in the US, this competition challenges you to predict the final price of each home."
   ]
  },
  {
   "cell_type": "markdown",
   "metadata": {},
   "source": [
    "# The dataset\n",
    "\n",
    "## File descriptions\n",
    "\n",
    "* train.csv - the training dataset\n",
    "* test.csv - the test dataset\n",
    "* data_description.txt - full description of each column\n",
    "\n",
    "## Data fields\n",
    "Here's a brief version of what you'll find in the data description file.\n",
    "\n",
    "* SalePrice - the property's sale price in dollars. This is the target variable that you're trying to predict.\n",
    "* MSSubClass: The building class\n",
    "* MSZoning: The general zoning classification\n",
    "* LotFrontage: Linear feet of street connected to property\n",
    "* LotArea: Lot size in square feet\n",
    "* Street: Type of road access\n",
    "* Alley: Type of alley access\n",
    "* LotShape: General shape of property\n",
    "* LandContour: Flatness of the property\n",
    "* Utilities: Type of utilities available\n",
    "* LotConfig: Lot configuration\n",
    "* LandSlope: Slope of property\n",
    "* Neighborhood: Physical locations within Ames city limits\n",
    "* Condition1: Proximity to main road or railroad\n",
    "* Condition2: Proximity to main road or railroad (if a second is present)\n",
    "* BldgType: Type of dwelling\n",
    "* HouseStyle: Style of dwelling\n",
    "* OverallQual: Overall material and finish quality\n",
    "* OverallCond: Overall condition rating\n",
    "* YearBuilt: Original construction date\n",
    "* YearRemodAdd: Remodel date\n",
    "* RoofStyle: Type of roof\n",
    "* RoofMatl: Roof material\n",
    "* Exterior1st: Exterior covering on house\n",
    "* Exterior2nd: Exterior covering on house (if more than one material)\n",
    "* MasVnrType: Masonry veneer type\n",
    "* MasVnrArea: Masonry veneer area in square feet\n",
    "* ExterQual: Exterior material quality\n",
    "* ExterCond: Present condition of the material on the exterior\n",
    "* Foundation: Type of foundation\n",
    "* BsmtQual: Height of the basement\n",
    "* BsmtCond: General condition of the basement\n",
    "* BsmtExposure: Walkout or garden level basement walls\n",
    "* BsmtFinType1: Quality of basement finished area\n",
    "* BsmtFinSF1: Type 1 finished square feet\n",
    "* BsmtFinType2: Quality of second finished area (if present)\n",
    "* BsmtFinSF2: Type 2 finished square feet\n",
    "* BsmtUnfSF: Unfinished square feet of basement area\n",
    "* TotalBsmtSF: Total square feet of basement area\n",
    "* Heating: Type of heating\n",
    "* HeatingQC: Heating quality and condition\n",
    "* CentralAir: Central air conditioning\n",
    "* Electrical: Electrical system\n",
    "* 1stFlrSF: First Floor square feet\n",
    "* 2ndFlrSF: Second floor square feet\n",
    "* LowQualFinSF: Low quality finished square feet (all floors)\n",
    "* GrLivArea: Above grade (ground) living area square feet\n",
    "* BsmtFullBath: Basement full bathrooms\n",
    "* BsmtHalfBath: Basement half bathrooms\n",
    "* FullBath: Full bathrooms above grade\n",
    "* HalfBath: Half baths above grade\n",
    "* Bedroom: Number of bedrooms above basement level\n",
    "* Kitchen: Number of kitchens\n",
    "* KitchenQual: Kitchen quality\n",
    "* TotRmsAbvGrd: Total rooms above grade (does not include bathrooms)\n",
    "* Functional: Home functionality rating\n",
    "* Fireplaces: Number of fireplaces\n",
    "* FireplaceQu: Fireplace quality\n",
    "* GarageType: Garage location\n",
    "* GarageYrBlt: Year garage was built\n",
    "* GarageFinish: Interior finish of the garage\n",
    "* GarageCars: Size of garage in car capacity\n",
    "* GarageArea: Size of garage in square feet\n",
    "* GarageQual: Garage quality\n",
    "* GarageCond: Garage condition\n",
    "* PavedDrive: Paved driveway\n",
    "* WoodDeckSF: Wood deck area in square feet\n",
    "* OpenPorchSF: Open porch area in square feet\n",
    "* EnclosedPorch: Enclosed porch area in square feet\n",
    "* 3SsnPorch: Three season porch area in square feet\n",
    "* ScreenPorch: Screen porch area in square feet\n",
    "* PoolArea: Pool area in square feet\n",
    "* PoolQC: Pool quality\n",
    "* Fence: Fence quality\n",
    "* MiscFeature: Miscellaneous feature not covered in other categories\n",
    "* MiscVal: Value (in dollars) of miscellaneous feature\n",
    "* MoSold: Month Sold\n",
    "* YrSold: Year Sold\n",
    "* SaleType: Type of sale\n",
    "* SaleCondition: Condition of sale\n"
   ]
  },
  {
   "cell_type": "markdown",
   "metadata": {},
   "source": [
    "# Goal of the challenge\n",
    "\n",
    "It is your job to predict the sales price for each house. For each Id in the test set, you must predict the value of the SalePrice variable.\n",
    "\n",
    "## Metric\n",
    "Notebooks are evaluated on Root-Mean-Squared-Error (RMSE) between the logarithm of the predicted value and the logarithm of the observed sales price. (Taking logs means that errors in predicting expensive houses and cheap houses will affect the result equally.)\n",
    "\n",
    "## Submission File Format\n",
    "The file should contain a header and have the following format:\n",
    "\n",
    "```\n",
    "Id,SalePrice\n",
    "1461,169000.1\n",
    "1462,187724.1233\n",
    "1463,175221\n",
    "etc.\n",
    "```\n",
    "\n",
    "You will find an example submission file within the data directory in the repository."
   ]
  },
  {
   "cell_type": "markdown",
   "metadata": {},
   "source": [
    "# Grading the notebook\n",
    "\n",
    "This challenge is going to be graded as a regular notebook for the AML labs. As a consequence, students should submit:\n",
    "\n",
    "* the html version of the notebook, using the Data Science Labs submission website, as usual [**Assignement: Challenge Notebook**]\n",
    "* the submission file (in csv format), that we will use to rank students according to the metric defined above, again through the Data Science Labs submission website [**Assignement: Challenge Predictions**]\n",
    "\n",
    "In summary, you will have to submit 2 files!"
   ]
  },
  {
   "cell_type": "code",
   "execution_count": 1,
   "metadata": {},
   "outputs": [],
   "source": [
    "import os\n",
    "import sys\n",
    "import re\n",
    "import random\n",
    "%matplotlib inline\n",
    "import matplotlib.pyplot as plt\n",
    "import matplotlib as mpl\n",
    "import warnings\n",
    "warnings.filterwarnings(\"ignore\")\n",
    "import pandas as pd\n",
    "import numpy as np\n",
    "import pickle\n",
    "import math\n",
    "import sklearn as sk\n",
    "from sklearn.preprocessing import OneHotEncoder, LabelEncoder\n",
    "import seaborn as sns\n",
    "sns.set(color_codes=True)\n",
    "base = \"challenge_data/\""
   ]
  },
  {
   "cell_type": "code",
   "execution_count": 2,
   "metadata": {},
   "outputs": [],
   "source": [
    "# This functions plots the correlation of the numerical value of a dataframe\n",
    "def plotCorrelation(dataframe):\n",
    "    corr = dataframe.corr()\n",
    "    mask = np.zeros_like(corr, dtype=np.bool)\n",
    "    mask[np.triu_indices_from(mask)] = True\n",
    "    f, ax = plt.subplots(figsize=(11, 9))\n",
    "    cmap = sns.diverging_palette(230, 5, as_cmap=True)\n",
    "    sns.heatmap(corr, mask=mask, cmap=cmap, center=0,\n",
    "            square=True, linewidths=.5, cbar_kws={\"shrink\": .5});\n",
    "    print('Correlation plot')"
   ]
  },
  {
   "cell_type": "code",
   "execution_count": 3,
   "metadata": {
    "scrolled": true
   },
   "outputs": [
    {
     "data": {
      "text/html": [
       "<div>\n",
       "<style scoped>\n",
       "    .dataframe tbody tr th:only-of-type {\n",
       "        vertical-align: middle;\n",
       "    }\n",
       "\n",
       "    .dataframe tbody tr th {\n",
       "        vertical-align: top;\n",
       "    }\n",
       "\n",
       "    .dataframe thead th {\n",
       "        text-align: right;\n",
       "    }\n",
       "</style>\n",
       "<table border=\"1\" class=\"dataframe\">\n",
       "  <thead>\n",
       "    <tr style=\"text-align: right;\">\n",
       "      <th></th>\n",
       "      <th>Id</th>\n",
       "      <th>MSSubClass</th>\n",
       "      <th>MSZoning</th>\n",
       "      <th>LotFrontage</th>\n",
       "      <th>LotArea</th>\n",
       "      <th>Street</th>\n",
       "      <th>Alley</th>\n",
       "      <th>LotShape</th>\n",
       "      <th>LandContour</th>\n",
       "      <th>Utilities</th>\n",
       "      <th>...</th>\n",
       "      <th>PoolArea</th>\n",
       "      <th>PoolQC</th>\n",
       "      <th>Fence</th>\n",
       "      <th>MiscFeature</th>\n",
       "      <th>MiscVal</th>\n",
       "      <th>MoSold</th>\n",
       "      <th>YrSold</th>\n",
       "      <th>SaleType</th>\n",
       "      <th>SaleCondition</th>\n",
       "      <th>SalePrice</th>\n",
       "    </tr>\n",
       "  </thead>\n",
       "  <tbody>\n",
       "    <tr>\n",
       "      <th>0</th>\n",
       "      <td>1</td>\n",
       "      <td>60</td>\n",
       "      <td>RL</td>\n",
       "      <td>65.0</td>\n",
       "      <td>8450</td>\n",
       "      <td>Pave</td>\n",
       "      <td>NaN</td>\n",
       "      <td>Reg</td>\n",
       "      <td>Lvl</td>\n",
       "      <td>AllPub</td>\n",
       "      <td>...</td>\n",
       "      <td>0</td>\n",
       "      <td>NaN</td>\n",
       "      <td>NaN</td>\n",
       "      <td>NaN</td>\n",
       "      <td>0</td>\n",
       "      <td>2</td>\n",
       "      <td>2008</td>\n",
       "      <td>WD</td>\n",
       "      <td>Normal</td>\n",
       "      <td>208500</td>\n",
       "    </tr>\n",
       "    <tr>\n",
       "      <th>1</th>\n",
       "      <td>2</td>\n",
       "      <td>20</td>\n",
       "      <td>RL</td>\n",
       "      <td>80.0</td>\n",
       "      <td>9600</td>\n",
       "      <td>Pave</td>\n",
       "      <td>NaN</td>\n",
       "      <td>Reg</td>\n",
       "      <td>Lvl</td>\n",
       "      <td>AllPub</td>\n",
       "      <td>...</td>\n",
       "      <td>0</td>\n",
       "      <td>NaN</td>\n",
       "      <td>NaN</td>\n",
       "      <td>NaN</td>\n",
       "      <td>0</td>\n",
       "      <td>5</td>\n",
       "      <td>2007</td>\n",
       "      <td>WD</td>\n",
       "      <td>Normal</td>\n",
       "      <td>181500</td>\n",
       "    </tr>\n",
       "    <tr>\n",
       "      <th>2</th>\n",
       "      <td>3</td>\n",
       "      <td>60</td>\n",
       "      <td>RL</td>\n",
       "      <td>68.0</td>\n",
       "      <td>11250</td>\n",
       "      <td>Pave</td>\n",
       "      <td>NaN</td>\n",
       "      <td>IR1</td>\n",
       "      <td>Lvl</td>\n",
       "      <td>AllPub</td>\n",
       "      <td>...</td>\n",
       "      <td>0</td>\n",
       "      <td>NaN</td>\n",
       "      <td>NaN</td>\n",
       "      <td>NaN</td>\n",
       "      <td>0</td>\n",
       "      <td>9</td>\n",
       "      <td>2008</td>\n",
       "      <td>WD</td>\n",
       "      <td>Normal</td>\n",
       "      <td>223500</td>\n",
       "    </tr>\n",
       "    <tr>\n",
       "      <th>3</th>\n",
       "      <td>4</td>\n",
       "      <td>70</td>\n",
       "      <td>RL</td>\n",
       "      <td>60.0</td>\n",
       "      <td>9550</td>\n",
       "      <td>Pave</td>\n",
       "      <td>NaN</td>\n",
       "      <td>IR1</td>\n",
       "      <td>Lvl</td>\n",
       "      <td>AllPub</td>\n",
       "      <td>...</td>\n",
       "      <td>0</td>\n",
       "      <td>NaN</td>\n",
       "      <td>NaN</td>\n",
       "      <td>NaN</td>\n",
       "      <td>0</td>\n",
       "      <td>2</td>\n",
       "      <td>2006</td>\n",
       "      <td>WD</td>\n",
       "      <td>Abnorml</td>\n",
       "      <td>140000</td>\n",
       "    </tr>\n",
       "    <tr>\n",
       "      <th>4</th>\n",
       "      <td>5</td>\n",
       "      <td>60</td>\n",
       "      <td>RL</td>\n",
       "      <td>84.0</td>\n",
       "      <td>14260</td>\n",
       "      <td>Pave</td>\n",
       "      <td>NaN</td>\n",
       "      <td>IR1</td>\n",
       "      <td>Lvl</td>\n",
       "      <td>AllPub</td>\n",
       "      <td>...</td>\n",
       "      <td>0</td>\n",
       "      <td>NaN</td>\n",
       "      <td>NaN</td>\n",
       "      <td>NaN</td>\n",
       "      <td>0</td>\n",
       "      <td>12</td>\n",
       "      <td>2008</td>\n",
       "      <td>WD</td>\n",
       "      <td>Normal</td>\n",
       "      <td>250000</td>\n",
       "    </tr>\n",
       "  </tbody>\n",
       "</table>\n",
       "<p>5 rows × 81 columns</p>\n",
       "</div>"
      ],
      "text/plain": [
       "   Id  MSSubClass MSZoning  LotFrontage  LotArea Street Alley LotShape  \\\n",
       "0   1          60       RL         65.0     8450   Pave   NaN      Reg   \n",
       "1   2          20       RL         80.0     9600   Pave   NaN      Reg   \n",
       "2   3          60       RL         68.0    11250   Pave   NaN      IR1   \n",
       "3   4          70       RL         60.0     9550   Pave   NaN      IR1   \n",
       "4   5          60       RL         84.0    14260   Pave   NaN      IR1   \n",
       "\n",
       "  LandContour Utilities    ...     PoolArea PoolQC Fence MiscFeature MiscVal  \\\n",
       "0         Lvl    AllPub    ...            0    NaN   NaN         NaN       0   \n",
       "1         Lvl    AllPub    ...            0    NaN   NaN         NaN       0   \n",
       "2         Lvl    AllPub    ...            0    NaN   NaN         NaN       0   \n",
       "3         Lvl    AllPub    ...            0    NaN   NaN         NaN       0   \n",
       "4         Lvl    AllPub    ...            0    NaN   NaN         NaN       0   \n",
       "\n",
       "  MoSold YrSold  SaleType  SaleCondition  SalePrice  \n",
       "0      2   2008        WD         Normal     208500  \n",
       "1      5   2007        WD         Normal     181500  \n",
       "2      9   2008        WD         Normal     223500  \n",
       "3      2   2006        WD        Abnorml     140000  \n",
       "4     12   2008        WD         Normal     250000  \n",
       "\n",
       "[5 rows x 81 columns]"
      ]
     },
     "execution_count": 3,
     "metadata": {},
     "output_type": "execute_result"
    }
   ],
   "source": [
    "df_train = pd.read_csv(base + 'train.csv')\n",
    "df_train.head()"
   ]
  },
  {
   "cell_type": "markdown",
   "metadata": {},
   "source": [
    "We won't need the 'id' column for now so we will drop it."
   ]
  },
  {
   "cell_type": "code",
   "execution_count": 4,
   "metadata": {},
   "outputs": [],
   "source": [
    "#df_train.drop('Id', axis='columns', inplace=True, errors='ignore')"
   ]
  },
  {
   "cell_type": "markdown",
   "metadata": {},
   "source": [
    "We will load the testing data too and drop its ids."
   ]
  },
  {
   "cell_type": "code",
   "execution_count": 5,
   "metadata": {
    "scrolled": true
   },
   "outputs": [
    {
     "data": {
      "text/html": [
       "<div>\n",
       "<style scoped>\n",
       "    .dataframe tbody tr th:only-of-type {\n",
       "        vertical-align: middle;\n",
       "    }\n",
       "\n",
       "    .dataframe tbody tr th {\n",
       "        vertical-align: top;\n",
       "    }\n",
       "\n",
       "    .dataframe thead th {\n",
       "        text-align: right;\n",
       "    }\n",
       "</style>\n",
       "<table border=\"1\" class=\"dataframe\">\n",
       "  <thead>\n",
       "    <tr style=\"text-align: right;\">\n",
       "      <th></th>\n",
       "      <th>Id</th>\n",
       "      <th>MSSubClass</th>\n",
       "      <th>MSZoning</th>\n",
       "      <th>LotFrontage</th>\n",
       "      <th>LotArea</th>\n",
       "      <th>Street</th>\n",
       "      <th>Alley</th>\n",
       "      <th>LotShape</th>\n",
       "      <th>LandContour</th>\n",
       "      <th>Utilities</th>\n",
       "      <th>...</th>\n",
       "      <th>ScreenPorch</th>\n",
       "      <th>PoolArea</th>\n",
       "      <th>PoolQC</th>\n",
       "      <th>Fence</th>\n",
       "      <th>MiscFeature</th>\n",
       "      <th>MiscVal</th>\n",
       "      <th>MoSold</th>\n",
       "      <th>YrSold</th>\n",
       "      <th>SaleType</th>\n",
       "      <th>SaleCondition</th>\n",
       "    </tr>\n",
       "  </thead>\n",
       "  <tbody>\n",
       "    <tr>\n",
       "      <th>0</th>\n",
       "      <td>1201</td>\n",
       "      <td>20</td>\n",
       "      <td>RL</td>\n",
       "      <td>71.0</td>\n",
       "      <td>9353</td>\n",
       "      <td>Pave</td>\n",
       "      <td>NaN</td>\n",
       "      <td>Reg</td>\n",
       "      <td>Lvl</td>\n",
       "      <td>AllPub</td>\n",
       "      <td>...</td>\n",
       "      <td>0</td>\n",
       "      <td>0</td>\n",
       "      <td>NaN</td>\n",
       "      <td>NaN</td>\n",
       "      <td>Shed</td>\n",
       "      <td>0</td>\n",
       "      <td>7</td>\n",
       "      <td>2006</td>\n",
       "      <td>Oth</td>\n",
       "      <td>Abnorml</td>\n",
       "    </tr>\n",
       "    <tr>\n",
       "      <th>1</th>\n",
       "      <td>1202</td>\n",
       "      <td>60</td>\n",
       "      <td>RL</td>\n",
       "      <td>80.0</td>\n",
       "      <td>10400</td>\n",
       "      <td>Pave</td>\n",
       "      <td>NaN</td>\n",
       "      <td>Reg</td>\n",
       "      <td>Lvl</td>\n",
       "      <td>AllPub</td>\n",
       "      <td>...</td>\n",
       "      <td>0</td>\n",
       "      <td>0</td>\n",
       "      <td>NaN</td>\n",
       "      <td>NaN</td>\n",
       "      <td>NaN</td>\n",
       "      <td>0</td>\n",
       "      <td>3</td>\n",
       "      <td>2009</td>\n",
       "      <td>WD</td>\n",
       "      <td>Normal</td>\n",
       "    </tr>\n",
       "    <tr>\n",
       "      <th>2</th>\n",
       "      <td>1203</td>\n",
       "      <td>50</td>\n",
       "      <td>RM</td>\n",
       "      <td>50.0</td>\n",
       "      <td>6000</td>\n",
       "      <td>Pave</td>\n",
       "      <td>NaN</td>\n",
       "      <td>Reg</td>\n",
       "      <td>Lvl</td>\n",
       "      <td>AllPub</td>\n",
       "      <td>...</td>\n",
       "      <td>0</td>\n",
       "      <td>0</td>\n",
       "      <td>NaN</td>\n",
       "      <td>NaN</td>\n",
       "      <td>NaN</td>\n",
       "      <td>0</td>\n",
       "      <td>5</td>\n",
       "      <td>2009</td>\n",
       "      <td>WD</td>\n",
       "      <td>Normal</td>\n",
       "    </tr>\n",
       "    <tr>\n",
       "      <th>3</th>\n",
       "      <td>1204</td>\n",
       "      <td>20</td>\n",
       "      <td>RL</td>\n",
       "      <td>75.0</td>\n",
       "      <td>9750</td>\n",
       "      <td>Pave</td>\n",
       "      <td>NaN</td>\n",
       "      <td>Reg</td>\n",
       "      <td>Lvl</td>\n",
       "      <td>AllPub</td>\n",
       "      <td>...</td>\n",
       "      <td>0</td>\n",
       "      <td>0</td>\n",
       "      <td>NaN</td>\n",
       "      <td>NaN</td>\n",
       "      <td>NaN</td>\n",
       "      <td>0</td>\n",
       "      <td>10</td>\n",
       "      <td>2009</td>\n",
       "      <td>WD</td>\n",
       "      <td>Normal</td>\n",
       "    </tr>\n",
       "    <tr>\n",
       "      <th>4</th>\n",
       "      <td>1205</td>\n",
       "      <td>20</td>\n",
       "      <td>RL</td>\n",
       "      <td>78.0</td>\n",
       "      <td>10140</td>\n",
       "      <td>Pave</td>\n",
       "      <td>NaN</td>\n",
       "      <td>Reg</td>\n",
       "      <td>Lvl</td>\n",
       "      <td>AllPub</td>\n",
       "      <td>...</td>\n",
       "      <td>0</td>\n",
       "      <td>0</td>\n",
       "      <td>NaN</td>\n",
       "      <td>MnPrv</td>\n",
       "      <td>NaN</td>\n",
       "      <td>0</td>\n",
       "      <td>7</td>\n",
       "      <td>2006</td>\n",
       "      <td>WD</td>\n",
       "      <td>Normal</td>\n",
       "    </tr>\n",
       "  </tbody>\n",
       "</table>\n",
       "<p>5 rows × 80 columns</p>\n",
       "</div>"
      ],
      "text/plain": [
       "     Id  MSSubClass MSZoning  LotFrontage  LotArea Street Alley LotShape  \\\n",
       "0  1201          20       RL         71.0     9353   Pave   NaN      Reg   \n",
       "1  1202          60       RL         80.0    10400   Pave   NaN      Reg   \n",
       "2  1203          50       RM         50.0     6000   Pave   NaN      Reg   \n",
       "3  1204          20       RL         75.0     9750   Pave   NaN      Reg   \n",
       "4  1205          20       RL         78.0    10140   Pave   NaN      Reg   \n",
       "\n",
       "  LandContour Utilities      ...       ScreenPorch PoolArea PoolQC  Fence  \\\n",
       "0         Lvl    AllPub      ...                 0        0    NaN    NaN   \n",
       "1         Lvl    AllPub      ...                 0        0    NaN    NaN   \n",
       "2         Lvl    AllPub      ...                 0        0    NaN    NaN   \n",
       "3         Lvl    AllPub      ...                 0        0    NaN    NaN   \n",
       "4         Lvl    AllPub      ...                 0        0    NaN  MnPrv   \n",
       "\n",
       "  MiscFeature MiscVal MoSold  YrSold  SaleType  SaleCondition  \n",
       "0        Shed       0      7    2006       Oth        Abnorml  \n",
       "1         NaN       0      3    2009        WD         Normal  \n",
       "2         NaN       0      5    2009        WD         Normal  \n",
       "3         NaN       0     10    2009        WD         Normal  \n",
       "4         NaN       0      7    2006        WD         Normal  \n",
       "\n",
       "[5 rows x 80 columns]"
      ]
     },
     "execution_count": 5,
     "metadata": {},
     "output_type": "execute_result"
    }
   ],
   "source": [
    "df_test = pd.read_csv(base + 'test.csv')\n",
    "#df_test.drop('Id', axis='columns', inplace=True, errors='ignore')\n",
    "df_test.head()"
   ]
  },
  {
   "cell_type": "markdown",
   "metadata": {},
   "source": [
    "## Sale Price"
   ]
  },
  {
   "cell_type": "markdown",
   "metadata": {},
   "source": [
    "The train dataframe contains a column more than the test dataframe. This column is the sale price.\n",
    "\n",
    "In order to have a first view of our data we will plot the sale prices of the train data."
   ]
  },
  {
   "cell_type": "code",
   "execution_count": 6,
   "metadata": {},
   "outputs": [
    {
     "name": "stdout",
     "output_type": "stream",
     "text": [
      "count      1200.000000\n",
      "mean     181414.628333\n",
      "std       81070.908544\n",
      "min       34900.000000\n",
      "25%      129900.000000\n",
      "50%      163700.000000\n",
      "75%      214000.000000\n",
      "max      755000.000000\n",
      "Name: SalePrice, dtype: float64\n"
     ]
    },
    {
     "data": {
      "image/png": "[encoded data removed]",
      "text/plain": [
       "<matplotlib.figure.Figure at 0x1a0ce8bdd8>"
      ]
     },
     "metadata": {},
     "output_type": "display_data"
    }
   ],
   "source": [
    "print(df_train['SalePrice'].describe())\n",
    "sns.distplot(df_train['SalePrice']);"
   ]
  },
  {
   "cell_type": "code",
   "execution_count": 7,
   "metadata": {},
   "outputs": [
    {
     "name": "stdout",
     "output_type": "stream",
     "text": [
      "Skewness of the log(SalePrice) : 0.132714 \n",
      "Kurtosis of the log(SalePrice) : 0.888850 \n"
     ]
    },
    {
     "data": {
      "image/png": "[encoded data removed]",
      "text/plain": [
       "<matplotlib.figure.Figure at 0x1058d3080>"
      ]
     },
     "metadata": {},
     "output_type": "display_data"
    }
   ],
   "source": [
    "logSalePrice = np.log(df_train['SalePrice'])\n",
    "sns.distplot(logSalePrice)\n",
    "print(\"Skewness of the log(SalePrice) : %f \" % logSalePrice.skew())\n",
    "print(\"Kurtosis of the log(SalePrice) : %f \" % logSalePrice.kurt())"
   ]
  },
  {
   "cell_type": "markdown",
   "metadata": {},
   "source": [
    "The log sale price seems to follow a normal distribution. We will apply log to the saleprice in the dataframe."
   ]
  },
  {
   "cell_type": "code",
   "execution_count": 8,
   "metadata": {},
   "outputs": [],
   "source": [
    "df_train.SalePrice = np.log(df_train.SalePrice)"
   ]
  },
  {
   "cell_type": "markdown",
   "metadata": {},
   "source": [
    " Now that we have transformed the sale price we will try to get a broad idea of how each integer parameter influence sale price."
   ]
  },
  {
   "cell_type": "code",
   "execution_count": 9,
   "metadata": {},
   "outputs": [
    {
     "name": "stdout",
     "output_type": "stream",
     "text": [
      "Correlation plot\n"
     ]
    },
    {
     "data": {
      "image/png": "[encoded data removed]",
      "text/plain": [
       "<matplotlib.figure.Figure at 0x1065b6ef0>"
      ]
     },
     "metadata": {},
     "output_type": "display_data"
    }
   ],
   "source": [
    "plotCorrelation(df_train)"
   ]
  },
  {
   "cell_type": "code",
   "execution_count": 10,
   "metadata": {
    "scrolled": true
   },
   "outputs": [
    {
     "data": {
      "text/plain": [
       "OverallQual      0.818680\n",
       "GrLivArea        0.728163\n",
       "GarageCars       0.681809\n",
       "GarageArea       0.651121\n",
       "TotalBsmtSF      0.641615\n",
       "1stFlrSF         0.610721\n",
       "FullBath         0.607066\n",
       "YearBuilt        0.590738\n",
       "YearRemodAdd     0.573284\n",
       "TotRmsAbvGrd     0.554775\n",
       "GarageYrBlt      0.547910\n",
       "Fireplaces       0.482342\n",
       "MasVnrArea       0.434735\n",
       "BsmtFinSF1       0.391919\n",
       "LotFrontage      0.384962\n",
       "2ndFlrSF         0.342669\n",
       "HalfBath         0.329854\n",
       "WoodDeckSF       0.326965\n",
       "OpenPorchSF      0.321166\n",
       "LotArea          0.257998\n",
       "BsmtFullBath     0.229916\n",
       "BedroomAbvGr     0.223166\n",
       "BsmtUnfSF        0.215729\n",
       "ScreenPorch      0.127515\n",
       "PoolArea         0.066878\n",
       "MoSold           0.059042\n",
       "3SsnPorch        0.037274\n",
       "BsmtFinSF2       0.012786\n",
       "BsmtHalfBath    -0.007152\n",
       "Id              -0.021938\n",
       "MiscVal         -0.039808\n",
       "OverallCond     -0.040769\n",
       "LowQualFinSF    -0.042014\n",
       "YrSold          -0.050896\n",
       "MSSubClass      -0.068837\n",
       "EnclosedPorch   -0.139652\n",
       "KitchenAbvGr    -0.147374\n",
       "Name: SalePrice, dtype: float64"
      ]
     },
     "execution_count": 10,
     "metadata": {},
     "output_type": "execute_result"
    }
   ],
   "source": [
    "df_train.corr().SalePrice.sort_values(ascending=False).drop('SalePrice')"
   ]
  },
  {
   "cell_type": "markdown",
   "metadata": {},
   "source": [
    "Thanks to the correlation matrix we are able to get a first view of the most important parameters. However the data is not clean yet and the previous information even if very intresting isn't enough. Let's analyze each parameter but first we will print the number of missing values per column."
   ]
  },
  {
   "cell_type": "code",
   "execution_count": 11,
   "metadata": {},
   "outputs": [],
   "source": [
    "df = pd.concat([df_train.drop(columns=['SalePrice']), df_test])"
   ]
  },
  {
   "cell_type": "markdown",
   "metadata": {},
   "source": [
    "## Fixing missing parameters"
   ]
  },
  {
   "cell_type": "code",
   "execution_count": 12,
   "metadata": {
    "scrolled": false
   },
   "outputs": [
    {
     "name": "stdout",
     "output_type": "stream",
     "text": [
      "PoolQC          1453\n",
      "MiscFeature     1406\n",
      "Alley           1369\n",
      "Fence           1179\n",
      "FireplaceQu      690\n",
      "LotFrontage      259\n",
      "GarageYrBlt       81\n",
      "GarageType        81\n",
      "GarageFinish      81\n",
      "GarageQual        81\n",
      "GarageCond        81\n",
      "BsmtFinType2      38\n",
      "BsmtExposure      38\n",
      "BsmtFinType1      37\n",
      "BsmtCond          37\n",
      "BsmtQual          37\n",
      "MasVnrArea         8\n",
      "MasVnrType         8\n",
      "Electrical         1\n",
      "dtype: int64\n",
      "\n",
      "Total of null values :  6965\n"
     ]
    }
   ],
   "source": [
    "missingValues = df.isnull().sum()\n",
    "print(missingValues[missingValues.values != 0].sort_values(ascending=False))\n",
    "print('\\nTotal of null values : ', missingValues.sum())"
   ]
  },
  {
   "cell_type": "markdown",
   "metadata": {},
   "source": [
    "We have a lot of missing parameters in our data set. We will fill those parameters as best as we can with the description of the data gaved in annex and also by trying to make educative guesses."
   ]
  },
  {
   "cell_type": "markdown",
   "metadata": {},
   "source": [
    "### PoolQC"
   ]
  },
  {
   "cell_type": "code",
   "execution_count": 13,
   "metadata": {
    "scrolled": true
   },
   "outputs": [
    {
     "name": "stdout",
     "output_type": "stream",
     "text": [
      "Values of PoolQC  ['Ex' 'Fa' 'Gd']\n"
     ]
    }
   ],
   "source": [
    "print('Values of PoolQC ', np.unique(df.PoolQC.dropna().values))"
   ]
  },
  {
   "cell_type": "markdown",
   "metadata": {},
   "source": [
    "As in real life most houses doesn't have a pool and this explains why we have 1410 \"missing\" entries for this parameters. Since the existing values for this feature represent a rating we will fill the nan with the string 'Na'. We will take care of this rating system in the next part of the notebook."
   ]
  },
  {
   "cell_type": "code",
   "execution_count": 14,
   "metadata": {},
   "outputs": [],
   "source": [
    "df.PoolQC.replace(np.nan,'Na',inplace=True)"
   ]
  },
  {
   "cell_type": "markdown",
   "metadata": {},
   "source": [
    "### MiscFeature"
   ]
  },
  {
   "cell_type": "code",
   "execution_count": 15,
   "metadata": {
    "scrolled": true
   },
   "outputs": [
    {
     "name": "stdout",
     "output_type": "stream",
     "text": [
      "Values of MiscFeature  ['Gar2' 'Othr' 'Shed' 'TenC']\n"
     ]
    }
   ],
   "source": [
    "print('Values of MiscFeature ', np.unique(df.MiscFeature.dropna().values))"
   ]
  },
  {
   "cell_type": "code",
   "execution_count": 16,
   "metadata": {},
   "outputs": [],
   "source": [
    "df.MiscFeature.replace(np.nan,'Na',inplace=True)"
   ]
  },
  {
   "cell_type": "markdown",
   "metadata": {},
   "source": [
    "### Alley"
   ]
  },
  {
   "cell_type": "code",
   "execution_count": 17,
   "metadata": {
    "scrolled": true
   },
   "outputs": [
    {
     "name": "stdout",
     "output_type": "stream",
     "text": [
      "Values of Alley  ['Grvl' 'Pave']\n"
     ]
    }
   ],
   "source": [
    "print('Values of Alley ', np.unique(df.Alley.dropna().values))"
   ]
  },
  {
   "cell_type": "code",
   "execution_count": 18,
   "metadata": {},
   "outputs": [],
   "source": [
    "df.Alley.replace(np.nan,'Na',inplace=True)"
   ]
  },
  {
   "cell_type": "markdown",
   "metadata": {},
   "source": [
    "### Fence"
   ]
  },
  {
   "cell_type": "code",
   "execution_count": 19,
   "metadata": {
    "scrolled": true
   },
   "outputs": [
    {
     "name": "stdout",
     "output_type": "stream",
     "text": [
      "Values of Fence  ['GdPrv' 'GdWo' 'MnPrv' 'MnWw']\n"
     ]
    }
   ],
   "source": [
    "print('Values of Fence ', np.unique(df.Fence.dropna().values))"
   ]
  },
  {
   "cell_type": "code",
   "execution_count": 20,
   "metadata": {},
   "outputs": [],
   "source": [
    "df.Fence.replace(np.nan,'Na',inplace=True)"
   ]
  },
  {
   "cell_type": "markdown",
   "metadata": {},
   "source": [
    "### FireplaceQu"
   ]
  },
  {
   "cell_type": "code",
   "execution_count": 21,
   "metadata": {
    "scrolled": true
   },
   "outputs": [
    {
     "name": "stdout",
     "output_type": "stream",
     "text": [
      "Values of FireplaceQu  ['Ex' 'Fa' 'Gd' 'Po' 'TA']\n"
     ]
    }
   ],
   "source": [
    "print('Values of FireplaceQu ', np.unique(df.FireplaceQu.dropna().values))"
   ]
  },
  {
   "cell_type": "code",
   "execution_count": 22,
   "metadata": {},
   "outputs": [],
   "source": [
    "df.FireplaceQu.replace(np.nan,'Na',inplace=True)"
   ]
  },
  {
   "cell_type": "markdown",
   "metadata": {},
   "source": [
    "## GARAGE\n",
    "\n",
    "Here we observe that information is missing for 74 houses. Moreover we saw that the area of the garage is highly correlated to the house pricing. "
   ]
  },
  {
   "cell_type": "code",
   "execution_count": 23,
   "metadata": {
    "scrolled": true
   },
   "outputs": [
    {
     "name": "stdout",
     "output_type": "stream",
     "text": [
      "Values of GarageCond  ['Ex' 'Fa' 'Gd' 'Po' 'TA']\n"
     ]
    }
   ],
   "source": [
    "print('Values of GarageCond ', np.unique(df.GarageCond.dropna().values))"
   ]
  },
  {
   "cell_type": "code",
   "execution_count": 24,
   "metadata": {},
   "outputs": [],
   "source": [
    "df.GarageCond.replace(np.nan,'Na',inplace=True)"
   ]
  },
  {
   "cell_type": "markdown",
   "metadata": {},
   "source": [
    "- ### GarageQual"
   ]
  },
  {
   "cell_type": "code",
   "execution_count": 25,
   "metadata": {
    "scrolled": true
   },
   "outputs": [
    {
     "name": "stdout",
     "output_type": "stream",
     "text": [
      "Values of GarageQual  ['Ex' 'Fa' 'Gd' 'Po' 'TA']\n"
     ]
    }
   ],
   "source": [
    "print('Values of GarageQual ', np.unique(df.GarageQual.dropna().values))"
   ]
  },
  {
   "cell_type": "code",
   "execution_count": 26,
   "metadata": {},
   "outputs": [],
   "source": [
    "df.GarageQual.replace(np.nan,'Na',inplace=True)"
   ]
  },
  {
   "cell_type": "markdown",
   "metadata": {},
   "source": [
    "- ### GarageYrBlt ###"
   ]
  },
  {
   "cell_type": "code",
   "execution_count": 27,
   "metadata": {
    "scrolled": true
   },
   "outputs": [
    {
     "name": "stdout",
     "output_type": "stream",
     "text": [
      "Values of GarageYrBlt  [1900. 1906. 1908. 1910. 1914. 1915. 1916. 1918. 1920. 1921. 1922. 1923.\n",
      " 1924. 1925. 1926. 1927. 1928. 1929. 1930. 1931. 1932. 1933. 1934. 1935.\n",
      " 1936. 1937. 1938. 1939. 1940. 1941. 1942. 1945. 1946. 1947. 1948. 1949.\n",
      " 1950. 1951. 1952. 1953. 1954. 1955. 1956. 1957. 1958. 1959. 1960. 1961.\n",
      " 1962. 1963. 1964. 1965. 1966. 1967. 1968. 1969. 1970. 1971. 1972. 1973.\n",
      " 1974. 1975. 1976. 1977. 1978. 1979. 1980. 1981. 1982. 1983. 1984. 1985.\n",
      " 1986. 1987. 1988. 1989. 1990. 1991. 1992. 1993. 1994. 1995. 1996. 1997.\n",
      " 1998. 1999. 2000. 2001. 2002. 2003. 2004. 2005. 2006. 2007. 2008. 2009.\n",
      " 2010.]\n"
     ]
    }
   ],
   "source": [
    "print('Values of GarageYrBlt ', np.unique(df.GarageYrBlt.dropna().values))"
   ]
  },
  {
   "cell_type": "code",
   "execution_count": 28,
   "metadata": {},
   "outputs": [],
   "source": [
    "df.GarageYrBlt.replace(np.nan,0,inplace=True) #We use 0 to keep the type consistent."
   ]
  },
  {
   "cell_type": "markdown",
   "metadata": {},
   "source": [
    "- ### GarageFinish ###"
   ]
  },
  {
   "cell_type": "code",
   "execution_count": 29,
   "metadata": {
    "scrolled": true
   },
   "outputs": [
    {
     "name": "stdout",
     "output_type": "stream",
     "text": [
      "Values of GarageFinish  ['Fin' 'RFn' 'Unf']\n"
     ]
    }
   ],
   "source": [
    "print('Values of GarageFinish ', np.unique(df.GarageFinish.dropna().values))"
   ]
  },
  {
   "cell_type": "code",
   "execution_count": 30,
   "metadata": {},
   "outputs": [],
   "source": [
    "df.GarageFinish.replace(np.nan,'Na',inplace=True)"
   ]
  },
  {
   "cell_type": "markdown",
   "metadata": {},
   "source": [
    "- ### GarageType ###"
   ]
  },
  {
   "cell_type": "code",
   "execution_count": 31,
   "metadata": {
    "scrolled": true
   },
   "outputs": [
    {
     "name": "stdout",
     "output_type": "stream",
     "text": [
      "Values of GarageType  ['2Types' 'Attchd' 'Basment' 'BuiltIn' 'CarPort' 'Detchd']\n"
     ]
    }
   ],
   "source": [
    "print('Values of GarageType ', np.unique(df.GarageType.dropna().values))"
   ]
  },
  {
   "cell_type": "code",
   "execution_count": 32,
   "metadata": {},
   "outputs": [],
   "source": [
    "df.GarageType.replace(np.nan,'Na',inplace=True)"
   ]
  },
  {
   "cell_type": "markdown",
   "metadata": {},
   "source": [
    "### BsmtFinType2"
   ]
  },
  {
   "cell_type": "code",
   "execution_count": 33,
   "metadata": {
    "scrolled": true
   },
   "outputs": [
    {
     "name": "stdout",
     "output_type": "stream",
     "text": [
      "Values of BsmtFinType2  ['ALQ' 'BLQ' 'GLQ' 'LwQ' 'Rec' 'Unf']\n"
     ]
    }
   ],
   "source": [
    "print('Values of BsmtFinType2 ', np.unique(df.BsmtFinType2.dropna().values))"
   ]
  },
  {
   "cell_type": "code",
   "execution_count": 34,
   "metadata": {},
   "outputs": [],
   "source": [
    "df.BsmtFinType2.replace(np.nan,'Na',inplace=True)"
   ]
  },
  {
   "cell_type": "markdown",
   "metadata": {},
   "source": [
    "### BsmtExposure"
   ]
  },
  {
   "cell_type": "code",
   "execution_count": 35,
   "metadata": {
    "scrolled": true
   },
   "outputs": [
    {
     "name": "stdout",
     "output_type": "stream",
     "text": [
      "Values of BsmtExposure  ['Av' 'Gd' 'Mn' 'No']\n"
     ]
    }
   ],
   "source": [
    "print('Values of BsmtExposure ', np.unique(df.BsmtExposure.dropna().values))"
   ]
  },
  {
   "cell_type": "code",
   "execution_count": 36,
   "metadata": {},
   "outputs": [],
   "source": [
    "df.BsmtExposure.replace(np.nan,'Na',inplace=True)"
   ]
  },
  {
   "cell_type": "markdown",
   "metadata": {},
   "source": [
    "### BsmtFinType1"
   ]
  },
  {
   "cell_type": "code",
   "execution_count": 37,
   "metadata": {
    "scrolled": true
   },
   "outputs": [
    {
     "name": "stdout",
     "output_type": "stream",
     "text": [
      "Values of BsmtFinType1  ['ALQ' 'BLQ' 'GLQ' 'LwQ' 'Rec' 'Unf']\n"
     ]
    }
   ],
   "source": [
    "print('Values of BsmtFinType1 ', np.unique(df.BsmtFinType1.dropna().values))"
   ]
  },
  {
   "cell_type": "code",
   "execution_count": 38,
   "metadata": {},
   "outputs": [],
   "source": [
    "df.BsmtFinType1.replace(np.nan,'Na',inplace=True)"
   ]
  },
  {
   "cell_type": "markdown",
   "metadata": {},
   "source": [
    "### BsmtCond"
   ]
  },
  {
   "cell_type": "code",
   "execution_count": 39,
   "metadata": {
    "scrolled": true
   },
   "outputs": [
    {
     "name": "stdout",
     "output_type": "stream",
     "text": [
      "Values of BsmtCond  ['Fa' 'Gd' 'Po' 'TA']\n"
     ]
    }
   ],
   "source": [
    "print('Values of BsmtCond ', np.unique(df.BsmtCond.dropna().values))"
   ]
  },
  {
   "cell_type": "code",
   "execution_count": 40,
   "metadata": {},
   "outputs": [],
   "source": [
    "df.BsmtCond.replace(np.nan,'Na',inplace=True)"
   ]
  },
  {
   "cell_type": "markdown",
   "metadata": {},
   "source": [
    "### BsmtQual"
   ]
  },
  {
   "cell_type": "code",
   "execution_count": 41,
   "metadata": {
    "scrolled": true
   },
   "outputs": [
    {
     "name": "stdout",
     "output_type": "stream",
     "text": [
      "Values of BsmtQual  ['Ex' 'Fa' 'Gd' 'TA']\n"
     ]
    }
   ],
   "source": [
    "print('Values of BsmtQual ', np.unique(df.BsmtQual.dropna().values))"
   ]
  },
  {
   "cell_type": "code",
   "execution_count": 42,
   "metadata": {},
   "outputs": [],
   "source": [
    "df.BsmtQual.replace(np.nan,'Na',inplace=True)"
   ]
  },
  {
   "cell_type": "markdown",
   "metadata": {},
   "source": [
    "### MasVnrArea"
   ]
  },
  {
   "cell_type": "code",
   "execution_count": 43,
   "metadata": {
    "scrolled": true
   },
   "outputs": [
    {
     "name": "stdout",
     "output_type": "stream",
     "text": [
      "Values of MasVnrArea (extract) [ 0.  1. 11. 14. 16. 18. 22. 24. 27. 28.]\n"
     ]
    }
   ],
   "source": [
    "print('Values of MasVnrArea (extract)', np.unique(df.MasVnrArea.dropna().values)[:10])"
   ]
  },
  {
   "cell_type": "code",
   "execution_count": 44,
   "metadata": {},
   "outputs": [],
   "source": [
    "df.MasVnrArea.replace(np.nan,0,inplace=True)"
   ]
  },
  {
   "cell_type": "markdown",
   "metadata": {},
   "source": [
    "### MasVnrType"
   ]
  },
  {
   "cell_type": "code",
   "execution_count": 45,
   "metadata": {
    "scrolled": true
   },
   "outputs": [
    {
     "name": "stdout",
     "output_type": "stream",
     "text": [
      "Values of MasVnrType  ['BrkCmn' 'BrkFace' 'None' 'Stone']\n"
     ]
    }
   ],
   "source": [
    "print('Values of MasVnrType ', np.unique(df.MasVnrType.dropna().values))"
   ]
  },
  {
   "cell_type": "code",
   "execution_count": 46,
   "metadata": {},
   "outputs": [],
   "source": [
    "df.MasVnrType.replace(np.nan,'None',inplace=True)"
   ]
  },
  {
   "cell_type": "markdown",
   "metadata": {},
   "source": [
    "### Electrical"
   ]
  },
  {
   "cell_type": "code",
   "execution_count": 47,
   "metadata": {
    "scrolled": true
   },
   "outputs": [
    {
     "name": "stdout",
     "output_type": "stream",
     "text": [
      "Values of Electrical  ['FuseA' 'FuseF' 'FuseP' 'Mix' 'SBrkr']\n"
     ]
    }
   ],
   "source": [
    "print('Values of Electrical ', np.unique(df.Electrical.dropna().values))"
   ]
  },
  {
   "cell_type": "code",
   "execution_count": 48,
   "metadata": {},
   "outputs": [
    {
     "data": {
      "image/png": "[encoded data removed]",
      "text/plain": [
       "<matplotlib.figure.Figure at 0x1a0cf8d390>"
      ]
     },
     "metadata": {},
     "output_type": "display_data"
    }
   ],
   "source": [
    "sns.countplot(x=\"Electrical\", data=df, palette=\"PRGn\");"
   ]
  },
  {
   "cell_type": "code",
   "execution_count": 49,
   "metadata": {},
   "outputs": [],
   "source": [
    "df.Electrical.replace(np.nan,'SBrkr',inplace=True) #Replace with the most commun."
   ]
  },
  {
   "cell_type": "markdown",
   "metadata": {},
   "source": [
    "### LotFrontage"
   ]
  },
  {
   "cell_type": "code",
   "execution_count": 50,
   "metadata": {},
   "outputs": [
    {
     "name": "stdout",
     "output_type": "stream",
     "text": [
      "Values of LotFrontage  [ 21.  24.  30.  32.  33.  34.  35.  36.  37.  38.  39.  40.  41.  42.\n",
      "  43.  44.  45.  46.  47.  48.  49.  50.  51.  52.  53.  54.  55.  56.\n",
      "  57.  58.  59.  60.  61.  62.  63.  64.  65.  66.  67.  68.  69.  70.\n",
      "  71.  72.  73.  74.  75.  76.  77.  78.  79.  80.  81.  82.  83.  84.\n",
      "  85.  86.  87.  88.  89.  90.  91.  92.  93.  94.  95.  96.  97.  98.\n",
      "  99. 100. 101. 102. 103. 104. 105. 106. 107. 108. 109. 110. 111. 112.\n",
      " 114. 115. 116. 118. 120. 121. 122. 124. 128. 129. 130. 134. 137. 138.\n",
      " 140. 141. 144. 149. 150. 152. 153. 160. 168. 174. 182. 313.]\n"
     ]
    }
   ],
   "source": [
    "print('Values of LotFrontage ', np.unique(df.LotFrontage.dropna().values))"
   ]
  },
  {
   "cell_type": "markdown",
   "metadata": {},
   "source": [
    "Since it represents the linear feet of street connected to property we might want to approximate the value by the medium of all the houses. Let's plot the value of the Lot Frontage."
   ]
  },
  {
   "cell_type": "code",
   "execution_count": 51,
   "metadata": {
    "scrolled": true
   },
   "outputs": [
    {
     "data": {
      "image/png": "[encoded data removed]",
      "text/plain": [
       "<matplotlib.figure.Figure at 0x1a0d53fc18>"
      ]
     },
     "metadata": {},
     "output_type": "display_data"
    }
   ],
   "source": [
    "# Set up the matplotlib figure\n",
    "f, ax = plt.subplots(figsize=(9, 5))\n",
    "sns.distplot(df.LotFrontage.dropna())\n",
    "sns.despine(offset=10, trim=True)"
   ]
  },
  {
   "cell_type": "code",
   "execution_count": 52,
   "metadata": {
    "scrolled": true
   },
   "outputs": [
    {
     "data": {
      "text/plain": [
       "count    1201.000000\n",
       "mean       70.049958\n",
       "std        24.284752\n",
       "min        21.000000\n",
       "25%        59.000000\n",
       "50%        69.000000\n",
       "75%        80.000000\n",
       "max       313.000000\n",
       "Name: LotFrontage, dtype: float64"
      ]
     },
     "execution_count": 52,
     "metadata": {},
     "output_type": "execute_result"
    }
   ],
   "source": [
    "df.LotFrontage.describe()"
   ]
  },
  {
   "cell_type": "markdown",
   "metadata": {},
   "source": [
    "We can see there are some outliers. with more than 200 LotFrontage. Maybe a more resonable way to interpret fill the data would be to use the median of the neighboorhood."
   ]
  },
  {
   "cell_type": "code",
   "execution_count": 53,
   "metadata": {},
   "outputs": [
    {
     "data": {
      "image/png": "[encoded data removed]",
      "text/plain": [
       "<matplotlib.figure.Figure at 0x1a0d507dd8>"
      ]
     },
     "metadata": {},
     "output_type": "display_data"
    }
   ],
   "source": [
    "f, ax = plt.subplots(figsize=(20, 6))\n",
    "sns.boxplot(x=\"Neighborhood\", y=\"LotFrontage\", data=df_train, palette=\"PRGn\")\n",
    "sns.despine(offset=10, trim=True)"
   ]
  },
  {
   "cell_type": "code",
   "execution_count": 54,
   "metadata": {},
   "outputs": [],
   "source": [
    "NeighborhoodMedianLotFrontage = {}\n",
    "for n in np.unique(df.Neighborhood.values):\n",
    "    NeighborhoodMedianLotFrontage[n] = df[df.Neighborhood == n].LotFrontage.dropna().median()"
   ]
  },
  {
   "cell_type": "code",
   "execution_count": 55,
   "metadata": {},
   "outputs": [],
   "source": [
    "df.LotFrontage = df.apply(lambda row: NeighborhoodMedianLotFrontage[row['Neighborhood']] if np.isnan(row['LotFrontage']) else row['LotFrontage'], axis=1)"
   ]
  },
  {
   "cell_type": "code",
   "execution_count": 56,
   "metadata": {},
   "outputs": [
    {
     "data": {
      "image/png": "[encoded data removed]",
      "text/plain": [
       "<matplotlib.figure.Figure at 0x1065d0c88>"
      ]
     },
     "metadata": {},
     "output_type": "display_data"
    }
   ],
   "source": [
    "df.LotFrontage.dropna()\n",
    "sns.distplot(df.LotFrontage.dropna())\n",
    "sns.despine(offset=10, trim=True)"
   ]
  },
  {
   "cell_type": "code",
   "execution_count": 57,
   "metadata": {
    "scrolled": false
   },
   "outputs": [
    {
     "name": "stdout",
     "output_type": "stream",
     "text": [
      "\n",
      "Total of missing values :  0\n"
     ]
    }
   ],
   "source": [
    "missingValues = df.isnull().sum()\n",
    "print('\\nTotal of missing values : ', missingValues.sum())"
   ]
  },
  {
   "cell_type": "markdown",
   "metadata": {},
   "source": [
    "We succeed in filling the missing values of our dataset. Now we will analyze the data in order to deal with the outliers that we might have."
   ]
  },
  {
   "cell_type": "code",
   "execution_count": 58,
   "metadata": {},
   "outputs": [],
   "source": [
    "df_train = df[:len(df_train)]\n",
    "df_train_with_salePrice = df_train\n",
    "df_train_with_salePrice['SalePrice'] = logSalePrice\n",
    "df_test = df[len(df_train):]"
   ]
  },
  {
   "cell_type": "code",
   "execution_count": 59,
   "metadata": {},
   "outputs": [],
   "source": [
    "dftwsp = df_train_with_salePrice"
   ]
  },
  {
   "cell_type": "markdown",
   "metadata": {},
   "source": [
    "Now that we have completed the data, we split it again."
   ]
  },
  {
   "cell_type": "markdown",
   "metadata": {},
   "source": [
    "# Outlier Removing #"
   ]
  },
  {
   "cell_type": "markdown",
   "metadata": {},
   "source": [
    "We are going to have a first look at every highly correlated with sale price features:\n",
    "- OverallQual      0.818680\n",
    "- GrLivArea        0.728163\n",
    "- GarageCars       0.681809\n",
    "- GarageArea       0.651121\n",
    "- TotalBsmtSF      0.641615\n",
    "- 1stFlrSF         0.610721\n",
    "- FullBath         0.607066\n",
    "- YearBuilt        0.590738\n",
    "- YearRemodAdd     0.573284\n",
    "- TotRmsAbvGrd     0.554775\n",
    "- GarageYrBlt      0.547910\n"
   ]
  },
  {
   "cell_type": "markdown",
   "metadata": {},
   "source": [
    "### OverallQual ###"
   ]
  },
  {
   "cell_type": "code",
   "execution_count": 60,
   "metadata": {
    "scrolled": true
   },
   "outputs": [
    {
     "data": {
      "image/png": "[encoded data removed]",
      "text/plain": [
       "<matplotlib.figure.Figure at 0x1a0d588f60>"
      ]
     },
     "metadata": {},
     "output_type": "display_data"
    }
   ],
   "source": [
    "sns.stripplot(x=\"OverallQual\", y=\"SalePrice\", data=df_train_with_salePrice, jitter=True);"
   ]
  },
  {
   "cell_type": "markdown",
   "metadata": {},
   "source": [
    "We can identify quite easily some outliers. Let's get their ids."
   ]
  },
  {
   "cell_type": "code",
   "execution_count": 61,
   "metadata": {},
   "outputs": [
    {
     "name": "stdout",
     "output_type": "stream",
     "text": [
      "Outlier for OverralQual = 3 :  [969]\n",
      "Outlier for OverralQual = 4 :  [31, 458, 496]\n",
      "Outlier for OverralQual = 7 :  [633]\n",
      "Outlier for OverralQual = 10 :  [524]\n"
     ]
    }
   ],
   "source": [
    "print(\"Outlier for OverralQual = 3 : \", list(dftwsp[(dftwsp.OverallQual==3) & (dftwsp.SalePrice<=10.6)].Id))\n",
    "print(\"Outlier for OverralQual = 4 : \", list(dftwsp[(dftwsp.OverallQual==4) & ((dftwsp.SalePrice<=10.7) | (dftwsp.SalePrice>12.4))].Id))\n",
    "print(\"Outlier for OverralQual = 7 : \", list(dftwsp[(dftwsp.OverallQual==7) & (dftwsp.SalePrice<=11.5)].Id))\n",
    "print(\"Outlier for OverralQual = 10 : \", list(dftwsp[(dftwsp.OverallQual==10) & (dftwsp.SalePrice<=12.6)].Id))"
   ]
  },
  {
   "cell_type": "markdown",
   "metadata": {},
   "source": [
    "### GrLivArea ###"
   ]
  },
  {
   "cell_type": "code",
   "execution_count": 62,
   "metadata": {},
   "outputs": [
    {
     "data": {
      "image/png": "[encoded data removed]",
      "text/plain": [
       "<matplotlib.figure.Figure at 0x1a0d549a20>"
      ]
     },
     "metadata": {},
     "output_type": "display_data"
    }
   ],
   "source": [
    "sns.regplot(x=\"GrLivArea\", y=\"SalePrice\", data=dftwsp, fit_reg=True);"
   ]
  },
  {
   "cell_type": "code",
   "execution_count": 63,
   "metadata": {},
   "outputs": [
    {
     "name": "stdout",
     "output_type": "stream",
     "text": [
      "Outlier for GrLivArea :  [524]\n",
      "Outlier for GrLivArea :  [31, 496, 534, 917, 969]\n"
     ]
    }
   ],
   "source": [
    "print(\"Outlier for GrLivArea : \", list(dftwsp[(dftwsp.GrLivArea>4000) & (dftwsp.SalePrice<=13)].Id))\n",
    "print(\"Outlier for GrLivArea : \", list(dftwsp[(dftwsp.SalePrice<=10.75)].Id))"
   ]
  },
  {
   "cell_type": "markdown",
   "metadata": {},
   "source": [
    "### GarageCars ###"
   ]
  },
  {
   "cell_type": "code",
   "execution_count": 64,
   "metadata": {},
   "outputs": [
    {
     "data": {
      "image/png": "[encoded data removed]",
      "text/plain": [
       "<matplotlib.figure.Figure at 0x1a165e5f60>"
      ]
     },
     "metadata": {},
     "output_type": "display_data"
    }
   ],
   "source": [
    "sns.stripplot(x=\"GarageCars\", y=\"SalePrice\", data=df_train_with_salePrice, jitter=True);"
   ]
  },
  {
   "cell_type": "code",
   "execution_count": 65,
   "metadata": {},
   "outputs": [
    {
     "name": "stdout",
     "output_type": "stream",
     "text": [
      "Outlier for GarageCars = 0 or 1 :  [31, 496, 534, 917, 969]\n",
      "Outlier for GarageCars = 2 :  [813]\n",
      "Outlier for GarageCars = 3 :  [457, 677, 729, 1062]\n",
      "GarageCars = 4 :  [421, 748, 1191]\n"
     ]
    }
   ],
   "source": [
    "print(\"Outlier for GarageCars = 0 or 1 : \", list(dftwsp[dftwsp.SalePrice<=10.75].Id))\n",
    "print(\"Outlier for GarageCars = 2 : \", list(dftwsp[(dftwsp.GarageCars==2) & ((dftwsp.SalePrice<=11))].Id))\n",
    "print(\"Outlier for GarageCars = 3 : \", list(dftwsp[(dftwsp.GarageCars==3) & (dftwsp.SalePrice<=11.75)].Id))\n",
    "print(\"GarageCars = 4 : \", list(dftwsp[(dftwsp.GarageCars==4)].Id))"
   ]
  },
  {
   "cell_type": "markdown",
   "metadata": {},
   "source": [
    "### GarageArea ###"
   ]
  },
  {
   "cell_type": "code",
   "execution_count": 121,
   "metadata": {},
   "outputs": [
    {
     "data": {
      "image/png": "[encoded data removed]",
      "text/plain": [
       "<matplotlib.figure.Figure at 0x1a1951a438>"
      ]
     },
     "metadata": {},
     "output_type": "display_data"
    }
   ],
   "source": [
    "sns.regplot(x=\"GarageArea\", y=\"SalePrice\", data=dftwsp, fit_reg=True);"
   ]
  },
  {
   "cell_type": "code",
   "execution_count": 67,
   "metadata": {},
   "outputs": [
    {
     "name": "stdout",
     "output_type": "stream",
     "text": [
      "Outlier for GarageArea :  [582, 1062, 1191]\n"
     ]
    }
   ],
   "source": [
    "print(\"Outlier for GarageArea : \", list(dftwsp[(dftwsp.GarageArea>1200) & (dftwsp.SalePrice<=12.5)].Id))"
   ]
  },
  {
   "cell_type": "markdown",
   "metadata": {},
   "source": [
    "### TotalBsmtSF ###"
   ]
  },
  {
   "cell_type": "code",
   "execution_count": 68,
   "metadata": {},
   "outputs": [
    {
     "data": {
      "image/png": "[encoded data removed]",
      "text/plain": [
       "<matplotlib.figure.Figure at 0x1a167326d8>"
      ]
     },
     "metadata": {},
     "output_type": "display_data"
    }
   ],
   "source": [
    "sns.regplot(x=\"TotalBsmtSF\", y=\"SalePrice\", data=dftwsp, fit_reg=False);"
   ]
  },
  {
   "cell_type": "code",
   "execution_count": 69,
   "metadata": {},
   "outputs": [
    {
     "name": "stdout",
     "output_type": "stream",
     "text": [
      "Outlier for TotalBsmtSF :  [333, 441, 497, 524]\n"
     ]
    }
   ],
   "source": [
    "print(\"Outlier for TotalBsmtSF : \", list(dftwsp[(dftwsp.TotalBsmtSF>3000)].Id))"
   ]
  },
  {
   "cell_type": "markdown",
   "metadata": {},
   "source": [
    "### 1stFlrSF ###"
   ]
  },
  {
   "cell_type": "code",
   "execution_count": 70,
   "metadata": {},
   "outputs": [
    {
     "data": {
      "image/png": "[encoded data removed]",
      "text/plain": [
       "<matplotlib.figure.Figure at 0x1a1673ef60>"
      ]
     },
     "metadata": {},
     "output_type": "display_data"
    }
   ],
   "source": [
    "sns.regplot(x=\"1stFlrSF\", y=\"SalePrice\", data=dftwsp, fit_reg=False);"
   ]
  },
  {
   "cell_type": "code",
   "execution_count": 71,
   "metadata": {},
   "outputs": [
    {
     "name": "stdout",
     "output_type": "stream",
     "text": [
      "Outlier for 1stFlrSF :  [524]\n"
     ]
    }
   ],
   "source": [
    "print(\"Outlier for 1stFlrSF : \", list(dftwsp[(dftwsp['1stFlrSF']>3000) & (dftwsp.SalePrice<=12.5)].Id))"
   ]
  },
  {
   "cell_type": "markdown",
   "metadata": {},
   "source": [
    "### FullBath ###"
   ]
  },
  {
   "cell_type": "code",
   "execution_count": 72,
   "metadata": {},
   "outputs": [
    {
     "data": {
      "image/png": "[encoded data removed]",
      "text/plain": [
       "<matplotlib.figure.Figure at 0x1a1670e278>"
      ]
     },
     "metadata": {},
     "output_type": "display_data"
    }
   ],
   "source": [
    "sns.stripplot(x=\"FullBath\", y=\"SalePrice\", data=df_train_with_salePrice, jitter=True);"
   ]
  },
  {
   "cell_type": "code",
   "execution_count": 73,
   "metadata": {},
   "outputs": [
    {
     "name": "stdout",
     "output_type": "stream",
     "text": [
      "Outlier for FullBath = 1 :  [31, 496, 534, 969]\n",
      "Outlier for FullBath = 2 :  [706]\n",
      "FullBath = 0 :  [54, 189, 376, 598, 635, 917, 1164]\n"
     ]
    }
   ],
   "source": [
    "print(\"Outlier for FullBath = 1 : \", list(dftwsp[(dftwsp.FullBath==1) & ((dftwsp.SalePrice<=10.75))].Id))\n",
    "print(\"Outlier for FullBath = 2 : \", list(dftwsp[(dftwsp.FullBath==2) & ((dftwsp.SalePrice<=11))].Id))\n",
    "print(\"FullBath = 0 : \", list(dftwsp[(dftwsp.FullBath==0)].Id))"
   ]
  },
  {
   "cell_type": "markdown",
   "metadata": {},
   "source": [
    "### YearBuilt ###"
   ]
  },
  {
   "cell_type": "code",
   "execution_count": 74,
   "metadata": {},
   "outputs": [
    {
     "data": {
      "image/png": "[encoded data removed]",
      "text/plain": [
       "<matplotlib.figure.Figure at 0x1a0d5835f8>"
      ]
     },
     "metadata": {},
     "output_type": "display_data"
    }
   ],
   "source": [
    "sns.regplot(x=\"YearBuilt\", y=\"SalePrice\", data=dftwsp, fit_reg=False);"
   ]
  },
  {
   "cell_type": "code",
   "execution_count": null,
   "metadata": {},
   "outputs": [],
   "source": []
  },
  {
   "cell_type": "markdown",
   "metadata": {},
   "source": [
    "## Analyzing parameters\n",
    "\n",
    "In the following part we will analyze all the features.\n",
    "* Type of data and possible values.\n",
    "* Correcting missing data.\n",
    "* Visualize against SalePrice.\n",
    "* Visulize the repartition.\n",
    "\n",
    "It might come handy when not comparing to SalePrice to use all the data we have."
   ]
  },
  {
   "cell_type": "code",
   "execution_count": 75,
   "metadata": {},
   "outputs": [],
   "source": [
    "df = pd.concat([df_train.drop(columns=['SalePrice']), df_test])"
   ]
  },
  {
   "cell_type": "markdown",
   "metadata": {},
   "source": [
    "## Fixing missing parameters by removing them"
   ]
  },
  {
   "cell_type": "markdown",
   "metadata": {},
   "source": [
    "## Converting grading string system to numbers\n",
    "\n",
    "Several features of our data uses a grading system such as Poor, Fair, Great, Excellent. Let's convert it to numbers for future use. The first stage is to determine all the columns that we can transform."
   ]
  },
  {
   "cell_type": "code",
   "execution_count": 76,
   "metadata": {},
   "outputs": [],
   "source": [
    "stringGradingToNum = {'Na':0,'Po':1,'Fa':2,'TA':3,'Gd':4,'Ex':5}\n",
    "stringGradingToNumKeys = list(stringGradingToNum.keys())\n",
    "def isStringTypeConvertible(values) :\n",
    "    for v in values:\n",
    "        if v not in stringGradingToNumKeys:\n",
    "            return False\n",
    "    return True"
   ]
  },
  {
   "cell_type": "code",
   "execution_count": 77,
   "metadata": {
    "scrolled": true
   },
   "outputs": [
    {
     "name": "stdout",
     "output_type": "stream",
     "text": [
      "Columns that can be converted :  ['ExterQual', 'ExterCond', 'BsmtQual', 'BsmtCond', 'HeatingQC', 'KitchenQual', 'FireplaceQu', 'GarageQual', 'GarageCond', 'PoolQC']\n"
     ]
    }
   ],
   "source": [
    "col_convertible = [i for i in df.columns.to_series().groupby(df.dtypes).groups[np.dtype('O')] if isStringTypeConvertible(df[i].values)]\n",
    "print(\"Columns that can be converted : \", col_convertible)"
   ]
  },
  {
   "cell_type": "code",
   "execution_count": 78,
   "metadata": {},
   "outputs": [],
   "source": [
    "for col in col_convertible:\n",
    "    df[col] = df[col].map(lambda x: stringGradingToNum[x])"
   ]
  },
  {
   "cell_type": "code",
   "execution_count": 79,
   "metadata": {
    "scrolled": true
   },
   "outputs": [
    {
     "name": "stdout",
     "output_type": "stream",
     "text": [
      "MSZoning\n",
      "['C (all)' 'FV' 'RH' 'RL' 'RM']\n",
      "Street\n",
      "['Grvl' 'Pave']\n",
      "Alley\n",
      "['Grvl' 'Na' 'Pave']\n",
      "LotShape\n",
      "['IR1' 'IR2' 'IR3' 'Reg']\n",
      "LandContour\n",
      "['Bnk' 'HLS' 'Low' 'Lvl']\n",
      "Utilities\n",
      "['AllPub' 'NoSeWa']\n",
      "LotConfig\n",
      "['Corner' 'CulDSac' 'FR2' 'FR3' 'Inside']\n",
      "LandSlope\n",
      "['Gtl' 'Mod' 'Sev']\n",
      "Neighborhood\n",
      "['Blmngtn' 'Blueste' 'BrDale' 'BrkSide' 'ClearCr' 'CollgCr' 'Crawfor'\n",
      " 'Edwards' 'Gilbert' 'IDOTRR' 'MeadowV' 'Mitchel' 'NAmes' 'NPkVill'\n",
      " 'NWAmes' 'NoRidge' 'NridgHt' 'OldTown' 'SWISU' 'Sawyer' 'SawyerW'\n",
      " 'Somerst' 'StoneBr' 'Timber' 'Veenker']\n",
      "Condition1\n",
      "['Artery' 'Feedr' 'Norm' 'PosA' 'PosN' 'RRAe' 'RRAn' 'RRNe' 'RRNn']\n",
      "Condition2\n",
      "['Artery' 'Feedr' 'Norm' 'PosA' 'PosN' 'RRAe' 'RRAn' 'RRNn']\n",
      "BldgType\n",
      "['1Fam' '2fmCon' 'Duplex' 'Twnhs' 'TwnhsE']\n",
      "HouseStyle\n",
      "['1.5Fin' '1.5Unf' '1Story' '2.5Fin' '2.5Unf' '2Story' 'SFoyer' 'SLvl']\n",
      "RoofStyle\n",
      "['Flat' 'Gable' 'Gambrel' 'Hip' 'Mansard' 'Shed']\n",
      "RoofMatl\n",
      "['ClyTile' 'CompShg' 'Membran' 'Metal' 'Roll' 'Tar&Grv' 'WdShake'\n",
      " 'WdShngl']\n",
      "Exterior1st\n",
      "['AsbShng' 'AsphShn' 'BrkComm' 'BrkFace' 'CBlock' 'CemntBd' 'HdBoard'\n",
      " 'ImStucc' 'MetalSd' 'Plywood' 'Stone' 'Stucco' 'VinylSd' 'Wd Sdng'\n",
      " 'WdShing']\n",
      "Exterior2nd\n",
      "['AsbShng' 'AsphShn' 'Brk Cmn' 'BrkFace' 'CBlock' 'CmentBd' 'HdBoard'\n",
      " 'ImStucc' 'MetalSd' 'Other' 'Plywood' 'Stone' 'Stucco' 'VinylSd'\n",
      " 'Wd Sdng' 'Wd Shng']\n",
      "MasVnrType\n",
      "['BrkCmn' 'BrkFace' 'None' 'Stone']\n",
      "Foundation\n",
      "['BrkTil' 'CBlock' 'PConc' 'Slab' 'Stone' 'Wood']\n",
      "BsmtExposure\n",
      "['Av' 'Gd' 'Mn' 'Na' 'No']\n",
      "BsmtFinType1\n",
      "['ALQ' 'BLQ' 'GLQ' 'LwQ' 'Na' 'Rec' 'Unf']\n",
      "BsmtFinType2\n",
      "['ALQ' 'BLQ' 'GLQ' 'LwQ' 'Na' 'Rec' 'Unf']\n",
      "Heating\n",
      "['Floor' 'GasA' 'GasW' 'Grav' 'OthW' 'Wall']\n",
      "CentralAir\n",
      "['N' 'Y']\n",
      "Electrical\n",
      "['FuseA' 'FuseF' 'FuseP' 'Mix' 'SBrkr']\n",
      "Functional\n",
      "['Maj1' 'Maj2' 'Min1' 'Min2' 'Mod' 'Sev' 'Typ']\n",
      "GarageType\n",
      "['2Types' 'Attchd' 'Basment' 'BuiltIn' 'CarPort' 'Detchd' 'Na']\n",
      "GarageFinish\n",
      "['Fin' 'Na' 'RFn' 'Unf']\n",
      "PavedDrive\n",
      "['N' 'P' 'Y']\n",
      "Fence\n",
      "['GdPrv' 'GdWo' 'MnPrv' 'MnWw' 'Na']\n",
      "MiscFeature\n",
      "['Gar2' 'Na' 'Othr' 'Shed' 'TenC']\n",
      "SaleType\n",
      "['COD' 'CWD' 'Con' 'ConLD' 'ConLI' 'ConLw' 'New' 'Oth' 'WD']\n",
      "SaleCondition\n",
      "['Abnorml' 'AdjLand' 'Alloca' 'Family' 'Normal' 'Partial']\n"
     ]
    }
   ],
   "source": [
    "for col in df.columns.to_series().groupby(df.dtypes).groups[np.dtype('O')]:\n",
    "    print(col)\n",
    "    print(np.unique(df[col].values))"
   ]
  },
  {
   "cell_type": "markdown",
   "metadata": {},
   "source": [
    "The following columns can also be converted to integers as they present some kind of rating or are binary\n",
    "\n",
    "* Utilites\n",
    "* Street\n",
    "* Alley\n",
    "* LandSlope\n",
    "* BsmtExposure\n",
    "* BsmtFinType1\n",
    "* BsmtFinType2\n",
    "* CentralAir\n",
    "* PavedDrive\n",
    "* Fence\n",
    "\n",
    "Considering the other types of columns (int and float) some doesn't provide a ranking and therefore should be transform as categorical.\n",
    "\n",
    "* YearBuilt*\n",
    "* YearRemodAdd*\n",
    "* GarageYrBlt*\n",
    "* MoSold\n",
    "* YrSold"
   ]
  },
  {
   "cell_type": "code",
   "execution_count": 80,
   "metadata": {},
   "outputs": [],
   "source": [
    "df.YrSold = df.YrSold.astype(str)\n",
    "df.MoSold = df.MoSold.astype(str)"
   ]
  },
  {
   "cell_type": "code",
   "execution_count": 81,
   "metadata": {},
   "outputs": [],
   "source": [
    "UtilitesDic = {'AllPub':1, 'NoSeWa':0}\n",
    "df.Utilities = df.Utilities.apply(lambda x: UtilitesDic[x])"
   ]
  },
  {
   "cell_type": "code",
   "execution_count": 82,
   "metadata": {},
   "outputs": [],
   "source": [
    "StreetDic = {'Grvl':1, 'Pave':0}\n",
    "df.Street = df.Street.apply(lambda x: StreetDic[x])"
   ]
  },
  {
   "cell_type": "code",
   "execution_count": 83,
   "metadata": {},
   "outputs": [],
   "source": [
    "AlleyDic = {'Na':0, 'Grvl':1, 'Pave':2}\n",
    "df.Alley = df.Alley.apply(lambda x: AlleyDic[x])"
   ]
  },
  {
   "cell_type": "code",
   "execution_count": 84,
   "metadata": {},
   "outputs": [],
   "source": [
    "LandSlopeDic = {'Gtl':0, 'Mod':1, 'Sev':2}\n",
    "df.LandSlope = df.LandSlope.apply(lambda x: LandSlopeDic[x])"
   ]
  },
  {
   "cell_type": "code",
   "execution_count": 85,
   "metadata": {},
   "outputs": [],
   "source": [
    "BsmtExposureDic = {'Na':0, 'No':1, 'Mn':2, 'Av':3, 'Gd':4}\n",
    "df.BsmtExposure = df.BsmtExposure.apply(lambda x: BsmtExposureDic[x])"
   ]
  },
  {
   "cell_type": "code",
   "execution_count": 86,
   "metadata": {},
   "outputs": [],
   "source": [
    "BsmtFinTypeDic = {'ALQ':5, 'BLQ':4, 'GLQ':6, 'LwQ':2, 'Na':0, 'Rec':3, 'Unf':1}\n",
    "df.BsmtFinType1 = df.BsmtFinType1.apply(lambda x: BsmtFinTypeDic[x])\n",
    "df.BsmtFinType2 = df.BsmtFinType2.apply(lambda x: BsmtFinTypeDic[x])"
   ]
  },
  {
   "cell_type": "code",
   "execution_count": 87,
   "metadata": {},
   "outputs": [],
   "source": [
    "CentralAirDic = {'N':0, 'Y':1}\n",
    "df.CentralAir = df.CentralAir.apply(lambda x: CentralAirDic[x])"
   ]
  },
  {
   "cell_type": "code",
   "execution_count": 88,
   "metadata": {},
   "outputs": [],
   "source": [
    "PavedDriveDic = {'N':0, 'P':1, 'Y':2}\n",
    "df.PavedDrive = df.PavedDrive.apply(lambda x: PavedDriveDic[x])"
   ]
  },
  {
   "cell_type": "code",
   "execution_count": 89,
   "metadata": {},
   "outputs": [],
   "source": [
    "FenceDic = {'Na':0, 'MnWw':1, 'GdWo':2, 'MnPrv':3, 'GdPrv':4}\n",
    "df.Fence = df.Fence.apply(lambda x: FenceDic[x])"
   ]
  },
  {
   "cell_type": "code",
   "execution_count": 90,
   "metadata": {},
   "outputs": [
    {
     "name": "stdout",
     "output_type": "stream",
     "text": [
      "Correlation plot\n"
     ]
    },
    {
     "data": {
      "image/png": "[encoded data removed]",
      "text/plain": [
       "<matplotlib.figure.Figure at 0x1a17871fd0>"
      ]
     },
     "metadata": {},
     "output_type": "display_data"
    }
   ],
   "source": [
    "# Compute the correlation matrix\n",
    "corr = df.corr()\n",
    "\n",
    "# Generate a mask for the upper triangle\n",
    "mask = np.zeros_like(corr, dtype=np.bool)\n",
    "mask[np.triu_indices_from(mask)] = True\n",
    "\n",
    "# Set up the matplotlib figure\n",
    "f, ax = plt.subplots(figsize=(15, 15))\n",
    "\n",
    "# Generate a custom diverging colormap\n",
    "cmap = sns.diverging_palette(230, 5, as_cmap=True)\n",
    "\n",
    "# Draw the heatmap with the mask and correct aspect ratio\n",
    "sns.heatmap(corr, mask=mask, cmap=cmap, center=0,\n",
    "            square=True, linewidths=.5, cbar_kws={\"shrink\": .5})\n",
    "print('Correlation plot')"
   ]
  },
  {
   "cell_type": "code",
   "execution_count": 91,
   "metadata": {},
   "outputs": [
    {
     "name": "stdout",
     "output_type": "stream",
     "text": [
      "\n",
      "The more correlated variable to Id are : \n",
      "PoolArea        0.057044\n",
      "PoolQC          0.047655\n",
      "BedroomAbvGr    0.037719\n",
      "ExterCond       0.029860\n",
      "Name: Id, dtype: float64\n",
      "\n",
      "The more correlated variable to MSSubClass are : \n",
      "2ndFlrSF        0.307886\n",
      "KitchenAbvGr    0.281721\n",
      "Alley           0.179144\n",
      "HalfBath        0.177354\n",
      "Name: MSSubClass, dtype: float64\n",
      "\n",
      "The more correlated variable to LotFrontage are : \n",
      "1stFlrSF       0.434109\n",
      "GrLivArea      0.385190\n",
      "TotalBsmtSF    0.381038\n",
      "GarageArea     0.339085\n",
      "Name: LotFrontage, dtype: float64\n",
      "\n",
      "The more correlated variable to LotArea are : \n",
      "LandSlope      0.436868\n",
      "LotFrontage    0.335957\n",
      "1stFlrSF       0.299475\n",
      "Fireplaces     0.271364\n",
      "Name: LotArea, dtype: float64\n",
      "\n",
      "The more correlated variable to Street are : \n",
      "LotArea         0.197131\n",
      "LandSlope       0.179360\n",
      "BsmtExposure    0.092504\n",
      "BsmtFinType2    0.078212\n",
      "Name: Street, dtype: float64\n",
      "\n",
      "The more correlated variable to Alley are : \n",
      "MSSubClass       0.179144\n",
      "EnclosedPorch    0.152628\n",
      "2ndFlrSF         0.103518\n",
      "OpenPorchSF      0.074826\n",
      "Name: Alley, dtype: float64\n",
      "\n",
      "The more correlated variable to Utilities are : \n",
      "YearRemodAdd    0.034080\n",
      "FullBath        0.026862\n",
      "MSSubClass      0.022844\n",
      "BsmtFullBath    0.021467\n",
      "Name: Utilities, dtype: float64\n",
      "\n",
      "The more correlated variable to LandSlope are : \n",
      "LotArea         0.436868\n",
      "BsmtExposure    0.261883\n",
      "Street          0.179360\n",
      "Fireplaces      0.123995\n",
      "Name: LandSlope, dtype: float64\n",
      "\n",
      "The more correlated variable to OverallQual are : \n",
      "ExterQual      0.726278\n",
      "KitchenQual    0.673331\n",
      "BsmtQual       0.629379\n",
      "GarageCars     0.600671\n",
      "Name: OverallQual, dtype: float64\n",
      "\n",
      "The more correlated variable to OverallCond are : \n",
      "ExterCond     0.389163\n",
      "Fence         0.169653\n",
      "BsmtCond      0.132361\n",
      "CentralAir    0.118969\n",
      "Name: OverallCond, dtype: float64\n",
      "\n",
      "The more correlated variable to YearBuilt are : \n",
      "BsmtQual        0.602797\n",
      "ExterQual       0.598160\n",
      "YearRemodAdd    0.592855\n",
      "OverallQual     0.572323\n",
      "Name: YearBuilt, dtype: float64\n",
      "\n",
      "The more correlated variable to YearRemodAdd are : \n",
      "KitchenQual    0.625316\n",
      "YearBuilt      0.592855\n",
      "ExterQual      0.587318\n",
      "OverallQual    0.550684\n",
      "Name: YearRemodAdd, dtype: float64\n",
      "\n",
      "The more correlated variable to MasVnrArea are : \n",
      "OverallQual    0.407252\n",
      "GrLivArea      0.388052\n",
      "GarageArea     0.370884\n",
      "GarageCars     0.361945\n",
      "Name: MasVnrArea, dtype: float64\n",
      "\n",
      "The more correlated variable to ExterQual are : \n",
      "OverallQual     0.726278\n",
      "KitchenQual     0.716122\n",
      "YearBuilt       0.598160\n",
      "YearRemodAdd    0.587318\n",
      "Name: ExterQual, dtype: float64\n",
      "\n",
      "The more correlated variable to ExterCond are : \n",
      "OverallCond     0.389163\n",
      "BsmtCond        0.144756\n",
      "GarageCond      0.103940\n",
      "BsmtHalfBath    0.097974\n",
      "Name: ExterCond, dtype: float64\n",
      "\n",
      "The more correlated variable to BsmtQual are : \n",
      "BsmtCond       0.633713\n",
      "OverallQual    0.629379\n",
      "YearBuilt      0.602797\n",
      "ExterQual      0.565558\n",
      "Name: BsmtQual, dtype: float64\n",
      "\n",
      "The more correlated variable to BsmtCond are : \n",
      "BsmtQual        0.633713\n",
      "TotalBsmtSF     0.372530\n",
      "BsmtFinType1    0.299089\n",
      "CentralAir      0.275793\n",
      "Name: BsmtCond, dtype: float64\n",
      "\n",
      "The more correlated variable to BsmtExposure are : \n",
      "BsmtQual        0.399339\n",
      "TotalBsmtSF     0.383291\n",
      "BsmtFinSF1      0.369115\n",
      "BsmtFinType1    0.347840\n",
      "Name: BsmtExposure, dtype: float64\n",
      "\n",
      "The more correlated variable to BsmtFinType1 are : \n",
      "BsmtFinSF1      0.695751\n",
      "BsmtFullBath    0.589056\n",
      "BsmtQual        0.377398\n",
      "YearBuilt       0.351002\n",
      "Name: BsmtFinType1, dtype: float64\n",
      "\n",
      "The more correlated variable to BsmtFinSF1 are : \n",
      "BsmtFinType1    0.695751\n",
      "BsmtFullBath    0.649212\n",
      "TotalBsmtSF     0.522396\n",
      "1stFlrSF        0.445863\n",
      "Name: BsmtFinSF1, dtype: float64\n",
      "\n",
      "The more correlated variable to BsmtFinType2 are : \n",
      "BsmtFinSF2      0.788986\n",
      "BsmtCond        0.242730\n",
      "BsmtFullBath    0.169413\n",
      "Fence           0.138230\n",
      "Name: BsmtFinType2, dtype: float64\n",
      "\n",
      "The more correlated variable to BsmtFinSF2 are : \n",
      "BsmtFinType2    0.788986\n",
      "BsmtFullBath    0.158678\n",
      "Fence           0.115274\n",
      "LotArea         0.111170\n",
      "Name: BsmtFinSF2, dtype: float64\n",
      "\n",
      "The more correlated variable to BsmtUnfSF are : \n",
      "TotalBsmtSF    0.415360\n",
      "1stFlrSF       0.317987\n",
      "OverallQual    0.308159\n",
      "FullBath       0.288886\n",
      "Name: BsmtUnfSF, dtype: float64\n",
      "\n",
      "The more correlated variable to TotalBsmtSF are : \n",
      "1stFlrSF       0.819530\n",
      "BsmtQual       0.564299\n",
      "OverallQual    0.537808\n",
      "BsmtFinSF1     0.522396\n",
      "Name: TotalBsmtSF, dtype: float64\n",
      "\n",
      "The more correlated variable to HeatingQC are : \n",
      "YearRemodAdd    0.550017\n",
      "ExterQual       0.520027\n",
      "KitchenQual     0.504228\n",
      "OverallQual     0.457083\n",
      "Name: HeatingQC, dtype: float64\n",
      "\n",
      "The more correlated variable to CentralAir are : \n",
      "YearBuilt     0.381831\n",
      "PavedDrive    0.337516\n",
      "GarageCond    0.308199\n",
      "HeatingQC     0.306294\n",
      "Name: CentralAir, dtype: float64\n",
      "\n",
      "The more correlated variable to 1stFlrSF are : \n",
      "TotalBsmtSF    0.819530\n",
      "GrLivArea      0.566024\n",
      "GarageArea     0.489782\n",
      "OverallQual    0.476224\n",
      "Name: 1stFlrSF, dtype: float64\n",
      "\n",
      "The more correlated variable to 2ndFlrSF are : \n",
      "GrLivArea       0.687501\n",
      "TotRmsAbvGrd    0.616423\n",
      "HalfBath        0.609707\n",
      "BedroomAbvGr    0.502901\n",
      "Name: 2ndFlrSF, dtype: float64\n",
      "\n",
      "The more correlated variable to LowQualFinSF are : \n",
      "GrLivArea       0.134683\n",
      "TotRmsAbvGrd    0.131185\n",
      "BedroomAbvGr    0.105607\n",
      "PoolQC          0.094762\n",
      "Name: LowQualFinSF, dtype: float64\n",
      "\n",
      "The more correlated variable to GrLivArea are : \n",
      "TotRmsAbvGrd    0.825489\n",
      "2ndFlrSF        0.687501\n",
      "FullBath        0.630012\n",
      "OverallQual     0.593007\n",
      "Name: GrLivArea, dtype: float64\n",
      "\n",
      "The more correlated variable to BsmtFullBath are : \n",
      "BsmtFinSF1      0.649212\n",
      "BsmtFinType1    0.589056\n",
      "BsmtExposure    0.338672\n",
      "TotalBsmtSF     0.307351\n",
      "Name: BsmtFullBath, dtype: float64\n",
      "\n",
      "The more correlated variable to BsmtHalfBath are : \n",
      "OverallCond     0.117821\n",
      "BsmtFinType2    0.103689\n",
      "ExterCond       0.097974\n",
      "BsmtExposure    0.078180\n",
      "Name: BsmtHalfBath, dtype: float64\n",
      "\n",
      "The more correlated variable to FullBath are : \n",
      "GrLivArea       0.630012\n",
      "TotRmsAbvGrd    0.554784\n",
      "OverallQual     0.550600\n",
      "ExterQual       0.483949\n",
      "Name: FullBath, dtype: float64\n",
      "\n",
      "The more correlated variable to HalfBath are : \n",
      "2ndFlrSF        0.609707\n",
      "GrLivArea       0.415772\n",
      "TotRmsAbvGrd    0.343415\n",
      "OverallQual     0.273458\n",
      "Name: HalfBath, dtype: float64\n",
      "\n",
      "The more correlated variable to BedroomAbvGr are : \n",
      "TotRmsAbvGrd    0.676620\n",
      "GrLivArea       0.521270\n",
      "2ndFlrSF        0.502901\n",
      "FullBath        0.363252\n",
      "Name: BedroomAbvGr, dtype: float64\n",
      "\n",
      "The more correlated variable to KitchenAbvGr are : \n",
      "MSSubClass      0.281721\n",
      "TotRmsAbvGrd    0.256045\n",
      "BedroomAbvGr    0.198597\n",
      "FullBath        0.133115\n",
      "Name: KitchenAbvGr, dtype: float64\n",
      "\n",
      "The more correlated variable to KitchenQual are : \n",
      "ExterQual       0.716122\n",
      "OverallQual     0.673331\n",
      "YearRemodAdd    0.625316\n",
      "YearBuilt       0.530165\n",
      "Name: KitchenQual, dtype: float64\n",
      "\n",
      "The more correlated variable to TotRmsAbvGrd are : \n",
      "GrLivArea       0.825489\n",
      "BedroomAbvGr    0.676620\n",
      "2ndFlrSF        0.616423\n",
      "FullBath        0.554784\n",
      "Name: TotRmsAbvGrd, dtype: float64\n",
      "\n",
      "The more correlated variable to Fireplaces are : \n",
      "FireplaceQu    0.863241\n",
      "GrLivArea      0.461679\n",
      "1stFlrSF       0.410531\n",
      "OverallQual    0.396765\n",
      "Name: Fireplaces, dtype: float64\n",
      "\n",
      "The more correlated variable to FireplaceQu are : \n",
      "Fireplaces     0.863241\n",
      "OverallQual    0.490788\n",
      "GrLivArea      0.469947\n",
      "1stFlrSF       0.407887\n",
      "Name: FireplaceQu, dtype: float64\n",
      "\n",
      "The more correlated variable to GarageYrBlt are : \n",
      "GarageCond    0.949411\n",
      "GarageQual    0.946629\n",
      "GarageCars    0.598005\n",
      "GarageArea    0.560783\n",
      "Name: GarageYrBlt, dtype: float64\n",
      "\n",
      "The more correlated variable to GarageCars are : \n",
      "GarageArea     0.882475\n",
      "OverallQual    0.600671\n",
      "GarageYrBlt    0.598005\n",
      "GarageQual     0.576622\n",
      "Name: GarageCars, dtype: float64\n",
      "\n",
      "The more correlated variable to GarageArea are : \n",
      "GarageCars     0.882475\n",
      "OverallQual    0.562022\n",
      "GarageYrBlt    0.560783\n",
      "GarageQual     0.558938\n",
      "Name: GarageArea, dtype: float64\n",
      "\n",
      "The more correlated variable to GarageQual are : \n",
      "GarageCond     0.959172\n",
      "GarageYrBlt    0.946629\n",
      "GarageCars     0.576622\n",
      "GarageArea     0.558938\n",
      "Name: GarageQual, dtype: float64\n",
      "\n",
      "The more correlated variable to GarageCond are : \n",
      "GarageQual     0.959172\n",
      "GarageYrBlt    0.949411\n",
      "GarageCars     0.568408\n",
      "GarageArea     0.547259\n",
      "Name: GarageCond, dtype: float64\n",
      "\n",
      "The more correlated variable to PavedDrive are : \n",
      "YearBuilt      0.427561\n",
      "GarageCond     0.385228\n",
      "GarageQual     0.364972\n",
      "GarageYrBlt    0.340219\n",
      "Name: PavedDrive, dtype: float64\n",
      "\n",
      "The more correlated variable to WoodDeckSF are : \n",
      "BsmtQual        0.252703\n",
      "BsmtExposure    0.248129\n",
      "GrLivArea       0.247433\n",
      "OverallQual     0.238923\n",
      "Name: WoodDeckSF, dtype: float64\n",
      "\n",
      "The more correlated variable to OpenPorchSF are : \n",
      "GrLivArea      0.330224\n",
      "OverallQual    0.308819\n",
      "ExterQual      0.291553\n",
      "FullBath       0.259977\n",
      "Name: OpenPorchSF, dtype: float64\n",
      "\n",
      "The more correlated variable to EnclosedPorch are : \n",
      "Alley          0.152628\n",
      "PoolQC         0.091280\n",
      "OverallCond    0.070356\n",
      "Fence          0.069082\n",
      "Name: EnclosedPorch, dtype: float64\n",
      "\n",
      "The more correlated variable to 3SsnPorch are : \n",
      "LotFrontage     0.064654\n",
      "HeatingQC       0.059651\n",
      "1stFlrSF        0.056104\n",
      "YearRemodAdd    0.045286\n",
      "Name: 3SsnPorch, dtype: float64\n",
      "\n",
      "The more correlated variable to ScreenPorch are : \n",
      "Fireplaces     0.184530\n",
      "FireplaceQu    0.150002\n",
      "GrLivArea      0.101510\n",
      "BsmtFinSF2     0.088871\n",
      "Name: ScreenPorch, dtype: float64\n",
      "\n",
      "The more correlated variable to PoolArea are : \n",
      "PoolQC         0.937057\n",
      "LotFrontage    0.174567\n",
      "GrLivArea      0.170205\n",
      "Fence          0.153518\n",
      "Name: PoolArea, dtype: float64\n",
      "\n",
      "The more correlated variable to PoolQC are : \n",
      "PoolArea       0.937057\n",
      "LotFrontage    0.224806\n",
      "GrLivArea      0.206441\n",
      "BsmtFinSF1     0.177096\n",
      "Name: PoolQC, dtype: float64\n",
      "\n",
      "The more correlated variable to Fence are : \n",
      "OverallCond     0.169653\n",
      "PoolArea        0.153518\n",
      "PoolQC          0.140256\n",
      "BsmtFinType2    0.138230\n",
      "Name: Fence, dtype: float64\n",
      "\n",
      "The more correlated variable to MiscVal are : \n",
      "OverallCond     0.068777\n",
      "KitchenAbvGr    0.062341\n",
      "ExterCond       0.051649\n",
      "LotArea         0.038068\n",
      "Name: MiscVal, dtype: float64\n"
     ]
    }
   ],
   "source": [
    "for col in corr.columns :\n",
    "    print(\"\\nThe more correlated variable to %s are : \" %col)\n",
    "    print(corr[col].sort_values(ascending=False)[1:5])"
   ]
  },
  {
   "cell_type": "code",
   "execution_count": 92,
   "metadata": {},
   "outputs": [
    {
     "data": {
      "image/png": "[encoded data removed]",
      "text/plain": [
       "<matplotlib.figure.Figure at 0x1a0d3590f0>"
      ]
     },
     "metadata": {},
     "output_type": "display_data"
    }
   ],
   "source": [
    "sns.distplot(df.GarageQual, hist=True, kde=False);"
   ]
  },
  {
   "cell_type": "markdown",
   "metadata": {},
   "source": [
    "## Removing highly correlated columns"
   ]
  },
  {
   "cell_type": "code",
   "execution_count": 93,
   "metadata": {},
   "outputs": [],
   "source": [
    "df = df.drop(columns=['PoolQC','GarageCond','GarageYrBlt','GarageCars'])"
   ]
  },
  {
   "cell_type": "code",
   "execution_count": 94,
   "metadata": {},
   "outputs": [
    {
     "name": "stdout",
     "output_type": "stream",
     "text": [
      "Correlation plot\n"
     ]
    },
    {
     "data": {
      "image/png": "[encoded data removed]",
      "text/plain": [
       "<matplotlib.figure.Figure at 0x1a17ab36a0>"
      ]
     },
     "metadata": {},
     "output_type": "display_data"
    }
   ],
   "source": [
    "# Compute the correlation matrix\n",
    "corr = df.corr()\n",
    "\n",
    "# Generate a mask for the upper triangle\n",
    "mask = np.zeros_like(corr, dtype=np.bool)\n",
    "mask[np.triu_indices_from(mask)] = True\n",
    "\n",
    "# Set up the matplotlib figure\n",
    "f, ax = plt.subplots(figsize=(15, 15))\n",
    "\n",
    "# Generate a custom diverging colormap\n",
    "cmap = sns.diverging_palette(230, 5, as_cmap=True)\n",
    "\n",
    "# Draw the heatmap with the mask and correct aspect ratio\n",
    "sns.heatmap(corr, mask=mask, cmap=cmap, center=0,\n",
    "            square=True, linewidths=.5, cbar_kws={\"shrink\": .5})\n",
    "print('Correlation plot')"
   ]
  },
  {
   "cell_type": "markdown",
   "metadata": {},
   "source": [
    "Let's now add new columns and see the results"
   ]
  },
  {
   "cell_type": "code",
   "execution_count": 95,
   "metadata": {},
   "outputs": [],
   "source": [
    "df['TotalSurface'] = df['TotalBsmtSF']+df['1stFlrSF']+df['2ndFlrSF']\n"
   ]
  },
  {
   "cell_type": "code",
   "execution_count": 96,
   "metadata": {},
   "outputs": [
    {
     "name": "stdout",
     "output_type": "stream",
     "text": [
      "Correlation plot\n"
     ]
    },
    {
     "data": {
      "image/png": "[encoded data removed]",
      "text/plain": [
       "<matplotlib.figure.Figure at 0x1a0d0dec18>"
      ]
     },
     "metadata": {},
     "output_type": "display_data"
    }
   ],
   "source": [
    "# Compute the correlation matrix\n",
    "corr = df.corr()\n",
    "\n",
    "# Generate a mask for the upper triangle\n",
    "mask = np.zeros_like(corr, dtype=np.bool)\n",
    "mask[np.triu_indices_from(mask)] = True\n",
    "\n",
    "# Set up the matplotlib figure\n",
    "f, ax = plt.subplots(figsize=(15, 15))\n",
    "\n",
    "# Generate a custom diverging colormap\n",
    "cmap = sns.diverging_palette(230, 5, as_cmap=True)\n",
    "\n",
    "# Draw the heatmap with the mask and correct aspect ratio\n",
    "sns.heatmap(corr, mask=mask, cmap=cmap, center=0,\n",
    "            square=True, linewidths=.5, cbar_kws={\"shrink\": .5})\n",
    "print('Correlation plot')"
   ]
  },
  {
   "cell_type": "markdown",
   "metadata": {},
   "source": [
    "Our data is ready to be use. However we did not look for outliers, nor use the correlationn between the features. Those are ideas for future improvement that we might consider depending on the time, and correctness of the models we can create."
   ]
  },
  {
   "cell_type": "code",
   "execution_count": 97,
   "metadata": {},
   "outputs": [
    {
     "data": {
      "text/html": [
       "<div>\n",
       "<style scoped>\n",
       "    .dataframe tbody tr th:only-of-type {\n",
       "        vertical-align: middle;\n",
       "    }\n",
       "\n",
       "    .dataframe tbody tr th {\n",
       "        vertical-align: top;\n",
       "    }\n",
       "\n",
       "    .dataframe thead th {\n",
       "        text-align: right;\n",
       "    }\n",
       "</style>\n",
       "<table border=\"1\" class=\"dataframe\">\n",
       "  <thead>\n",
       "    <tr style=\"text-align: right;\">\n",
       "      <th></th>\n",
       "      <th>Id</th>\n",
       "      <th>MSSubClass</th>\n",
       "      <th>MSZoning</th>\n",
       "      <th>LotFrontage</th>\n",
       "      <th>LotArea</th>\n",
       "      <th>Street</th>\n",
       "      <th>Alley</th>\n",
       "      <th>LotShape</th>\n",
       "      <th>LandContour</th>\n",
       "      <th>Utilities</th>\n",
       "      <th>...</th>\n",
       "      <th>ScreenPorch</th>\n",
       "      <th>PoolArea</th>\n",
       "      <th>Fence</th>\n",
       "      <th>MiscFeature</th>\n",
       "      <th>MiscVal</th>\n",
       "      <th>MoSold</th>\n",
       "      <th>YrSold</th>\n",
       "      <th>SaleType</th>\n",
       "      <th>SaleCondition</th>\n",
       "      <th>TotalSurface</th>\n",
       "    </tr>\n",
       "  </thead>\n",
       "  <tbody>\n",
       "    <tr>\n",
       "      <th>0</th>\n",
       "      <td>1</td>\n",
       "      <td>60</td>\n",
       "      <td>RL</td>\n",
       "      <td>65.0</td>\n",
       "      <td>8450</td>\n",
       "      <td>0</td>\n",
       "      <td>0</td>\n",
       "      <td>Reg</td>\n",
       "      <td>Lvl</td>\n",
       "      <td>1</td>\n",
       "      <td>...</td>\n",
       "      <td>0</td>\n",
       "      <td>0</td>\n",
       "      <td>0</td>\n",
       "      <td>Na</td>\n",
       "      <td>0</td>\n",
       "      <td>2</td>\n",
       "      <td>2008</td>\n",
       "      <td>WD</td>\n",
       "      <td>Normal</td>\n",
       "      <td>2566</td>\n",
       "    </tr>\n",
       "    <tr>\n",
       "      <th>1</th>\n",
       "      <td>2</td>\n",
       "      <td>20</td>\n",
       "      <td>RL</td>\n",
       "      <td>80.0</td>\n",
       "      <td>9600</td>\n",
       "      <td>0</td>\n",
       "      <td>0</td>\n",
       "      <td>Reg</td>\n",
       "      <td>Lvl</td>\n",
       "      <td>1</td>\n",
       "      <td>...</td>\n",
       "      <td>0</td>\n",
       "      <td>0</td>\n",
       "      <td>0</td>\n",
       "      <td>Na</td>\n",
       "      <td>0</td>\n",
       "      <td>5</td>\n",
       "      <td>2007</td>\n",
       "      <td>WD</td>\n",
       "      <td>Normal</td>\n",
       "      <td>2524</td>\n",
       "    </tr>\n",
       "    <tr>\n",
       "      <th>2</th>\n",
       "      <td>3</td>\n",
       "      <td>60</td>\n",
       "      <td>RL</td>\n",
       "      <td>68.0</td>\n",
       "      <td>11250</td>\n",
       "      <td>0</td>\n",
       "      <td>0</td>\n",
       "      <td>IR1</td>\n",
       "      <td>Lvl</td>\n",
       "      <td>1</td>\n",
       "      <td>...</td>\n",
       "      <td>0</td>\n",
       "      <td>0</td>\n",
       "      <td>0</td>\n",
       "      <td>Na</td>\n",
       "      <td>0</td>\n",
       "      <td>9</td>\n",
       "      <td>2008</td>\n",
       "      <td>WD</td>\n",
       "      <td>Normal</td>\n",
       "      <td>2706</td>\n",
       "    </tr>\n",
       "    <tr>\n",
       "      <th>3</th>\n",
       "      <td>4</td>\n",
       "      <td>70</td>\n",
       "      <td>RL</td>\n",
       "      <td>60.0</td>\n",
       "      <td>9550</td>\n",
       "      <td>0</td>\n",
       "      <td>0</td>\n",
       "      <td>IR1</td>\n",
       "      <td>Lvl</td>\n",
       "      <td>1</td>\n",
       "      <td>...</td>\n",
       "      <td>0</td>\n",
       "      <td>0</td>\n",
       "      <td>0</td>\n",
       "      <td>Na</td>\n",
       "      <td>0</td>\n",
       "      <td>2</td>\n",
       "      <td>2006</td>\n",
       "      <td>WD</td>\n",
       "      <td>Abnorml</td>\n",
       "      <td>2473</td>\n",
       "    </tr>\n",
       "    <tr>\n",
       "      <th>4</th>\n",
       "      <td>5</td>\n",
       "      <td>60</td>\n",
       "      <td>RL</td>\n",
       "      <td>84.0</td>\n",
       "      <td>14260</td>\n",
       "      <td>0</td>\n",
       "      <td>0</td>\n",
       "      <td>IR1</td>\n",
       "      <td>Lvl</td>\n",
       "      <td>1</td>\n",
       "      <td>...</td>\n",
       "      <td>0</td>\n",
       "      <td>0</td>\n",
       "      <td>0</td>\n",
       "      <td>Na</td>\n",
       "      <td>0</td>\n",
       "      <td>12</td>\n",
       "      <td>2008</td>\n",
       "      <td>WD</td>\n",
       "      <td>Normal</td>\n",
       "      <td>3343</td>\n",
       "    </tr>\n",
       "  </tbody>\n",
       "</table>\n",
       "<p>5 rows × 77 columns</p>\n",
       "</div>"
      ],
      "text/plain": [
       "   Id  MSSubClass MSZoning  LotFrontage  LotArea  Street  Alley LotShape  \\\n",
       "0   1          60       RL         65.0     8450       0      0      Reg   \n",
       "1   2          20       RL         80.0     9600       0      0      Reg   \n",
       "2   3          60       RL         68.0    11250       0      0      IR1   \n",
       "3   4          70       RL         60.0     9550       0      0      IR1   \n",
       "4   5          60       RL         84.0    14260       0      0      IR1   \n",
       "\n",
       "  LandContour  Utilities      ...      ScreenPorch  PoolArea Fence  \\\n",
       "0         Lvl          1      ...                0         0     0   \n",
       "1         Lvl          1      ...                0         0     0   \n",
       "2         Lvl          1      ...                0         0     0   \n",
       "3         Lvl          1      ...                0         0     0   \n",
       "4         Lvl          1      ...                0         0     0   \n",
       "\n",
       "  MiscFeature MiscVal MoSold YrSold  SaleType  SaleCondition  TotalSurface  \n",
       "0          Na       0      2   2008        WD         Normal          2566  \n",
       "1          Na       0      5   2007        WD         Normal          2524  \n",
       "2          Na       0      9   2008        WD         Normal          2706  \n",
       "3          Na       0      2   2006        WD        Abnorml          2473  \n",
       "4          Na       0     12   2008        WD         Normal          3343  \n",
       "\n",
       "[5 rows x 77 columns]"
      ]
     },
     "execution_count": 97,
     "metadata": {},
     "output_type": "execute_result"
    }
   ],
   "source": [
    "df.head()"
   ]
  },
  {
   "cell_type": "markdown",
   "metadata": {},
   "source": [
    "### Handling Skewness"
   ]
  },
  {
   "cell_type": "markdown",
   "metadata": {},
   "source": [
    "\n",
    "After looking at various cases it seemed that having some __skewed__ data had a real impact on overfitting.\n",
    "To solve this issue we first loo at how many numerical skewed features we have and then the idea is to apply boxcox transformation to the most skewed ones.\n",
    "\n",
    "You can find an explication of the transformation here:\n",
    "- __[Box cox](https://docs.scipy.org/doc/scipy-0.16.1/reference/generated/scipy.stats.boxcox.html)__\n",
    " \n",
    "In our case we use the boxcox of $1+x$ instead:\n",
    "- __[Box Cox 1p](https://docs.scipy.org/doc/scipy-0.19.1/reference/generated/scipy.special.boxcox1p.html)__\n"
   ]
  },
  {
   "cell_type": "markdown",
   "metadata": {},
   "source": [
    "Because we can only solve skewness for numerical values an idea was to do such a transformation after dummies.\n",
    "However it wasn't efficient"
   ]
  },
  {
   "cell_type": "code",
   "execution_count": 100,
   "metadata": {},
   "outputs": [],
   "source": [
    "from scipy.stats import skew\n",
    "from scipy.special import boxcox1p"
   ]
  },
  {
   "cell_type": "code",
   "execution_count": 124,
   "metadata": {},
   "outputs": [
    {
     "data": {
      "text/html": [
       "<div>\n",
       "<style scoped>\n",
       "    .dataframe tbody tr th:only-of-type {\n",
       "        vertical-align: middle;\n",
       "    }\n",
       "\n",
       "    .dataframe tbody tr th {\n",
       "        vertical-align: top;\n",
       "    }\n",
       "\n",
       "    .dataframe thead th {\n",
       "        text-align: right;\n",
       "    }\n",
       "</style>\n",
       "<table border=\"1\" class=\"dataframe\">\n",
       "  <thead>\n",
       "    <tr style=\"text-align: right;\">\n",
       "      <th></th>\n",
       "      <th>Skew</th>\n",
       "    </tr>\n",
       "  </thead>\n",
       "  <tbody>\n",
       "    <tr>\n",
       "      <th>Street</th>\n",
       "      <td>15.502821</td>\n",
       "    </tr>\n",
       "    <tr>\n",
       "      <th>PoolArea</th>\n",
       "      <td>14.363418</td>\n",
       "    </tr>\n",
       "    <tr>\n",
       "      <th>3SsnPorch</th>\n",
       "      <td>7.827826</td>\n",
       "    </tr>\n",
       "    <tr>\n",
       "      <th>LowQualFinSF</th>\n",
       "      <td>7.593301</td>\n",
       "    </tr>\n",
       "    <tr>\n",
       "      <th>MiscVal</th>\n",
       "      <td>5.505530</td>\n",
       "    </tr>\n",
       "    <tr>\n",
       "      <th>LandSlope</th>\n",
       "      <td>4.345857</td>\n",
       "    </tr>\n",
       "    <tr>\n",
       "      <th>KitchenAbvGr</th>\n",
       "      <td>3.995746</td>\n",
       "    </tr>\n",
       "    <tr>\n",
       "      <th>Alley</th>\n",
       "      <td>3.991285</td>\n",
       "    </tr>\n",
       "    <tr>\n",
       "      <th>BsmtHalfBath</th>\n",
       "      <td>3.943685</td>\n",
       "    </tr>\n",
       "    <tr>\n",
       "      <th>ScreenPorch</th>\n",
       "      <td>3.184431</td>\n",
       "    </tr>\n",
       "  </tbody>\n",
       "</table>\n",
       "</div>"
      ],
      "text/plain": [
       "                   Skew\n",
       "Street        15.502821\n",
       "PoolArea      14.363418\n",
       "3SsnPorch      7.827826\n",
       "LowQualFinSF   7.593301\n",
       "MiscVal        5.505530\n",
       "LandSlope      4.345857\n",
       "KitchenAbvGr   3.995746\n",
       "Alley          3.991285\n",
       "BsmtHalfBath   3.943685\n",
       "ScreenPorch    3.184431"
      ]
     },
     "execution_count": 124,
     "metadata": {},
     "output_type": "execute_result"
    }
   ],
   "source": [
    "numerical_features = df.dtypes[df.dtypes != \"object\"].index\n",
    "\n",
    "# Check the skew of all numerical features\n",
    "skewed_features = df[numerical_features].apply(lambda x: skew(x)).sort_values(ascending=False)\n",
    "\n",
    "df_skewness = pd.DataFrame({'Skew' :skewed_features})\n",
    "df_skewness.head(10)"
   ]
  },
  {
   "cell_type": "code",
   "execution_count": 125,
   "metadata": {},
   "outputs": [
    {
     "name": "stdout",
     "output_type": "stream",
     "text": [
      "There are 52 skewed numerical features to Box Cox transform\n"
     ]
    }
   ],
   "source": [
    "skewness = skewness[abs(skewness) > 0.75]\n",
    "print(\"There are {} skewed numerical features to Box Cox transform\".format(skewness.shape[0]))\n",
    "\n",
    "from scipy.special import boxcox1p\n",
    "skewed_features = skewness.index\n",
    "lam = 0.15\n",
    "for feat in skewed_features:\n",
    "    df[feat] = boxcox1p(df[feat], lam)"
   ]
  },
  {
   "cell_type": "markdown",
   "metadata": {},
   "source": [
    "### Transforming into dummies\n",
    "This steps permits to have numerical values (which will be required by xgboost later)"
   ]
  },
  {
   "cell_type": "code",
   "execution_count": 114,
   "metadata": {},
   "outputs": [],
   "source": [
    "df_dummies = pd.get_dummies(df)"
   ]
  },
  {
   "cell_type": "code",
   "execution_count": 115,
   "metadata": {},
   "outputs": [],
   "source": [
    "df_train_d = df_dummies[:len(df_train)]\n",
    "df_train_t = df_train.SalePrice\n",
    "df_test_d = df_dummies[len(df_train):]"
   ]
  },
  {
   "cell_type": "code",
   "execution_count": 116,
   "metadata": {},
   "outputs": [],
   "source": [
    "df_train_d_cat = df[:len(df_train)]\n",
    "df_test_d_cat = df[len(df_train):]"
   ]
  },
  {
   "cell_type": "code",
   "execution_count": 117,
   "metadata": {},
   "outputs": [
    {
     "data": {
      "text/plain": [
       "(260, 77)"
      ]
     },
     "execution_count": 117,
     "metadata": {},
     "output_type": "execute_result"
    }
   ],
   "source": [
    "df_test_d_cat.shape"
   ]
  },
  {
   "cell_type": "markdown",
   "metadata": {},
   "source": [
    "## Creating our models\n",
    "\n",
    "We are going to try different approach to see which one is less biased:\n",
    "- regression with Lasso,ElasticNet and Ridge\n",
    "- Tree based with xgboost\n",
    "- Svm"
   ]
  },
  {
   "cell_type": "code",
   "execution_count": 118,
   "metadata": {},
   "outputs": [],
   "source": [
    "from sklearn.model_selection import KFold\n",
    "from sklearn.linear_model import ElasticNet, Lasso,  BayesianRidge, LassoLarsIC, MultiTaskLasso,LassoCV\n",
    "from sklearn.model_selection import cross_val_score,GridSearchCV\n",
    "from bayes_opt import BayesianOptimization\n",
    "from sklearn.preprocessing import RobustScaler\n",
    "from sklearn.pipeline import make_pipeline\n",
    "from sklearn.ensemble import RandomForestRegressor\n",
    "from sklearn.svm import SVR\n",
    "from sklearn.kernel_ridge import KernelRidge\n",
    "import xgboost as xgb"
   ]
  },
  {
   "cell_type": "code",
   "execution_count": 119,
   "metadata": {},
   "outputs": [],
   "source": [
    "def compute_error(model) :\n",
    "    kFold = KFold(n_splits=6, shuffle=True)\n",
    "    return -np.sqrt(-cross_val_score(model,X=df_train_d,y=df_train_t,cv=kFold, scoring=\"neg_mean_squared_error\"))"
   ]
  },
  {
   "cell_type": "markdown",
   "metadata": {},
   "source": [
    "### XGBoost\n",
    "\n",
    "We use a grid search to find the best param"
   ]
  },
  {
   "cell_type": "code",
   "execution_count": 107,
   "metadata": {},
   "outputs": [
    {
     "name": "stdout",
     "output_type": "stream",
     "text": [
      "Fitting 3 folds for each of 144 candidates, totalling 432 fits\n"
     ]
    },
    {
     "name": "stderr",
     "output_type": "stream",
     "text": [
      "[Parallel(n_jobs=-1)]: Done  34 tasks      | elapsed:    3.3s\n",
      "[Parallel(n_jobs=-1)]: Done 184 tasks      | elapsed:   17.4s\n",
      "[Parallel(n_jobs=-1)]: Done 432 out of 432 | elapsed:   42.9s finished\n"
     ]
    },
    {
     "data": {
      "text/plain": [
       "GridSearchCV(cv=3, error_score='raise',\n",
       "       estimator=XGBRegressor(base_score=0.5, booster='gbtree', colsample_bylevel=1,\n",
       "       colsample_bytree=1, gamma=0, learning_rate=0.1, max_delta_step=0,\n",
       "       max_depth=3, min_child_weight=1, missing=None, n_estimators=100,\n",
       "       n_jobs=1, nthread=None, objective='reg:linear', random_state=0,\n",
       "       reg_alpha=0, reg_lambda=1, scale_pos_weight=1, seed=None,\n",
       "       silent=True, subsample=1),\n",
       "       fit_params=None, iid=True, n_jobs=-1,\n",
       "       param_grid={'subsample': [0.5, 0.6, 0.7], 'max_depth': [4, 5], 'reg_lambda': [2.5, 3.0, 3.5], 'reg_alpha': [0.0005, 0.001], 'colsample_bytree': [0.95, 1.0], 'learning_rate': [0.1, 0.15]},\n",
       "       pre_dispatch='2*n_jobs', refit=True, return_train_score=True,\n",
       "       scoring='neg_mean_squared_error', verbose=True)"
      ]
     },
     "execution_count": 107,
     "metadata": {},
     "output_type": "execute_result"
    }
   ],
   "source": [
    "#trying to find best params for XGBOOST\n",
    "\n",
    "xgboost=xgb.XGBRegressor()\n",
    "parameters={'colsample_bytree':[0.95,1.0],'learning_rate':[0.10,0.15],'max_depth':[4,5],'reg_lambda':[2.5,3.0,3.5],'subsample':[0.5,0.6,0.7],'reg_alpha':[0.0005,0.001]}\n",
    "clf=GridSearchCV(xgboost,parameters,scoring='neg_mean_squared_error',n_jobs=-1,return_train_score=True,cv=3,verbose=True)\n",
    "clf.fit(df_train_d,df_train_t)"
   ]
  },
  {
   "cell_type": "code",
   "execution_count": 108,
   "metadata": {
    "scrolled": true
   },
   "outputs": [
    {
     "name": "stdout",
     "output_type": "stream",
     "text": [
      "XGBRegressor(base_score=0.5, booster='gbtree', colsample_bylevel=1,\n",
      "       colsample_bytree=0.95, gamma=0, learning_rate=0.15,\n",
      "       max_delta_step=0, max_depth=4, min_child_weight=1, missing=None,\n",
      "       n_estimators=100, n_jobs=1, nthread=None, objective='reg:linear',\n",
      "       random_state=0, reg_alpha=0.0005, reg_lambda=2.5,\n",
      "       scale_pos_weight=1, seed=None, silent=True, subsample=0.7)\n",
      "-0.10868618601254613\n"
     ]
    }
   ],
   "source": [
    "xgb=clf.best_estimator_\n",
    "print(xgb)\n",
    "print(compute_error(xgb).mean())"
   ]
  },
  {
   "cell_type": "markdown",
   "metadata": {},
   "source": [
    "### Random forest"
   ]
  },
  {
   "cell_type": "code",
   "execution_count": 131,
   "metadata": {},
   "outputs": [
    {
     "name": "stdout",
     "output_type": "stream",
     "text": [
      "Fitting 6 folds for each of 780 candidates, totalling 4680 fits\n"
     ]
    },
    {
     "name": "stderr",
     "output_type": "stream",
     "text": [
      "[Parallel(n_jobs=-1)]: Done 196 tasks      | elapsed:    4.2s\n",
      "[Parallel(n_jobs=-1)]: Done 620 tasks      | elapsed:   15.7s\n",
      "[Parallel(n_jobs=-1)]: Done 1103 tasks      | elapsed:   34.1s\n",
      "[Parallel(n_jobs=-1)]: Done 1456 tasks      | elapsed:   50.0s\n",
      "[Parallel(n_jobs=-1)]: Done 1906 tasks      | elapsed:  1.2min\n",
      "[Parallel(n_jobs=-1)]: Done 2456 tasks      | elapsed:  1.8min\n",
      "[Parallel(n_jobs=-1)]: Done 3106 tasks      | elapsed:  2.6min\n",
      "[Parallel(n_jobs=-1)]: Done 3856 tasks      | elapsed:  3.6min\n",
      "[Parallel(n_jobs=-1)]: Done 4680 out of 4680 | elapsed:  4.8min finished\n"
     ]
    },
    {
     "data": {
      "text/plain": [
       "GridSearchCV(cv=6, error_score='raise',\n",
       "       estimator=RandomForestRegressor(bootstrap=True, criterion='mse', max_depth=None,\n",
       "           max_features='auto', max_leaf_nodes=None,\n",
       "           min_impurity_decrease=0.0, min_impurity_split=None,\n",
       "           min_samples_leaf=1, min_samples_split=2,\n",
       "           min_weight_fraction_leaf=0.0, n_estimators=10, n_jobs=1,\n",
       "           oob_score=False, random_state=None, verbose=0, warm_start=False),\n",
       "       fit_params=None, iid=True, n_jobs=-1,\n",
       "       param_grid={'max_features': [0.1, 0.2, 0.3, 0.4, 0.5, 0.6, 0.7, 0.8, 0.9, 1.0], 'max_depth': [3, 4, 5, 6, 7, 8, 9, 10, 11, 12, 13, 14, 15], 'n_estimators': [10, 15, 20, 50, 75, 100]},\n",
       "       pre_dispatch='2*n_jobs', refit=True, return_train_score=True,\n",
       "       scoring='neg_mean_squared_error', verbose=True)"
      ]
     },
     "execution_count": 131,
     "metadata": {},
     "output_type": "execute_result"
    }
   ],
   "source": [
    "RF = RandomForestRegressor()\n",
    "randomForestParam = {'n_estimators':[10,15,20,50,75,100],'max_depth':list(range(3,16)), 'max_features':[0.1,0.2,0.3,0.4,0.5,0.6,0.7,.8,.9,1.]}\n",
    "rclf=GridSearchCV(RF,randomForestParam,scoring='neg_mean_squared_error',n_jobs=-1,return_train_score=True,cv=6,verbose=True)\n",
    "rclf.fit(df_train_d,df_train_t)"
   ]
  },
  {
   "cell_type": "code",
   "execution_count": 132,
   "metadata": {},
   "outputs": [
    {
     "name": "stdout",
     "output_type": "stream",
     "text": [
      "RandomForestRegressor(bootstrap=True, criterion='mse', max_depth=14,\n",
      "           max_features=0.3, max_leaf_nodes=None,\n",
      "           min_impurity_decrease=0.0, min_impurity_split=None,\n",
      "           min_samples_leaf=1, min_samples_split=2,\n",
      "           min_weight_fraction_leaf=0.0, n_estimators=100, n_jobs=1,\n",
      "           oob_score=False, random_state=None, verbose=0, warm_start=False)\n",
      "-0.1164652960414309\n"
     ]
    }
   ],
   "source": [
    "RF=rclf.best_estimator_\n",
    "print(RF)\n",
    "print(compute_error(RF).mean())"
   ]
  },
  {
   "cell_type": "markdown",
   "metadata": {},
   "source": [
    "### Lasso"
   ]
  },
  {
   "cell_type": "code",
   "execution_count": 120,
   "metadata": {
    "scrolled": true
   },
   "outputs": [
    {
     "name": "stdout",
     "output_type": "stream",
     "text": [
      "\u001b[31mInitialization\u001b[0m\n",
      "\u001b[94m-----------------------------------------\u001b[0m\n",
      " Step |   Time |      Value |     alpha | \n",
      "    1 | 00m00s | \u001b[35m  -0.12287\u001b[0m | \u001b[32m   0.0007\u001b[0m | \n",
      "    2 | 00m00s |   -0.12295 |    0.0006 | \n",
      "    3 | 00m00s |   -0.12301 |    0.0006 | \n",
      "    4 | 00m00s | \u001b[35m  -0.12210\u001b[0m | \u001b[32m   0.0007\u001b[0m | \n",
      "    5 | 00m00s | \u001b[35m  -0.12177\u001b[0m | \u001b[32m   0.0007\u001b[0m | \n",
      "\u001b[31mBayesian Optimization\u001b[0m\n",
      "\u001b[94m-----------------------------------------\u001b[0m\n",
      " Step |   Time |      Value |     alpha | \n",
      "    6 | 00m02s |   -0.12349 |    0.0008 | \n",
      "    7 | 00m04s |   -0.12214 |    0.0004 | \n",
      "    8 | 00m13s |   -0.12224 |    0.0005 | \n",
      "    9 | 00m13s |   -0.12382 |    0.0007 | \n",
      "   10 | 00m16s |   -0.12346 |    0.0005 | \n",
      "   11 | 00m12s |   -0.12260 |    0.0004 | \n",
      "   12 | 00m08s |   -0.12229 |    0.0007 | \n",
      "   13 | 00m14s |   -0.12375 |    0.0006 | \n",
      "   14 | 00m09s |   -0.12263 |    0.0008 | \n",
      "   15 | 00m11s |   -0.12187 |    0.0005 | \n"
     ]
    }
   ],
   "source": [
    "def LassoParam(alpha,random_state=1):\n",
    "    lasso =  Lasso(alpha =alpha, random_state=random_state)\n",
    "    return compute_error(lasso).mean()\n",
    "\n",
    "LassoBO = BayesianOptimization(LassoParam, {'alpha':(0.0004,0.0008)})\n",
    "LassoBO.maximize(n_iter=10)"
   ]
  },
  {
   "cell_type": "code",
   "execution_count": 128,
   "metadata": {},
   "outputs": [
    {
     "data": {
      "text/plain": [
       "{'max_params': {'alpha': 0.0007061206795311522},\n",
       " 'max_val': -0.12176939160276047}"
      ]
     },
     "execution_count": 128,
     "metadata": {},
     "output_type": "execute_result"
    }
   ],
   "source": [
    "LassoBO.res['max']"
   ]
  },
  {
   "cell_type": "code",
   "execution_count": 130,
   "metadata": {},
   "outputs": [
    {
     "name": "stdout",
     "output_type": "stream",
     "text": [
      "Fitting 3 folds for each of 9 candidates, totalling 27 fits\n"
     ]
    },
    {
     "name": "stderr",
     "output_type": "stream",
     "text": [
      "[Parallel(n_jobs=1)]: Done  27 out of  27 | elapsed:    0.9s finished\n"
     ]
    },
    {
     "data": {
      "text/plain": [
       "GridSearchCV(cv=3, error_score='raise',\n",
       "       estimator=ElasticNet(alpha=1.0, copy_X=True, fit_intercept=True, l1_ratio=0.5,\n",
       "      max_iter=1000, normalize=False, positive=False, precompute=False,\n",
       "      random_state=None, selection='cyclic', tol=0.0001, warm_start=False),\n",
       "       fit_params=None, iid=True, n_jobs=1,\n",
       "       param_grid={'l1_ratio': [0.04, 0.06, 0.05], 'alpha': [0.01, 0.012, 0.008]},\n",
       "       pre_dispatch='2*n_jobs', refit=True, return_train_score=True,\n",
       "       scoring='neg_mean_squared_error', verbose=True)"
      ]
     },
     "execution_count": 130,
     "metadata": {},
     "output_type": "execute_result"
    }
   ],
   "source": [
    "ENregressor=ElasticNet()\n",
    "ENparameters={'l1_ratio':[0.04,0.06,0.05,],'alpha':[0.01,0.012,0.008]}\n",
    "clf1=GridSearchCV(ENregressor,ENparameters,scoring='neg_mean_squared_error',n_jobs=1,return_train_score=True,cv=3,verbose=True)\n",
    "clf1.fit(df_train_d,df_train_t)\n",
    "#print(compute_error(ENregressor))"
   ]
  },
  {
   "cell_type": "code",
   "execution_count": 131,
   "metadata": {},
   "outputs": [
    {
     "name": "stdout",
     "output_type": "stream",
     "text": [
      "ElasticNet(alpha=0.008, copy_X=True, fit_intercept=True, l1_ratio=0.04,\n",
      "      max_iter=1000, normalize=False, positive=False, precompute=False,\n",
      "      random_state=None, selection='cyclic', tol=0.0001, warm_start=False)\n",
      "-0.12330275782432583\n"
     ]
    }
   ],
   "source": [
    "en=clf1.best_estimator_\n",
    "print(en)\n",
    "print(compute_error(en).mean())"
   ]
  },
  {
   "cell_type": "markdown",
   "metadata": {},
   "source": [
    "## SVM"
   ]
  },
  {
   "cell_type": "code",
   "execution_count": null,
   "metadata": {},
   "outputs": [],
   "source": [
    "svm=SVR()\n",
    "SVMparameters={ 'C':[0.76,0.74,0.75],'gamma':[0.0000002,0.0000001,0.0000003],'epsilon':[,0.029,0.03,0.031]}\n",
    "clf2=GridSearchCV(svm,SVMparameters,scoring='neg_mean_squared_error',n_jobs=-1,return_train_score=True,cv=3,verbose=True)\n",
    "clf2.fit(df_train_d,df_train_t)\n",
    "\n"
   ]
  },
  {
   "cell_type": "code",
   "execution_count": null,
   "metadata": {},
   "outputs": [],
   "source": [
    "\n",
    "svm=clf2.best_estimator_\n",
    "print(svm)\n",
    "print(compute_error(svm).mean())"
   ]
  },
  {
   "cell_type": "markdown",
   "metadata": {},
   "source": [
    "This results aren't satisfying lets try another SVM for instance Kernel Ridge Regression"
   ]
  },
  {
   "cell_type": "code",
   "execution_count": 132,
   "metadata": {},
   "outputs": [
    {
     "name": "stdout",
     "output_type": "stream",
     "text": [
      "Fitting 3 folds for each of 45 candidates, totalling 135 fits\n"
     ]
    },
    {
     "name": "stderr",
     "output_type": "stream",
     "text": [
      "[Parallel(n_jobs=1)]: Done 135 out of 135 | elapsed:    9.6s finished\n"
     ]
    },
    {
     "data": {
      "text/plain": [
       "GridSearchCV(cv=3, error_score='raise',\n",
       "       estimator=KernelRidge(alpha=1, coef0=1, degree=3, gamma=None, kernel='linear',\n",
       "      kernel_params=None),\n",
       "       fit_params=None, iid=True, n_jobs=1,\n",
       "       param_grid={'alpha': [0.2, 0.1, 0.3], 'kernel': ['polynomial'], 'degree': [1, 2, 3], 'coef0': [1, 2, 3, 4, 5]},\n",
       "       pre_dispatch='2*n_jobs', refit=True, return_train_score=True,\n",
       "       scoring='neg_mean_squared_error', verbose=True)"
      ]
     },
     "execution_count": 132,
     "metadata": {},
     "output_type": "execute_result"
    }
   ],
   "source": [
    "kr=KernelRidge()\n",
    "KRRparameters={'alpha':[0.2,0.1,0.3],'kernel':['polynomial'],'degree':[1,2,3],'coef0':[1,2,3,4,5]}\n",
    "clf3=GridSearchCV(kr,KRRparameters,scoring='neg_mean_squared_error',n_jobs=1,return_train_score=True,cv=3,verbose=True)\n",
    "clf3.fit(df_train_d,df_train_t)"
   ]
  },
  {
   "cell_type": "code",
   "execution_count": 134,
   "metadata": {},
   "outputs": [
    {
     "name": "stdout",
     "output_type": "stream",
     "text": [
      "KernelRidge(alpha=0.1, coef0=4, degree=1, gamma=None, kernel='polynomial',\n",
      "      kernel_params=None)\n",
      "-0.12449943308484367\n"
     ]
    }
   ],
   "source": [
    "krr=clf3.best_estimator_\n",
    "print(krr)\n",
    "print(compute_error(krr).mean())"
   ]
  },
  {
   "cell_type": "markdown",
   "metadata": {},
   "source": [
    "## First attempt at stacking"
   ]
  },
  {
   "cell_type": "code",
   "execution_count": 136,
   "metadata": {},
   "outputs": [],
   "source": [
    "from sklearn.base import BaseEstimator, TransformerMixin, RegressorMixin, clone"
   ]
  },
  {
   "cell_type": "code",
   "execution_count": 148,
   "metadata": {},
   "outputs": [],
   "source": [
    "class AveragingModels(BaseEstimator, RegressorMixin, TransformerMixin):\n",
    "    def __init__(self, models,weights):\n",
    "        self.models = models\n",
    "        self.weights = weights\n",
    "        \n",
    "    # we define clones of the original models to fit the data in\n",
    "    def fit(self, X, y):\n",
    "        self.models_ = [clone(x) for x in self.models]\n",
    "        \n",
    "        # Train cloned base models\n",
    "        for model in self.models_:\n",
    "            model.fit(X, y)\n",
    "\n",
    "        return self\n",
    "    \n",
    "    #Now we do the predictions for cloned models and average them\n",
    "    def predict(self, X):\n",
    "        predictions = np.column_stack([\n",
    "            model.predict(X) for model in self.models_\n",
    "        ])\n",
    "        return np.average(predictions, axis=1,weights=self.weights) "
   ]
  },
  {
   "cell_type": "code",
   "execution_count": 149,
   "metadata": {},
   "outputs": [],
   "source": [
    "xgboost=xgb.XGBRegressor(base_score=0.5, booster='gbtree', colsample_bylevel=1,\n",
    "       colsample_bytree=0.95, gamma=0, learning_rate=0.15,\n",
    "       max_delta_step=0, max_depth=4, min_child_weight=1, missing=None,\n",
    "       n_estimators=100, n_jobs=1, nthread=None, objective='reg:linear',\n",
    "       random_state=0, reg_alpha=0.0005, reg_lambda=2.5,\n",
    "       scale_pos_weight=1, seed=None, silent=True, subsample=0.7)\n",
    "\n",
    "randomForrest= RandomForestRegressor(bootstrap=True, criterion='mse', max_depth=14,\n",
    "           max_features=0.3, max_leaf_nodes=None,\n",
    "           min_impurity_decrease=0.0, min_impurity_split=None,\n",
    "           min_samples_leaf=1, min_samples_split=2,\n",
    "           min_weight_fraction_leaf=0.0, n_estimators=100, n_jobs=1,\n",
    "           oob_score=False, random_state=None, verbose=0, warm_start=False)\n",
    "\n",
    "en= ElasticNet(alpha=0.008, copy_X=True, fit_intercept=True, l1_ratio=0.04,\n",
    "      max_iter=1000, normalize=False, positive=False, precompute=False,\n",
    "      random_state=None, selection='cyclic', tol=0.0001, warm_start=False)\n",
    "\n",
    "krr=KernelRidge(alpha=0.1, coef0=4, degree=1, gamma=None, kernel='polynomial',\n",
    "      kernel_params=None)"
   ]
  },
  {
   "cell_type": "code",
   "execution_count": null,
   "metadata": {},
   "outputs": [],
   "source": [
    "lasso=Lasso(alpha=0.00076)\n",
    "\n",
    "averaged_models = AveragingModels(models = (xgboost,lasso,krr,en,randomForrest),weights=(0.1,0.2,0.2,0.25,0.25))\n",
    "print(compute_error(averaged_models).mean())"
   ]
  },
  {
   "cell_type": "code",
   "execution_count": 140,
   "metadata": {},
   "outputs": [
    {
     "name": "stdout",
     "output_type": "stream",
     "text": [
      "-0.12583637256253813\n",
      "-0.13580587517976334\n",
      "-0.1233818532440788\n",
      "-0.12372339242916379\n"
     ]
    }
   ],
   "source": [
    "print(compute_error(krr).mean())\n",
    "print(compute_error(xgboost).mean())\n",
    "print(compute_error(lasso).mean())\n",
    "print(compute_error(en).mean())"
   ]
  },
  {
   "cell_type": "code",
   "execution_count": null,
   "metadata": {},
   "outputs": [],
   "source": []
  }
 ],
 "metadata": {
  "kernelspec": {
   "display_name": "Python 3",
   "language": "python",
   "name": "python3"
  },
  "language_info": {
   "codemirror_mode": {
    "name": "ipython",
    "version": 3
   },
   "file_extension": ".py",
   "mimetype": "text/x-python",
   "name": "python",
   "nbconvert_exporter": "python",
   "pygments_lexer": "ipython3",
   "version": "3.6.4"
  }
 },
 "nbformat": 4,
 "nbformat_minor": 1
}
