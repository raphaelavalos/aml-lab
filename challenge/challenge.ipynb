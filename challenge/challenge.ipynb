{
 "cells": [
  {
   "cell_type": "markdown",
   "metadata": {},
   "source": [
    "2018 Edition"
   ]
  },
  {
   "cell_type": "markdown",
   "metadata": {},
   "source": [
    "# Challenge: What is the future selling price of a home?\n",
    "\n",
    "A home is often the largest and most expensive purchase a person makes in his or her lifetime. Ensuring homeowners have a trusted way to monitor this asset is incredibly important.\n",
    "\n",
    "In this competition, students are required to develop a full-fledged approach to make predictions about the future sale prices of homes. A full-fledged approach constist, at least, in the following steps:\n",
    "\n",
    "* Descriptive statistics about the data\n",
    "* Data cleaning and pre-processing\n",
    "* Defining a modeling approach to the problem\n",
    "* Build such a statistical model\n",
    "* Validate the outcome of the model\n",
    "\n",
    "Now, should you ask a home buyer to describe their dream house, they probably wouldn't begin with describing features such as the height of the basement ceiling or the proximity to a railroad. As you will see, the dataset we use in this competition proves that many more features influence price negotiations than the number of bedrooms or a white-picket fence.\n",
    "\n",
    "With 79 explanatory variables describing (almost) every aspect of residential homes in a small city in the US, this competition challenges you to predict the final price of each home."
   ]
  },
  {
   "cell_type": "markdown",
   "metadata": {},
   "source": [
    "# The dataset\n",
    "\n",
    "## File descriptions\n",
    "\n",
    "* train.csv - the training dataset\n",
    "* test.csv - the test dataset\n",
    "* data_description.txt - full description of each column\n",
    "\n",
    "## Data fields\n",
    "Here's a brief version of what you'll find in the data description file.\n",
    "\n",
    "* SalePrice - the property's sale price in dollars. This is the target variable that you're trying to predict.\n",
    "* MSSubClass: The building class\n",
    "* MSZoning: The general zoning classification\n",
    "* LotFrontage: Linear feet of street connected to property\n",
    "* LotArea: Lot size in square feet\n",
    "* Street: Type of road access\n",
    "* Alley: Type of alley access\n",
    "* LotShape: General shape of property\n",
    "* LandContour: Flatness of the property\n",
    "* Utilities: Type of utilities available\n",
    "* LotConfig: Lot configuration\n",
    "* LandSlope: Slope of property\n",
    "* Neighborhood: Physical locations within Ames city limits\n",
    "* Condition1: Proximity to main road or railroad\n",
    "* Condition2: Proximity to main road or railroad (if a second is present)\n",
    "* BldgType: Type of dwelling\n",
    "* HouseStyle: Style of dwelling\n",
    "* OverallQual: Overall material and finish quality\n",
    "* OverallCond: Overall condition rating\n",
    "* YearBuilt: Original construction date\n",
    "* YearRemodAdd: Remodel date\n",
    "* RoofStyle: Type of roof\n",
    "* RoofMatl: Roof material\n",
    "* Exterior1st: Exterior covering on house\n",
    "* Exterior2nd: Exterior covering on house (if more than one material)\n",
    "* MasVnrType: Masonry veneer type\n",
    "* MasVnrArea: Masonry veneer area in square feet\n",
    "* ExterQual: Exterior material quality\n",
    "* ExterCond: Present condition of the material on the exterior\n",
    "* Foundation: Type of foundation\n",
    "* BsmtQual: Height of the basement\n",
    "* BsmtCond: General condition of the basement\n",
    "* BsmtExposure: Walkout or garden level basement walls\n",
    "* BsmtFinType1: Quality of basement finished area\n",
    "* BsmtFinSF1: Type 1 finished square feet\n",
    "* BsmtFinType2: Quality of second finished area (if present)\n",
    "* BsmtFinSF2: Type 2 finished square feet\n",
    "* BsmtUnfSF: Unfinished square feet of basement area\n",
    "* TotalBsmtSF: Total square feet of basement area\n",
    "* Heating: Type of heating\n",
    "* HeatingQC: Heating quality and condition\n",
    "* CentralAir: Central air conditioning\n",
    "* Electrical: Electrical system\n",
    "* 1stFlrSF: First Floor square feet\n",
    "* 2ndFlrSF: Second floor square feet\n",
    "* LowQualFinSF: Low quality finished square feet (all floors)\n",
    "* GrLivArea: Above grade (ground) living area square feet\n",
    "* BsmtFullBath: Basement full bathrooms\n",
    "* BsmtHalfBath: Basement half bathrooms\n",
    "* FullBath: Full bathrooms above grade\n",
    "* HalfBath: Half baths above grade\n",
    "* Bedroom: Number of bedrooms above basement level\n",
    "* Kitchen: Number of kitchens\n",
    "* KitchenQual: Kitchen quality\n",
    "* TotRmsAbvGrd: Total rooms above grade (does not include bathrooms)\n",
    "* Functional: Home functionality rating\n",
    "* Fireplaces: Number of fireplaces\n",
    "* FireplaceQu: Fireplace quality\n",
    "* GarageType: Garage location\n",
    "* GarageYrBlt: Year garage was built\n",
    "* GarageFinish: Interior finish of the garage\n",
    "* GarageCars: Size of garage in car capacity\n",
    "* GarageArea: Size of garage in square feet\n",
    "* GarageQual: Garage quality\n",
    "* GarageCond: Garage condition\n",
    "* PavedDrive: Paved driveway\n",
    "* WoodDeckSF: Wood deck area in square feet\n",
    "* OpenPorchSF: Open porch area in square feet\n",
    "* EnclosedPorch: Enclosed porch area in square feet\n",
    "* 3SsnPorch: Three season porch area in square feet\n",
    "* ScreenPorch: Screen porch area in square feet\n",
    "* PoolArea: Pool area in square feet\n",
    "* PoolQC: Pool quality\n",
    "* Fence: Fence quality\n",
    "* MiscFeature: Miscellaneous feature not covered in other categories\n",
    "* MiscVal: Value (in dollars) of miscellaneous feature\n",
    "* MoSold: Month Sold\n",
    "* YrSold: Year Sold\n",
    "* SaleType: Type of sale\n",
    "* SaleCondition: Condition of sale\n"
   ]
  },
  {
   "cell_type": "markdown",
   "metadata": {},
   "source": [
    "# Goal of the challenge\n",
    "\n",
    "It is your job to predict the sales price for each house. For each Id in the test set, you must predict the value of the SalePrice variable.\n",
    "\n",
    "## Metric\n",
    "Notebooks are evaluated on Root-Mean-Squared-Error (RMSE) between the logarithm of the predicted value and the logarithm of the observed sales price. (Taking logs means that errors in predicting expensive houses and cheap houses will affect the result equally.)\n",
    "\n",
    "## Submission File Format\n",
    "The file should contain a header and have the following format:\n",
    "\n",
    "```\n",
    "Id,SalePrice\n",
    "1461,169000.1\n",
    "1462,187724.1233\n",
    "1463,175221\n",
    "etc.\n",
    "```\n",
    "\n",
    "You will find an example submission file within the data directory in the repository."
   ]
  },
  {
   "cell_type": "markdown",
   "metadata": {},
   "source": [
    "# Grading the notebook\n",
    "\n",
    "This challenge is going to be graded as a regular notebook for the AML labs. As a consequence, students should submit:\n",
    "\n",
    "* the html version of the notebook, using the Data Science Labs submission website, as usual [**Assignement: Challenge Notebook**]\n",
    "* the submission file (in csv format), that we will use to rank students according to the metric defined above, again through the Data Science Labs submission website [**Assignement: Challenge Predictions**]\n",
    "\n",
    "In summary, you will have to submit 2 files!"
   ]
  },
  {
   "cell_type": "code",
   "execution_count": 115,
   "metadata": {},
   "outputs": [],
   "source": [
    "import os\n",
    "import sys\n",
    "import re\n",
    "import random\n",
    "%matplotlib inline\n",
    "import matplotlib.pyplot as plt\n",
    "import matplotlib as mpl\n",
    "import warnings\n",
    "warnings.filterwarnings(\"ignore\")\n",
    "import pandas as pd\n",
    "import numpy as np\n",
    "import pickle\n",
    "import math\n",
    "import sklearn as sk\n",
    "from sklearn.preprocessing import OneHotEncoder, LabelEncoder\n",
    "import seaborn as sns\n",
    "sns.set(color_codes=True)\n",
    "base = \"challenge_data/\""
   ]
  },
  {
   "cell_type": "code",
   "execution_count": 116,
   "metadata": {},
   "outputs": [],
   "source": [
    "# This functions plots the correlation of the numerical value of a dataframe\n",
    "def plotCorrelation(dataframe):\n",
    "    corr = dataframe.corr()\n",
    "    mask = np.zeros_like(corr, dtype=np.bool)\n",
    "    mask[np.triu_indices_from(mask)] = True\n",
    "    f, ax = plt.subplots(figsize=(11, 9))\n",
    "    cmap = sns.diverging_palette(230, 5, as_cmap=True)\n",
    "    sns.heatmap(corr, mask=mask, cmap=cmap, center=0,\n",
    "            square=True, linewidths=.5, cbar_kws={\"shrink\": .5});\n",
    "    print('Correlation plot')"
   ]
  },
  {
   "cell_type": "code",
   "execution_count": 117,
   "metadata": {
    "scrolled": true
   },
   "outputs": [
    {
     "data": {
      "text/html": [
       "<div>\n",
       "<style scoped>\n",
       "    .dataframe tbody tr th:only-of-type {\n",
       "        vertical-align: middle;\n",
       "    }\n",
       "\n",
       "    .dataframe tbody tr th {\n",
       "        vertical-align: top;\n",
       "    }\n",
       "\n",
       "    .dataframe thead th {\n",
       "        text-align: right;\n",
       "    }\n",
       "</style>\n",
       "<table border=\"1\" class=\"dataframe\">\n",
       "  <thead>\n",
       "    <tr style=\"text-align: right;\">\n",
       "      <th></th>\n",
       "      <th>Id</th>\n",
       "      <th>MSSubClass</th>\n",
       "      <th>MSZoning</th>\n",
       "      <th>LotFrontage</th>\n",
       "      <th>LotArea</th>\n",
       "      <th>Street</th>\n",
       "      <th>Alley</th>\n",
       "      <th>LotShape</th>\n",
       "      <th>LandContour</th>\n",
       "      <th>Utilities</th>\n",
       "      <th>...</th>\n",
       "      <th>PoolArea</th>\n",
       "      <th>PoolQC</th>\n",
       "      <th>Fence</th>\n",
       "      <th>MiscFeature</th>\n",
       "      <th>MiscVal</th>\n",
       "      <th>MoSold</th>\n",
       "      <th>YrSold</th>\n",
       "      <th>SaleType</th>\n",
       "      <th>SaleCondition</th>\n",
       "      <th>SalePrice</th>\n",
       "    </tr>\n",
       "  </thead>\n",
       "  <tbody>\n",
       "    <tr>\n",
       "      <th>0</th>\n",
       "      <td>1</td>\n",
       "      <td>60</td>\n",
       "      <td>RL</td>\n",
       "      <td>65.0</td>\n",
       "      <td>8450</td>\n",
       "      <td>Pave</td>\n",
       "      <td>NaN</td>\n",
       "      <td>Reg</td>\n",
       "      <td>Lvl</td>\n",
       "      <td>AllPub</td>\n",
       "      <td>...</td>\n",
       "      <td>0</td>\n",
       "      <td>NaN</td>\n",
       "      <td>NaN</td>\n",
       "      <td>NaN</td>\n",
       "      <td>0</td>\n",
       "      <td>2</td>\n",
       "      <td>2008</td>\n",
       "      <td>WD</td>\n",
       "      <td>Normal</td>\n",
       "      <td>208500</td>\n",
       "    </tr>\n",
       "    <tr>\n",
       "      <th>1</th>\n",
       "      <td>2</td>\n",
       "      <td>20</td>\n",
       "      <td>RL</td>\n",
       "      <td>80.0</td>\n",
       "      <td>9600</td>\n",
       "      <td>Pave</td>\n",
       "      <td>NaN</td>\n",
       "      <td>Reg</td>\n",
       "      <td>Lvl</td>\n",
       "      <td>AllPub</td>\n",
       "      <td>...</td>\n",
       "      <td>0</td>\n",
       "      <td>NaN</td>\n",
       "      <td>NaN</td>\n",
       "      <td>NaN</td>\n",
       "      <td>0</td>\n",
       "      <td>5</td>\n",
       "      <td>2007</td>\n",
       "      <td>WD</td>\n",
       "      <td>Normal</td>\n",
       "      <td>181500</td>\n",
       "    </tr>\n",
       "    <tr>\n",
       "      <th>2</th>\n",
       "      <td>3</td>\n",
       "      <td>60</td>\n",
       "      <td>RL</td>\n",
       "      <td>68.0</td>\n",
       "      <td>11250</td>\n",
       "      <td>Pave</td>\n",
       "      <td>NaN</td>\n",
       "      <td>IR1</td>\n",
       "      <td>Lvl</td>\n",
       "      <td>AllPub</td>\n",
       "      <td>...</td>\n",
       "      <td>0</td>\n",
       "      <td>NaN</td>\n",
       "      <td>NaN</td>\n",
       "      <td>NaN</td>\n",
       "      <td>0</td>\n",
       "      <td>9</td>\n",
       "      <td>2008</td>\n",
       "      <td>WD</td>\n",
       "      <td>Normal</td>\n",
       "      <td>223500</td>\n",
       "    </tr>\n",
       "    <tr>\n",
       "      <th>3</th>\n",
       "      <td>4</td>\n",
       "      <td>70</td>\n",
       "      <td>RL</td>\n",
       "      <td>60.0</td>\n",
       "      <td>9550</td>\n",
       "      <td>Pave</td>\n",
       "      <td>NaN</td>\n",
       "      <td>IR1</td>\n",
       "      <td>Lvl</td>\n",
       "      <td>AllPub</td>\n",
       "      <td>...</td>\n",
       "      <td>0</td>\n",
       "      <td>NaN</td>\n",
       "      <td>NaN</td>\n",
       "      <td>NaN</td>\n",
       "      <td>0</td>\n",
       "      <td>2</td>\n",
       "      <td>2006</td>\n",
       "      <td>WD</td>\n",
       "      <td>Abnorml</td>\n",
       "      <td>140000</td>\n",
       "    </tr>\n",
       "    <tr>\n",
       "      <th>4</th>\n",
       "      <td>5</td>\n",
       "      <td>60</td>\n",
       "      <td>RL</td>\n",
       "      <td>84.0</td>\n",
       "      <td>14260</td>\n",
       "      <td>Pave</td>\n",
       "      <td>NaN</td>\n",
       "      <td>IR1</td>\n",
       "      <td>Lvl</td>\n",
       "      <td>AllPub</td>\n",
       "      <td>...</td>\n",
       "      <td>0</td>\n",
       "      <td>NaN</td>\n",
       "      <td>NaN</td>\n",
       "      <td>NaN</td>\n",
       "      <td>0</td>\n",
       "      <td>12</td>\n",
       "      <td>2008</td>\n",
       "      <td>WD</td>\n",
       "      <td>Normal</td>\n",
       "      <td>250000</td>\n",
       "    </tr>\n",
       "  </tbody>\n",
       "</table>\n",
       "<p>5 rows × 81 columns</p>\n",
       "</div>"
      ],
      "text/plain": [
       "   Id  MSSubClass MSZoning  LotFrontage  LotArea Street Alley LotShape  \\\n",
       "0   1          60       RL         65.0     8450   Pave   NaN      Reg   \n",
       "1   2          20       RL         80.0     9600   Pave   NaN      Reg   \n",
       "2   3          60       RL         68.0    11250   Pave   NaN      IR1   \n",
       "3   4          70       RL         60.0     9550   Pave   NaN      IR1   \n",
       "4   5          60       RL         84.0    14260   Pave   NaN      IR1   \n",
       "\n",
       "  LandContour Utilities    ...     PoolArea PoolQC Fence MiscFeature MiscVal  \\\n",
       "0         Lvl    AllPub    ...            0    NaN   NaN         NaN       0   \n",
       "1         Lvl    AllPub    ...            0    NaN   NaN         NaN       0   \n",
       "2         Lvl    AllPub    ...            0    NaN   NaN         NaN       0   \n",
       "3         Lvl    AllPub    ...            0    NaN   NaN         NaN       0   \n",
       "4         Lvl    AllPub    ...            0    NaN   NaN         NaN       0   \n",
       "\n",
       "  MoSold YrSold  SaleType  SaleCondition  SalePrice  \n",
       "0      2   2008        WD         Normal     208500  \n",
       "1      5   2007        WD         Normal     181500  \n",
       "2      9   2008        WD         Normal     223500  \n",
       "3      2   2006        WD        Abnorml     140000  \n",
       "4     12   2008        WD         Normal     250000  \n",
       "\n",
       "[5 rows x 81 columns]"
      ]
     },
     "execution_count": 117,
     "metadata": {},
     "output_type": "execute_result"
    }
   ],
   "source": [
    "df_train = pd.read_csv(base + 'train.csv')\n",
    "df_train.head()"
   ]
  },
  {
   "cell_type": "markdown",
   "metadata": {},
   "source": [
    "We won't need the 'id' column for now so we will drop it."
   ]
  },
  {
   "cell_type": "code",
   "execution_count": 118,
   "metadata": {},
   "outputs": [],
   "source": [
    "#df_train.drop('Id', axis='columns', inplace=True, errors='ignore')"
   ]
  },
  {
   "cell_type": "markdown",
   "metadata": {},
   "source": [
    "We will load the testing data too and drop its ids."
   ]
  },
  {
   "cell_type": "code",
   "execution_count": 119,
   "metadata": {
    "scrolled": true
   },
   "outputs": [
    {
     "data": {
      "text/html": [
       "<div>\n",
       "<style scoped>\n",
       "    .dataframe tbody tr th:only-of-type {\n",
       "        vertical-align: middle;\n",
       "    }\n",
       "\n",
       "    .dataframe tbody tr th {\n",
       "        vertical-align: top;\n",
       "    }\n",
       "\n",
       "    .dataframe thead th {\n",
       "        text-align: right;\n",
       "    }\n",
       "</style>\n",
       "<table border=\"1\" class=\"dataframe\">\n",
       "  <thead>\n",
       "    <tr style=\"text-align: right;\">\n",
       "      <th></th>\n",
       "      <th>Id</th>\n",
       "      <th>MSSubClass</th>\n",
       "      <th>MSZoning</th>\n",
       "      <th>LotFrontage</th>\n",
       "      <th>LotArea</th>\n",
       "      <th>Street</th>\n",
       "      <th>Alley</th>\n",
       "      <th>LotShape</th>\n",
       "      <th>LandContour</th>\n",
       "      <th>Utilities</th>\n",
       "      <th>...</th>\n",
       "      <th>ScreenPorch</th>\n",
       "      <th>PoolArea</th>\n",
       "      <th>PoolQC</th>\n",
       "      <th>Fence</th>\n",
       "      <th>MiscFeature</th>\n",
       "      <th>MiscVal</th>\n",
       "      <th>MoSold</th>\n",
       "      <th>YrSold</th>\n",
       "      <th>SaleType</th>\n",
       "      <th>SaleCondition</th>\n",
       "    </tr>\n",
       "  </thead>\n",
       "  <tbody>\n",
       "    <tr>\n",
       "      <th>0</th>\n",
       "      <td>1201</td>\n",
       "      <td>20</td>\n",
       "      <td>RL</td>\n",
       "      <td>71.0</td>\n",
       "      <td>9353</td>\n",
       "      <td>Pave</td>\n",
       "      <td>NaN</td>\n",
       "      <td>Reg</td>\n",
       "      <td>Lvl</td>\n",
       "      <td>AllPub</td>\n",
       "      <td>...</td>\n",
       "      <td>0</td>\n",
       "      <td>0</td>\n",
       "      <td>NaN</td>\n",
       "      <td>NaN</td>\n",
       "      <td>Shed</td>\n",
       "      <td>0</td>\n",
       "      <td>7</td>\n",
       "      <td>2006</td>\n",
       "      <td>Oth</td>\n",
       "      <td>Abnorml</td>\n",
       "    </tr>\n",
       "    <tr>\n",
       "      <th>1</th>\n",
       "      <td>1202</td>\n",
       "      <td>60</td>\n",
       "      <td>RL</td>\n",
       "      <td>80.0</td>\n",
       "      <td>10400</td>\n",
       "      <td>Pave</td>\n",
       "      <td>NaN</td>\n",
       "      <td>Reg</td>\n",
       "      <td>Lvl</td>\n",
       "      <td>AllPub</td>\n",
       "      <td>...</td>\n",
       "      <td>0</td>\n",
       "      <td>0</td>\n",
       "      <td>NaN</td>\n",
       "      <td>NaN</td>\n",
       "      <td>NaN</td>\n",
       "      <td>0</td>\n",
       "      <td>3</td>\n",
       "      <td>2009</td>\n",
       "      <td>WD</td>\n",
       "      <td>Normal</td>\n",
       "    </tr>\n",
       "    <tr>\n",
       "      <th>2</th>\n",
       "      <td>1203</td>\n",
       "      <td>50</td>\n",
       "      <td>RM</td>\n",
       "      <td>50.0</td>\n",
       "      <td>6000</td>\n",
       "      <td>Pave</td>\n",
       "      <td>NaN</td>\n",
       "      <td>Reg</td>\n",
       "      <td>Lvl</td>\n",
       "      <td>AllPub</td>\n",
       "      <td>...</td>\n",
       "      <td>0</td>\n",
       "      <td>0</td>\n",
       "      <td>NaN</td>\n",
       "      <td>NaN</td>\n",
       "      <td>NaN</td>\n",
       "      <td>0</td>\n",
       "      <td>5</td>\n",
       "      <td>2009</td>\n",
       "      <td>WD</td>\n",
       "      <td>Normal</td>\n",
       "    </tr>\n",
       "    <tr>\n",
       "      <th>3</th>\n",
       "      <td>1204</td>\n",
       "      <td>20</td>\n",
       "      <td>RL</td>\n",
       "      <td>75.0</td>\n",
       "      <td>9750</td>\n",
       "      <td>Pave</td>\n",
       "      <td>NaN</td>\n",
       "      <td>Reg</td>\n",
       "      <td>Lvl</td>\n",
       "      <td>AllPub</td>\n",
       "      <td>...</td>\n",
       "      <td>0</td>\n",
       "      <td>0</td>\n",
       "      <td>NaN</td>\n",
       "      <td>NaN</td>\n",
       "      <td>NaN</td>\n",
       "      <td>0</td>\n",
       "      <td>10</td>\n",
       "      <td>2009</td>\n",
       "      <td>WD</td>\n",
       "      <td>Normal</td>\n",
       "    </tr>\n",
       "    <tr>\n",
       "      <th>4</th>\n",
       "      <td>1205</td>\n",
       "      <td>20</td>\n",
       "      <td>RL</td>\n",
       "      <td>78.0</td>\n",
       "      <td>10140</td>\n",
       "      <td>Pave</td>\n",
       "      <td>NaN</td>\n",
       "      <td>Reg</td>\n",
       "      <td>Lvl</td>\n",
       "      <td>AllPub</td>\n",
       "      <td>...</td>\n",
       "      <td>0</td>\n",
       "      <td>0</td>\n",
       "      <td>NaN</td>\n",
       "      <td>MnPrv</td>\n",
       "      <td>NaN</td>\n",
       "      <td>0</td>\n",
       "      <td>7</td>\n",
       "      <td>2006</td>\n",
       "      <td>WD</td>\n",
       "      <td>Normal</td>\n",
       "    </tr>\n",
       "  </tbody>\n",
       "</table>\n",
       "<p>5 rows × 80 columns</p>\n",
       "</div>"
      ],
      "text/plain": [
       "     Id  MSSubClass MSZoning  LotFrontage  LotArea Street Alley LotShape  \\\n",
       "0  1201          20       RL         71.0     9353   Pave   NaN      Reg   \n",
       "1  1202          60       RL         80.0    10400   Pave   NaN      Reg   \n",
       "2  1203          50       RM         50.0     6000   Pave   NaN      Reg   \n",
       "3  1204          20       RL         75.0     9750   Pave   NaN      Reg   \n",
       "4  1205          20       RL         78.0    10140   Pave   NaN      Reg   \n",
       "\n",
       "  LandContour Utilities      ...       ScreenPorch PoolArea PoolQC  Fence  \\\n",
       "0         Lvl    AllPub      ...                 0        0    NaN    NaN   \n",
       "1         Lvl    AllPub      ...                 0        0    NaN    NaN   \n",
       "2         Lvl    AllPub      ...                 0        0    NaN    NaN   \n",
       "3         Lvl    AllPub      ...                 0        0    NaN    NaN   \n",
       "4         Lvl    AllPub      ...                 0        0    NaN  MnPrv   \n",
       "\n",
       "  MiscFeature MiscVal MoSold  YrSold  SaleType  SaleCondition  \n",
       "0        Shed       0      7    2006       Oth        Abnorml  \n",
       "1         NaN       0      3    2009        WD         Normal  \n",
       "2         NaN       0      5    2009        WD         Normal  \n",
       "3         NaN       0     10    2009        WD         Normal  \n",
       "4         NaN       0      7    2006        WD         Normal  \n",
       "\n",
       "[5 rows x 80 columns]"
      ]
     },
     "execution_count": 119,
     "metadata": {},
     "output_type": "execute_result"
    }
   ],
   "source": [
    "df_test = pd.read_csv(base + 'test.csv')\n",
    "#df_test.drop('Id', axis='columns', inplace=True, errors='ignore')\n",
    "df_test.head()"
   ]
  },
  {
   "cell_type": "markdown",
   "metadata": {},
   "source": [
    "## Sale Price"
   ]
  },
  {
   "cell_type": "markdown",
   "metadata": {},
   "source": [
    "The train dataframe contains a column more than the test dataframe. This column is the sale price.\n",
    "\n",
    "In order to have a first view of our data we will plot the sale prices of the train data."
   ]
  },
  {
   "cell_type": "code",
   "execution_count": 120,
   "metadata": {},
   "outputs": [
    {
     "name": "stdout",
     "output_type": "stream",
     "text": [
      "count      1200.000000\n",
      "mean     181414.628333\n",
      "std       81070.908544\n",
      "min       34900.000000\n",
      "25%      129900.000000\n",
      "50%      163700.000000\n",
      "75%      214000.000000\n",
      "max      755000.000000\n",
      "Name: SalePrice, dtype: float64\n"
     ]
    },
    {
     "data": {
      "image/png": "[encoded data removed]",
      "text/plain": [
       "<Figure size 432x288 with 1 Axes>"
      ]
     },
     "metadata": {},
     "output_type": "display_data"
    }
   ],
   "source": [
    "print(df_train['SalePrice'].describe())\n",
    "sns.distplot(df_train['SalePrice']);"
   ]
  },
  {
   "cell_type": "code",
   "execution_count": 121,
   "metadata": {},
   "outputs": [
    {
     "name": "stdout",
     "output_type": "stream",
     "text": [
      "Skewness of the log(SalePrice) : 0.132714 \n",
      "Kurtosis of the log(SalePrice) : 0.888850 \n"
     ]
    },
    {
     "data": {
      "image/png": "[encoded data removed]",
      "text/plain": [
       "<Figure size 432x288 with 1 Axes>"
      ]
     },
     "metadata": {},
     "output_type": "display_data"
    }
   ],
   "source": [
    "logSalePrice = np.log(df_train['SalePrice'])\n",
    "sns.distplot(logSalePrice)\n",
    "print(\"Skewness of the log(SalePrice) : %f \" % logSalePrice.skew())\n",
    "print(\"Kurtosis of the log(SalePrice) : %f \" % logSalePrice.kurt())"
   ]
  },
  {
   "cell_type": "markdown",
   "metadata": {},
   "source": [
    "The log sale price seems to follow a normal distribution. We will apply log to the saleprice in the dataframe."
   ]
  },
  {
   "cell_type": "code",
   "execution_count": 122,
   "metadata": {},
   "outputs": [],
   "source": [
    "df_train.SalePrice = np.log(df_train.SalePrice)"
   ]
  },
  {
   "cell_type": "markdown",
   "metadata": {},
   "source": [
    " Now that we have transformed the sale price we will try to get a broad idea of how each integer parameter influence sale price."
   ]
  },
  {
   "cell_type": "code",
   "execution_count": 123,
   "metadata": {},
   "outputs": [
    {
     "name": "stdout",
     "output_type": "stream",
     "text": [
      "Correlation plot\n"
     ]
    },
    {
     "data": {
      "image/png": "[encoded data removed]",
      "text/plain": [
       "<Figure size 792x648 with 2 Axes>"
      ]
     },
     "metadata": {},
     "output_type": "display_data"
    }
   ],
   "source": [
    "plotCorrelation(df_train)"
   ]
  },
  {
   "cell_type": "code",
   "execution_count": 124,
   "metadata": {
    "scrolled": true
   },
   "outputs": [
    {
     "data": {
      "text/plain": [
       "OverallQual      0.818680\n",
       "GrLivArea        0.728163\n",
       "GarageCars       0.681809\n",
       "GarageArea       0.651121\n",
       "TotalBsmtSF      0.641615\n",
       "1stFlrSF         0.610721\n",
       "FullBath         0.607066\n",
       "YearBuilt        0.590738\n",
       "YearRemodAdd     0.573284\n",
       "TotRmsAbvGrd     0.554775\n",
       "GarageYrBlt      0.547910\n",
       "Fireplaces       0.482342\n",
       "MasVnrArea       0.434735\n",
       "BsmtFinSF1       0.391919\n",
       "LotFrontage      0.384962\n",
       "2ndFlrSF         0.342669\n",
       "HalfBath         0.329854\n",
       "WoodDeckSF       0.326965\n",
       "OpenPorchSF      0.321166\n",
       "LotArea          0.257998\n",
       "BsmtFullBath     0.229916\n",
       "BedroomAbvGr     0.223166\n",
       "BsmtUnfSF        0.215729\n",
       "ScreenPorch      0.127515\n",
       "PoolArea         0.066878\n",
       "MoSold           0.059042\n",
       "3SsnPorch        0.037274\n",
       "BsmtFinSF2       0.012786\n",
       "BsmtHalfBath    -0.007152\n",
       "Id              -0.021938\n",
       "MiscVal         -0.039808\n",
       "OverallCond     -0.040769\n",
       "LowQualFinSF    -0.042014\n",
       "YrSold          -0.050896\n",
       "MSSubClass      -0.068837\n",
       "EnclosedPorch   -0.139652\n",
       "KitchenAbvGr    -0.147374\n",
       "Name: SalePrice, dtype: float64"
      ]
     },
     "execution_count": 124,
     "metadata": {},
     "output_type": "execute_result"
    }
   ],
   "source": [
    "df_train.corr().SalePrice.sort_values(ascending=False).drop('SalePrice')"
   ]
  },
  {
   "cell_type": "markdown",
   "metadata": {},
   "source": [
    "Thanks to the correlation matrix we are able to get a first view of the most important parameters. However the data is not clean yet and the previous information even if very intresting isn't enough. Let's analyze each parameter but first we will print the number of missing values per column."
   ]
  },
  {
   "cell_type": "code",
   "execution_count": 125,
   "metadata": {},
   "outputs": [],
   "source": [
    "df = pd.concat([df_train.drop(columns=['SalePrice']), df_test])"
   ]
  },
  {
   "cell_type": "markdown",
   "metadata": {},
   "source": [
    "## Fixing missing parameters"
   ]
  },
  {
   "cell_type": "code",
   "execution_count": 126,
   "metadata": {
    "scrolled": false
   },
   "outputs": [
    {
     "name": "stdout",
     "output_type": "stream",
     "text": [
      "PoolQC          1453\n",
      "MiscFeature     1406\n",
      "Alley           1369\n",
      "Fence           1179\n",
      "FireplaceQu      690\n",
      "LotFrontage      259\n",
      "GarageYrBlt       81\n",
      "GarageType        81\n",
      "GarageFinish      81\n",
      "GarageQual        81\n",
      "GarageCond        81\n",
      "BsmtFinType2      38\n",
      "BsmtExposure      38\n",
      "BsmtFinType1      37\n",
      "BsmtCond          37\n",
      "BsmtQual          37\n",
      "MasVnrArea         8\n",
      "MasVnrType         8\n",
      "Electrical         1\n",
      "dtype: int64\n",
      "\n",
      "Total of null values :  6965\n"
     ]
    }
   ],
   "source": [
    "missingValues = df.isnull().sum()\n",
    "print(missingValues[missingValues.values != 0].sort_values(ascending=False))\n",
    "print('\\nTotal of null values : ', missingValues.sum())"
   ]
  },
  {
   "cell_type": "markdown",
   "metadata": {},
   "source": [
    "We have a lot of missing parameters in our data set. We will fill those parameters as best as we can with the description of the data gaved in annex and also by trying to make educative guesses."
   ]
  },
  {
   "cell_type": "markdown",
   "metadata": {},
   "source": [
    "### PoolQC"
   ]
  },
  {
   "cell_type": "code",
   "execution_count": 127,
   "metadata": {
    "scrolled": true
   },
   "outputs": [
    {
     "name": "stdout",
     "output_type": "stream",
     "text": [
      "Values of PoolQC  ['Ex' 'Fa' 'Gd']\n"
     ]
    }
   ],
   "source": [
    "print('Values of PoolQC ', np.unique(df.PoolQC.dropna().values))"
   ]
  },
  {
   "cell_type": "markdown",
   "metadata": {},
   "source": [
    "As in real life most houses doesn't have a pool and this explains why we have 1410 \"missing\" entries for this parameters. Since the existing values for this feature represent a rating we will fill the nan with the string 'Na'. We will take care of this rating system in the next part of the notebook."
   ]
  },
  {
   "cell_type": "code",
   "execution_count": 128,
   "metadata": {},
   "outputs": [],
   "source": [
    "df.PoolQC.replace(np.nan,'Na',inplace=True)"
   ]
  },
  {
   "cell_type": "markdown",
   "metadata": {},
   "source": [
    "### MiscFeature"
   ]
  },
  {
   "cell_type": "code",
   "execution_count": 129,
   "metadata": {
    "scrolled": true
   },
   "outputs": [
    {
     "name": "stdout",
     "output_type": "stream",
     "text": [
      "Values of MiscFeature  ['Gar2' 'Othr' 'Shed' 'TenC']\n"
     ]
    }
   ],
   "source": [
    "print('Values of MiscFeature ', np.unique(df.MiscFeature.dropna().values))"
   ]
  },
  {
   "cell_type": "code",
   "execution_count": 130,
   "metadata": {},
   "outputs": [],
   "source": [
    "df.MiscFeature.replace(np.nan,'Na',inplace=True)"
   ]
  },
  {
   "cell_type": "markdown",
   "metadata": {},
   "source": [
    "### Alley"
   ]
  },
  {
   "cell_type": "code",
   "execution_count": 131,
   "metadata": {
    "scrolled": true
   },
   "outputs": [
    {
     "name": "stdout",
     "output_type": "stream",
     "text": [
      "Values of Alley  ['Grvl' 'Pave']\n"
     ]
    }
   ],
   "source": [
    "print('Values of Alley ', np.unique(df.Alley.dropna().values))"
   ]
  },
  {
   "cell_type": "code",
   "execution_count": 132,
   "metadata": {},
   "outputs": [],
   "source": [
    "df.Alley.replace(np.nan,'Na',inplace=True)"
   ]
  },
  {
   "cell_type": "markdown",
   "metadata": {},
   "source": [
    "### Fence"
   ]
  },
  {
   "cell_type": "code",
   "execution_count": 133,
   "metadata": {
    "scrolled": true
   },
   "outputs": [
    {
     "name": "stdout",
     "output_type": "stream",
     "text": [
      "Values of Fence  ['GdPrv' 'GdWo' 'MnPrv' 'MnWw']\n"
     ]
    }
   ],
   "source": [
    "print('Values of Fence ', np.unique(df.Fence.dropna().values))"
   ]
  },
  {
   "cell_type": "code",
   "execution_count": 134,
   "metadata": {},
   "outputs": [],
   "source": [
    "df.Fence.replace(np.nan,'Na',inplace=True)"
   ]
  },
  {
   "cell_type": "markdown",
   "metadata": {},
   "source": [
    "### FireplaceQu"
   ]
  },
  {
   "cell_type": "code",
   "execution_count": 135,
   "metadata": {
    "scrolled": true
   },
   "outputs": [
    {
     "name": "stdout",
     "output_type": "stream",
     "text": [
      "Values of FireplaceQu  ['Ex' 'Fa' 'Gd' 'Po' 'TA']\n"
     ]
    }
   ],
   "source": [
    "print('Values of FireplaceQu ', np.unique(df.FireplaceQu.dropna().values))"
   ]
  },
  {
   "cell_type": "code",
   "execution_count": 136,
   "metadata": {},
   "outputs": [],
   "source": [
    "df.FireplaceQu.replace(np.nan,'Na',inplace=True)"
   ]
  },
  {
   "cell_type": "markdown",
   "metadata": {},
   "source": [
    "## GARAGE\n",
    "\n",
    "Here we observe that information is missing for 74 houses. Moreover we saw that the area of the garage is highly correlated to the house pricing. "
   ]
  },
  {
   "cell_type": "code",
   "execution_count": 137,
   "metadata": {
    "scrolled": true
   },
   "outputs": [
    {
     "name": "stdout",
     "output_type": "stream",
     "text": [
      "Values of GarageCond  ['Ex' 'Fa' 'Gd' 'Po' 'TA']\n"
     ]
    }
   ],
   "source": [
    "print('Values of GarageCond ', np.unique(df.GarageCond.dropna().values))"
   ]
  },
  {
   "cell_type": "code",
   "execution_count": 138,
   "metadata": {},
   "outputs": [],
   "source": [
    "df.GarageCond.replace(np.nan,'Na',inplace=True)"
   ]
  },
  {
   "cell_type": "markdown",
   "metadata": {},
   "source": [
    "- ### GarageQual"
   ]
  },
  {
   "cell_type": "code",
   "execution_count": 139,
   "metadata": {
    "scrolled": true
   },
   "outputs": [
    {
     "name": "stdout",
     "output_type": "stream",
     "text": [
      "Values of GarageQual  ['Ex' 'Fa' 'Gd' 'Po' 'TA']\n"
     ]
    }
   ],
   "source": [
    "print('Values of GarageQual ', np.unique(df.GarageQual.dropna().values))"
   ]
  },
  {
   "cell_type": "code",
   "execution_count": 140,
   "metadata": {},
   "outputs": [],
   "source": [
    "df.GarageQual.replace(np.nan,'Na',inplace=True)"
   ]
  },
  {
   "cell_type": "markdown",
   "metadata": {},
   "source": [
    "- ### GarageYrBlt ###"
   ]
  },
  {
   "cell_type": "code",
   "execution_count": 141,
   "metadata": {
    "scrolled": true
   },
   "outputs": [
    {
     "name": "stdout",
     "output_type": "stream",
     "text": [
      "Values of GarageYrBlt  [1900. 1906. 1908. 1910. 1914. 1915. 1916. 1918. 1920. 1921. 1922. 1923.\n",
      " 1924. 1925. 1926. 1927. 1928. 1929. 1930. 1931. 1932. 1933. 1934. 1935.\n",
      " 1936. 1937. 1938. 1939. 1940. 1941. 1942. 1945. 1946. 1947. 1948. 1949.\n",
      " 1950. 1951. 1952. 1953. 1954. 1955. 1956. 1957. 1958. 1959. 1960. 1961.\n",
      " 1962. 1963. 1964. 1965. 1966. 1967. 1968. 1969. 1970. 1971. 1972. 1973.\n",
      " 1974. 1975. 1976. 1977. 1978. 1979. 1980. 1981. 1982. 1983. 1984. 1985.\n",
      " 1986. 1987. 1988. 1989. 1990. 1991. 1992. 1993. 1994. 1995. 1996. 1997.\n",
      " 1998. 1999. 2000. 2001. 2002. 2003. 2004. 2005. 2006. 2007. 2008. 2009.\n",
      " 2010.]\n"
     ]
    }
   ],
   "source": [
    "print('Values of GarageYrBlt ', np.unique(df.GarageYrBlt.dropna().values))"
   ]
  },
  {
   "cell_type": "code",
   "execution_count": 142,
   "metadata": {},
   "outputs": [],
   "source": [
    "df.GarageYrBlt.replace(np.nan,0,inplace=True) #We use 0 to keep the type consistent."
   ]
  },
  {
   "cell_type": "markdown",
   "metadata": {},
   "source": [
    "- ### GarageFinish ###"
   ]
  },
  {
   "cell_type": "code",
   "execution_count": 143,
   "metadata": {
    "scrolled": true
   },
   "outputs": [
    {
     "name": "stdout",
     "output_type": "stream",
     "text": [
      "Values of GarageFinish  ['Fin' 'RFn' 'Unf']\n"
     ]
    }
   ],
   "source": [
    "print('Values of GarageFinish ', np.unique(df.GarageFinish.dropna().values))"
   ]
  },
  {
   "cell_type": "code",
   "execution_count": 144,
   "metadata": {},
   "outputs": [],
   "source": [
    "df.GarageFinish.replace(np.nan,'Na',inplace=True)"
   ]
  },
  {
   "cell_type": "markdown",
   "metadata": {},
   "source": [
    "- ### GarageType ###"
   ]
  },
  {
   "cell_type": "code",
   "execution_count": 145,
   "metadata": {
    "scrolled": true
   },
   "outputs": [
    {
     "name": "stdout",
     "output_type": "stream",
     "text": [
      "Values of GarageType  ['2Types' 'Attchd' 'Basment' 'BuiltIn' 'CarPort' 'Detchd']\n"
     ]
    }
   ],
   "source": [
    "print('Values of GarageType ', np.unique(df.GarageType.dropna().values))"
   ]
  },
  {
   "cell_type": "code",
   "execution_count": 146,
   "metadata": {},
   "outputs": [],
   "source": [
    "df.GarageType.replace(np.nan,'Na',inplace=True)"
   ]
  },
  {
   "cell_type": "markdown",
   "metadata": {},
   "source": [
    "### BsmtFinType2"
   ]
  },
  {
   "cell_type": "code",
   "execution_count": 147,
   "metadata": {
    "scrolled": true
   },
   "outputs": [
    {
     "name": "stdout",
     "output_type": "stream",
     "text": [
      "Values of BsmtFinType2  ['ALQ' 'BLQ' 'GLQ' 'LwQ' 'Rec' 'Unf']\n"
     ]
    }
   ],
   "source": [
    "print('Values of BsmtFinType2 ', np.unique(df.BsmtFinType2.dropna().values))"
   ]
  },
  {
   "cell_type": "code",
   "execution_count": 148,
   "metadata": {},
   "outputs": [],
   "source": [
    "df.BsmtFinType2.replace(np.nan,'Na',inplace=True)"
   ]
  },
  {
   "cell_type": "markdown",
   "metadata": {},
   "source": [
    "### BsmtExposure"
   ]
  },
  {
   "cell_type": "code",
   "execution_count": 149,
   "metadata": {
    "scrolled": true
   },
   "outputs": [
    {
     "name": "stdout",
     "output_type": "stream",
     "text": [
      "Values of BsmtExposure  ['Av' 'Gd' 'Mn' 'No']\n"
     ]
    }
   ],
   "source": [
    "print('Values of BsmtExposure ', np.unique(df.BsmtExposure.dropna().values))"
   ]
  },
  {
   "cell_type": "code",
   "execution_count": 150,
   "metadata": {},
   "outputs": [],
   "source": [
    "df.BsmtExposure.replace(np.nan,'Na',inplace=True)"
   ]
  },
  {
   "cell_type": "markdown",
   "metadata": {},
   "source": [
    "### BsmtFinType1"
   ]
  },
  {
   "cell_type": "code",
   "execution_count": 151,
   "metadata": {
    "scrolled": true
   },
   "outputs": [
    {
     "name": "stdout",
     "output_type": "stream",
     "text": [
      "Values of BsmtFinType1  ['ALQ' 'BLQ' 'GLQ' 'LwQ' 'Rec' 'Unf']\n"
     ]
    }
   ],
   "source": [
    "print('Values of BsmtFinType1 ', np.unique(df.BsmtFinType1.dropna().values))"
   ]
  },
  {
   "cell_type": "code",
   "execution_count": 152,
   "metadata": {},
   "outputs": [],
   "source": [
    "df.BsmtFinType1.replace(np.nan,'Na',inplace=True)"
   ]
  },
  {
   "cell_type": "markdown",
   "metadata": {},
   "source": [
    "### BsmtCond"
   ]
  },
  {
   "cell_type": "code",
   "execution_count": 153,
   "metadata": {
    "scrolled": true
   },
   "outputs": [
    {
     "name": "stdout",
     "output_type": "stream",
     "text": [
      "Values of BsmtCond  ['Fa' 'Gd' 'Po' 'TA']\n"
     ]
    }
   ],
   "source": [
    "print('Values of BsmtCond ', np.unique(df.BsmtCond.dropna().values))"
   ]
  },
  {
   "cell_type": "code",
   "execution_count": 154,
   "metadata": {},
   "outputs": [],
   "source": [
    "df.BsmtCond.replace(np.nan,'Na',inplace=True)"
   ]
  },
  {
   "cell_type": "markdown",
   "metadata": {},
   "source": [
    "### BsmtQual"
   ]
  },
  {
   "cell_type": "code",
   "execution_count": 155,
   "metadata": {
    "scrolled": true
   },
   "outputs": [
    {
     "name": "stdout",
     "output_type": "stream",
     "text": [
      "Values of BsmtQual  ['Ex' 'Fa' 'Gd' 'TA']\n"
     ]
    }
   ],
   "source": [
    "print('Values of BsmtQual ', np.unique(df.BsmtQual.dropna().values))"
   ]
  },
  {
   "cell_type": "code",
   "execution_count": 156,
   "metadata": {},
   "outputs": [],
   "source": [
    "df.BsmtQual.replace(np.nan,'Na',inplace=True)"
   ]
  },
  {
   "cell_type": "markdown",
   "metadata": {},
   "source": [
    "### MasVnrArea"
   ]
  },
  {
   "cell_type": "code",
   "execution_count": 157,
   "metadata": {
    "scrolled": true
   },
   "outputs": [
    {
     "name": "stdout",
     "output_type": "stream",
     "text": [
      "Values of MasVnrArea (extract) [ 0.  1. 11. 14. 16. 18. 22. 24. 27. 28.]\n"
     ]
    }
   ],
   "source": [
    "print('Values of MasVnrArea (extract)', np.unique(df.MasVnrArea.dropna().values)[:10])"
   ]
  },
  {
   "cell_type": "code",
   "execution_count": 158,
   "metadata": {},
   "outputs": [],
   "source": [
    "df.MasVnrArea.replace(np.nan,0,inplace=True)"
   ]
  },
  {
   "cell_type": "markdown",
   "metadata": {},
   "source": [
    "### MasVnrType"
   ]
  },
  {
   "cell_type": "code",
   "execution_count": 159,
   "metadata": {
    "scrolled": true
   },
   "outputs": [
    {
     "name": "stdout",
     "output_type": "stream",
     "text": [
      "Values of MasVnrType  ['BrkCmn' 'BrkFace' 'None' 'Stone']\n"
     ]
    }
   ],
   "source": [
    "print('Values of MasVnrType ', np.unique(df.MasVnrType.dropna().values))"
   ]
  },
  {
   "cell_type": "code",
   "execution_count": 160,
   "metadata": {},
   "outputs": [],
   "source": [
    "df.MasVnrType.replace(np.nan,'None',inplace=True)"
   ]
  },
  {
   "cell_type": "markdown",
   "metadata": {},
   "source": [
    "### Electrical"
   ]
  },
  {
   "cell_type": "code",
   "execution_count": 161,
   "metadata": {
    "scrolled": true
   },
   "outputs": [
    {
     "name": "stdout",
     "output_type": "stream",
     "text": [
      "Values of Electrical  ['FuseA' 'FuseF' 'FuseP' 'Mix' 'SBrkr']\n"
     ]
    }
   ],
   "source": [
    "print('Values of Electrical ', np.unique(df.Electrical.dropna().values))"
   ]
  },
  {
   "cell_type": "code",
   "execution_count": 162,
   "metadata": {},
   "outputs": [
    {
     "data": {
      "image/png": "[encoded data removed]",
      "text/plain": [
       "<Figure size 432x288 with 1 Axes>"
      ]
     },
     "metadata": {},
     "output_type": "display_data"
    }
   ],
   "source": [
    "sns.countplot(x=\"Electrical\", data=df, palette=\"PRGn\");"
   ]
  },
  {
   "cell_type": "code",
   "execution_count": 163,
   "metadata": {},
   "outputs": [],
   "source": [
    "df.Electrical.replace(np.nan,'SBrkr',inplace=True) #Replace with the most commun."
   ]
  },
  {
   "cell_type": "markdown",
   "metadata": {},
   "source": [
    "### LotFrontage"
   ]
  },
  {
   "cell_type": "code",
   "execution_count": 164,
   "metadata": {},
   "outputs": [
    {
     "name": "stdout",
     "output_type": "stream",
     "text": [
      "Values of LotFrontage  [ 21.  24.  30.  32.  33.  34.  35.  36.  37.  38.  39.  40.  41.  42.\n",
      "  43.  44.  45.  46.  47.  48.  49.  50.  51.  52.  53.  54.  55.  56.\n",
      "  57.  58.  59.  60.  61.  62.  63.  64.  65.  66.  67.  68.  69.  70.\n",
      "  71.  72.  73.  74.  75.  76.  77.  78.  79.  80.  81.  82.  83.  84.\n",
      "  85.  86.  87.  88.  89.  90.  91.  92.  93.  94.  95.  96.  97.  98.\n",
      "  99. 100. 101. 102. 103. 104. 105. 106. 107. 108. 109. 110. 111. 112.\n",
      " 114. 115. 116. 118. 120. 121. 122. 124. 128. 129. 130. 134. 137. 138.\n",
      " 140. 141. 144. 149. 150. 152. 153. 160. 168. 174. 182. 313.]\n"
     ]
    }
   ],
   "source": [
    "print('Values of LotFrontage ', np.unique(df.LotFrontage.dropna().values))"
   ]
  },
  {
   "cell_type": "markdown",
   "metadata": {},
   "source": [
    "Since it represents the linear feet of street connected to property we might want to approximate the value by the medium of all the houses. Let's plot the value of the Lot Frontage."
   ]
  },
  {
   "cell_type": "code",
   "execution_count": 165,
   "metadata": {
    "scrolled": true
   },
   "outputs": [
    {
     "data": {
      "image/png": "[encoded data removed]",
      "text/plain": [
       "<Figure size 648x360 with 1 Axes>"
      ]
     },
     "metadata": {},
     "output_type": "display_data"
    }
   ],
   "source": [
    "# Set up the matplotlib figure\n",
    "f, ax = plt.subplots(figsize=(9, 5))\n",
    "sns.distplot(df.LotFrontage.dropna())\n",
    "sns.despine(offset=10, trim=True)"
   ]
  },
  {
   "cell_type": "code",
   "execution_count": 166,
   "metadata": {
    "scrolled": true
   },
   "outputs": [
    {
     "data": {
      "text/plain": [
       "count    1201.000000\n",
       "mean       70.049958\n",
       "std        24.284752\n",
       "min        21.000000\n",
       "25%        59.000000\n",
       "50%        69.000000\n",
       "75%        80.000000\n",
       "max       313.000000\n",
       "Name: LotFrontage, dtype: float64"
      ]
     },
     "execution_count": 166,
     "metadata": {},
     "output_type": "execute_result"
    }
   ],
   "source": [
    "df.LotFrontage.describe()"
   ]
  },
  {
   "cell_type": "markdown",
   "metadata": {},
   "source": [
    "We can see there are some outliers. with more than 200 LotFrontage. Maybe a more resonable way to interpret fill the data would be to use the median of the neighboorhood."
   ]
  },
  {
   "cell_type": "code",
   "execution_count": 167,
   "metadata": {},
   "outputs": [
    {
     "data": {
      "image/png": "[encoded data removed]",
      "text/plain": [
       "<Figure size 1440x432 with 1 Axes>"
      ]
     },
     "metadata": {},
     "output_type": "display_data"
    }
   ],
   "source": [
    "f, ax = plt.subplots(figsize=(20, 6))\n",
    "sns.boxplot(x=\"Neighborhood\", y=\"LotFrontage\", data=df_train, palette=\"PRGn\")\n",
    "sns.despine(offset=10, trim=True)"
   ]
  },
  {
   "cell_type": "code",
   "execution_count": 168,
   "metadata": {},
   "outputs": [],
   "source": [
    "NeighborhoodMedianLotFrontage = {}\n",
    "for n in np.unique(df.Neighborhood.values):\n",
    "    NeighborhoodMedianLotFrontage[n] = df[df.Neighborhood == n].LotFrontage.dropna().median()"
   ]
  },
  {
   "cell_type": "code",
   "execution_count": 169,
   "metadata": {},
   "outputs": [],
   "source": [
    "df.LotFrontage = df.apply(lambda row: NeighborhoodMedianLotFrontage[row['Neighborhood']] if np.isnan(row['LotFrontage']) else row['LotFrontage'], axis=1)"
   ]
  },
  {
   "cell_type": "code",
   "execution_count": 170,
   "metadata": {},
   "outputs": [
    {
     "data": {
      "image/png": "[encoded data removed]",
      "text/plain": [
       "<Figure size 432x288 with 1 Axes>"
      ]
     },
     "metadata": {},
     "output_type": "display_data"
    }
   ],
   "source": [
    "df.LotFrontage.dropna()\n",
    "sns.distplot(df.LotFrontage.dropna())\n",
    "sns.despine(offset=10, trim=True)"
   ]
  },
  {
   "cell_type": "code",
   "execution_count": 171,
   "metadata": {
    "scrolled": false
   },
   "outputs": [
    {
     "name": "stdout",
     "output_type": "stream",
     "text": [
      "\n",
      "Total of missing values :  0\n"
     ]
    }
   ],
   "source": [
    "missingValues = df.isnull().sum()\n",
    "print('\\nTotal of missing values : ', missingValues.sum())"
   ]
  },
  {
   "cell_type": "markdown",
   "metadata": {},
   "source": [
    "We succeed in filling the missing values of our dataset. Now we will analyze the data in order to deal with the outliers that we might have."
   ]
  },
  {
   "cell_type": "code",
   "execution_count": 172,
   "metadata": {},
   "outputs": [],
   "source": [
    "df_train = df[:len(df_train)]\n",
    "df_train_with_salePrice = df_train\n",
    "df_train_with_salePrice['SalePrice'] = logSalePrice\n",
    "df_test = df[len(df_train):]"
   ]
  },
  {
   "cell_type": "code",
   "execution_count": 173,
   "metadata": {},
   "outputs": [],
   "source": [
    "dftwsp = df_train_with_salePrice"
   ]
  },
  {
   "cell_type": "markdown",
   "metadata": {},
   "source": [
    "Now that we have completed the data, we split it again."
   ]
  },
  {
   "cell_type": "markdown",
   "metadata": {},
   "source": [
    "# Outlier Removing #"
   ]
  },
  {
   "cell_type": "markdown",
   "metadata": {},
   "source": [
    "We are going to have a first look at every highly correlated with sale price features:\n",
    "- OverallQual      0.818680\n",
    "- GrLivArea        0.728163\n",
    "- GarageCars       0.681809\n",
    "- GarageArea       0.651121\n",
    "- TotalBsmtSF      0.641615\n",
    "- 1stFlrSF         0.610721\n",
    "- FullBath         0.607066\n",
    "- YearBuilt        0.590738\n",
    "- YearRemodAdd     0.573284\n",
    "- TotRmsAbvGrd     0.554775\n",
    "- GarageYrBlt      0.547910\n"
   ]
  },
  {
   "cell_type": "markdown",
   "metadata": {},
   "source": [
    "### OverallQual ###"
   ]
  },
  {
   "cell_type": "code",
   "execution_count": 174,
   "metadata": {
    "scrolled": true
   },
   "outputs": [
    {
     "data": {
      "image/png": "[encoded data removed]",
      "text/plain": [
       "<Figure size 432x288 with 1 Axes>"
      ]
     },
     "metadata": {},
     "output_type": "display_data"
    }
   ],
   "source": [
    "sns.stripplot(x=\"OverallQual\", y=\"SalePrice\", data=df_train_with_salePrice, jitter=True);"
   ]
  },
  {
   "cell_type": "markdown",
   "metadata": {},
   "source": [
    "We can identify quite easily some outliers. Let's get their ids."
   ]
  },
  {
   "cell_type": "code",
   "execution_count": 175,
   "metadata": {},
   "outputs": [
    {
     "name": "stdout",
     "output_type": "stream",
     "text": [
      "Outlier for OverralQual = 3 :  [969]\n",
      "Outlier for OverralQual = 4 :  [31, 458, 496]\n",
      "Outlier for OverralQual = 7 :  [633]\n",
      "Outlier for OverralQual = 10 :  [524]\n"
     ]
    }
   ],
   "source": [
    "print(\"Outlier for OverralQual = 3 : \", list(dftwsp[(dftwsp.OverallQual==3) & (dftwsp.SalePrice<=10.6)].Id))\n",
    "print(\"Outlier for OverralQual = 4 : \", list(dftwsp[(dftwsp.OverallQual==4) & ((dftwsp.SalePrice<=10.7) | (dftwsp.SalePrice>12.4))].Id))\n",
    "print(\"Outlier for OverralQual = 7 : \", list(dftwsp[(dftwsp.OverallQual==7) & (dftwsp.SalePrice<=11.5)].Id))\n",
    "print(\"Outlier for OverralQual = 10 : \", list(dftwsp[(dftwsp.OverallQual==10) & (dftwsp.SalePrice<=12.6)].Id))"
   ]
  },
  {
   "cell_type": "markdown",
   "metadata": {},
   "source": [
    "### GrLivArea ###"
   ]
  },
  {
   "cell_type": "code",
   "execution_count": 176,
   "metadata": {},
   "outputs": [
    {
     "data": {
      "image/png": "[encoded data removed]",
      "text/plain": [
       "<Figure size 432x288 with 1 Axes>"
      ]
     },
     "metadata": {},
     "output_type": "display_data"
    }
   ],
   "source": [
    "sns.regplot(x=\"GrLivArea\", y=\"SalePrice\", data=dftwsp, fit_reg=True);"
   ]
  },
  {
   "cell_type": "code",
   "execution_count": 177,
   "metadata": {},
   "outputs": [
    {
     "name": "stdout",
     "output_type": "stream",
     "text": [
      "Outlier for GrLivArea :  [524]\n",
      "Outlier for GrLivArea :  [31, 496, 534, 917, 969]\n"
     ]
    }
   ],
   "source": [
    "print(\"Outlier for GrLivArea : \", list(dftwsp[(dftwsp.GrLivArea>4000) & (dftwsp.SalePrice<=13)].Id))\n",
    "print(\"Outlier for GrLivArea : \", list(dftwsp[(dftwsp.SalePrice<=10.75)].Id))"
   ]
  },
  {
   "cell_type": "markdown",
   "metadata": {},
   "source": [
    "### GarageCars ###"
   ]
  },
  {
   "cell_type": "code",
   "execution_count": 178,
   "metadata": {},
   "outputs": [
    {
     "data": {
      "image/png": "[encoded data removed]",
      "text/plain": [
       "<Figure size 432x288 with 1 Axes>"
      ]
     },
     "metadata": {},
     "output_type": "display_data"
    }
   ],
   "source": [
    "sns.stripplot(x=\"GarageCars\", y=\"SalePrice\", data=df_train_with_salePrice, jitter=True);"
   ]
  },
  {
   "cell_type": "code",
   "execution_count": 179,
   "metadata": {},
   "outputs": [
    {
     "name": "stdout",
     "output_type": "stream",
     "text": [
      "Outlier for GarageCars = 0 or 1 :  [31, 496, 534, 917, 969]\n",
      "Outlier for GarageCars = 2 :  [813]\n",
      "Outlier for GarageCars = 3 :  [457, 677, 729, 1062]\n",
      "GarageCars = 4 :  [421, 748, 1191]\n"
     ]
    }
   ],
   "source": [
    "print(\"Outlier for GarageCars = 0 or 1 : \", list(dftwsp[dftwsp.SalePrice<=10.75].Id))\n",
    "print(\"Outlier for GarageCars = 2 : \", list(dftwsp[(dftwsp.GarageCars==2) & ((dftwsp.SalePrice<=11))].Id))\n",
    "print(\"Outlier for GarageCars = 3 : \", list(dftwsp[(dftwsp.GarageCars==3) & (dftwsp.SalePrice<=11.75)].Id))\n",
    "print(\"GarageCars = 4 : \", list(dftwsp[(dftwsp.GarageCars==4)].Id))"
   ]
  },
  {
   "cell_type": "markdown",
   "metadata": {},
   "source": [
    "### GarageArea ###"
   ]
  },
  {
   "cell_type": "code",
   "execution_count": 180,
   "metadata": {},
   "outputs": [
    {
     "data": {
      "image/png": "[encoded data removed]",
      "text/plain": [
       "<Figure size 432x288 with 1 Axes>"
      ]
     },
     "metadata": {},
     "output_type": "display_data"
    }
   ],
   "source": [
    "sns.regplot(x=\"GarageArea\", y=\"SalePrice\", data=dftwsp, fit_reg=False);"
   ]
  },
  {
   "cell_type": "code",
   "execution_count": 181,
   "metadata": {},
   "outputs": [
    {
     "name": "stdout",
     "output_type": "stream",
     "text": [
      "Outlier for GarageArea :  [582, 1062, 1191]\n"
     ]
    }
   ],
   "source": [
    "print(\"Outlier for GarageArea : \", list(dftwsp[(dftwsp.GarageArea>1200) & (dftwsp.SalePrice<=12.5)].Id))"
   ]
  },
  {
   "cell_type": "markdown",
   "metadata": {},
   "source": [
    "### TotalBsmtSF ###"
   ]
  },
  {
   "cell_type": "code",
   "execution_count": 182,
   "metadata": {},
   "outputs": [
    {
     "data": {
      "image/png": "[encoded data removed]",
      "text/plain": [
       "<Figure size 432x288 with 1 Axes>"
      ]
     },
     "metadata": {},
     "output_type": "display_data"
    }
   ],
   "source": [
    "sns.regplot(x=\"TotalBsmtSF\", y=\"SalePrice\", data=dftwsp, fit_reg=False);"
   ]
  },
  {
   "cell_type": "code",
   "execution_count": 183,
   "metadata": {},
   "outputs": [
    {
     "name": "stdout",
     "output_type": "stream",
     "text": [
      "Outlier for TotalBsmtSF :  [333, 441, 497, 524]\n"
     ]
    }
   ],
   "source": [
    "print(\"Outlier for TotalBsmtSF : \", list(dftwsp[(dftwsp.TotalBsmtSF>3000)].Id))"
   ]
  },
  {
   "cell_type": "markdown",
   "metadata": {},
   "source": [
    "### 1stFlrSF ###"
   ]
  },
  {
   "cell_type": "code",
   "execution_count": 184,
   "metadata": {},
   "outputs": [
    {
     "data": {
      "image/png": "[encoded data removed]",
      "text/plain": [
       "<Figure size 432x288 with 1 Axes>"
      ]
     },
     "metadata": {},
     "output_type": "display_data"
    }
   ],
   "source": [
    "sns.regplot(x=\"1stFlrSF\", y=\"SalePrice\", data=dftwsp, fit_reg=False);"
   ]
  },
  {
   "cell_type": "code",
   "execution_count": 186,
   "metadata": {},
   "outputs": [
    {
     "name": "stdout",
     "output_type": "stream",
     "text": [
      "Outlier for 1stFlrSF :  [524]\n"
     ]
    }
   ],
   "source": [
    "print(\"Outlier for 1stFlrSF : \", list(dftwsp[(dftwsp['1stFlrSF']>3000) & (dftwsp.SalePrice<=12.5)].Id))"
   ]
  },
  {
   "cell_type": "markdown",
   "metadata": {},
   "source": [
    "### FullBath ###"
   ]
  },
  {
   "cell_type": "code",
   "execution_count": 187,
   "metadata": {},
   "outputs": [
    {
     "data": {
      "image/png": "[encoded data removed]",
      "text/plain": [
       "<Figure size 432x288 with 1 Axes>"
      ]
     },
     "metadata": {},
     "output_type": "display_data"
    }
   ],
   "source": [
    "sns.stripplot(x=\"FullBath\", y=\"SalePrice\", data=df_train_with_salePrice, jitter=True);"
   ]
  },
  {
   "cell_type": "code",
   "execution_count": 188,
   "metadata": {},
   "outputs": [
    {
     "name": "stdout",
     "output_type": "stream",
     "text": [
      "Outlier for FullBath = 1 :  [31, 496, 534, 969]\n",
      "Outlier for FullBath = 2 :  [706]\n",
      "FullBath = 0 :  [54, 189, 376, 598, 635, 917, 1164]\n"
     ]
    }
   ],
   "source": [
    "print(\"Outlier for FullBath = 1 : \", list(dftwsp[(dftwsp.FullBath==1) & ((dftwsp.SalePrice<=10.75))].Id))\n",
    "print(\"Outlier for FullBath = 2 : \", list(dftwsp[(dftwsp.FullBath==2) & ((dftwsp.SalePrice<=11))].Id))\n",
    "print(\"FullBath = 0 : \", list(dftwsp[(dftwsp.FullBath==0)].Id))"
   ]
  },
  {
   "cell_type": "markdown",
   "metadata": {},
   "source": [
    "### YearBuilt ###"
   ]
  },
  {
   "cell_type": "code",
   "execution_count": 189,
   "metadata": {},
   "outputs": [
    {
     "data": {
      "image/png": "[encoded data removed]",
      "text/plain": [
       "<Figure size 432x288 with 1 Axes>"
      ]
     },
     "metadata": {},
     "output_type": "display_data"
    }
   ],
   "source": [
    "sns.regplot(x=\"YearBuilt\", y=\"SalePrice\", data=dftwsp, fit_reg=False);"
   ]
  },
  {
   "cell_type": "code",
   "execution_count": 190,
   "metadata": {},
   "outputs": [
    {
     "data": {
      "text/html": [
       "<div>\n",
       "<style scoped>\n",
       "    .dataframe tbody tr th:only-of-type {\n",
       "        vertical-align: middle;\n",
       "    }\n",
       "\n",
       "    .dataframe tbody tr th {\n",
       "        vertical-align: top;\n",
       "    }\n",
       "\n",
       "    .dataframe thead th {\n",
       "        text-align: right;\n",
       "    }\n",
       "</style>\n",
       "<table border=\"1\" class=\"dataframe\">\n",
       "  <thead>\n",
       "    <tr style=\"text-align: right;\">\n",
       "      <th></th>\n",
       "      <th>Id</th>\n",
       "      <th>MSSubClass</th>\n",
       "      <th>MSZoning</th>\n",
       "      <th>LotFrontage</th>\n",
       "      <th>LotArea</th>\n",
       "      <th>Street</th>\n",
       "      <th>Alley</th>\n",
       "      <th>LotShape</th>\n",
       "      <th>LandContour</th>\n",
       "      <th>Utilities</th>\n",
       "      <th>...</th>\n",
       "      <th>ScreenPorch</th>\n",
       "      <th>PoolArea</th>\n",
       "      <th>PoolQC</th>\n",
       "      <th>Fence</th>\n",
       "      <th>MiscFeature</th>\n",
       "      <th>MiscVal</th>\n",
       "      <th>MoSold</th>\n",
       "      <th>YrSold</th>\n",
       "      <th>SaleType</th>\n",
       "      <th>SaleCondition</th>\n",
       "    </tr>\n",
       "  </thead>\n",
       "  <tbody>\n",
       "    <tr>\n",
       "      <th>0</th>\n",
       "      <td>1201</td>\n",
       "      <td>20</td>\n",
       "      <td>RL</td>\n",
       "      <td>71.0</td>\n",
       "      <td>9353</td>\n",
       "      <td>Pave</td>\n",
       "      <td>Na</td>\n",
       "      <td>Reg</td>\n",
       "      <td>Lvl</td>\n",
       "      <td>AllPub</td>\n",
       "      <td>...</td>\n",
       "      <td>0</td>\n",
       "      <td>0</td>\n",
       "      <td>Na</td>\n",
       "      <td>Na</td>\n",
       "      <td>Shed</td>\n",
       "      <td>0</td>\n",
       "      <td>7</td>\n",
       "      <td>2006</td>\n",
       "      <td>Oth</td>\n",
       "      <td>Abnorml</td>\n",
       "    </tr>\n",
       "    <tr>\n",
       "      <th>1</th>\n",
       "      <td>1202</td>\n",
       "      <td>60</td>\n",
       "      <td>RL</td>\n",
       "      <td>80.0</td>\n",
       "      <td>10400</td>\n",
       "      <td>Pave</td>\n",
       "      <td>Na</td>\n",
       "      <td>Reg</td>\n",
       "      <td>Lvl</td>\n",
       "      <td>AllPub</td>\n",
       "      <td>...</td>\n",
       "      <td>0</td>\n",
       "      <td>0</td>\n",
       "      <td>Na</td>\n",
       "      <td>Na</td>\n",
       "      <td>Na</td>\n",
       "      <td>0</td>\n",
       "      <td>3</td>\n",
       "      <td>2009</td>\n",
       "      <td>WD</td>\n",
       "      <td>Normal</td>\n",
       "    </tr>\n",
       "    <tr>\n",
       "      <th>2</th>\n",
       "      <td>1203</td>\n",
       "      <td>50</td>\n",
       "      <td>RM</td>\n",
       "      <td>50.0</td>\n",
       "      <td>6000</td>\n",
       "      <td>Pave</td>\n",
       "      <td>Na</td>\n",
       "      <td>Reg</td>\n",
       "      <td>Lvl</td>\n",
       "      <td>AllPub</td>\n",
       "      <td>...</td>\n",
       "      <td>0</td>\n",
       "      <td>0</td>\n",
       "      <td>Na</td>\n",
       "      <td>Na</td>\n",
       "      <td>Na</td>\n",
       "      <td>0</td>\n",
       "      <td>5</td>\n",
       "      <td>2009</td>\n",
       "      <td>WD</td>\n",
       "      <td>Normal</td>\n",
       "    </tr>\n",
       "    <tr>\n",
       "      <th>3</th>\n",
       "      <td>1204</td>\n",
       "      <td>20</td>\n",
       "      <td>RL</td>\n",
       "      <td>75.0</td>\n",
       "      <td>9750</td>\n",
       "      <td>Pave</td>\n",
       "      <td>Na</td>\n",
       "      <td>Reg</td>\n",
       "      <td>Lvl</td>\n",
       "      <td>AllPub</td>\n",
       "      <td>...</td>\n",
       "      <td>0</td>\n",
       "      <td>0</td>\n",
       "      <td>Na</td>\n",
       "      <td>Na</td>\n",
       "      <td>Na</td>\n",
       "      <td>0</td>\n",
       "      <td>10</td>\n",
       "      <td>2009</td>\n",
       "      <td>WD</td>\n",
       "      <td>Normal</td>\n",
       "    </tr>\n",
       "    <tr>\n",
       "      <th>4</th>\n",
       "      <td>1205</td>\n",
       "      <td>20</td>\n",
       "      <td>RL</td>\n",
       "      <td>78.0</td>\n",
       "      <td>10140</td>\n",
       "      <td>Pave</td>\n",
       "      <td>Na</td>\n",
       "      <td>Reg</td>\n",
       "      <td>Lvl</td>\n",
       "      <td>AllPub</td>\n",
       "      <td>...</td>\n",
       "      <td>0</td>\n",
       "      <td>0</td>\n",
       "      <td>Na</td>\n",
       "      <td>MnPrv</td>\n",
       "      <td>Na</td>\n",
       "      <td>0</td>\n",
       "      <td>7</td>\n",
       "      <td>2006</td>\n",
       "      <td>WD</td>\n",
       "      <td>Normal</td>\n",
       "    </tr>\n",
       "    <tr>\n",
       "      <th>5</th>\n",
       "      <td>1206</td>\n",
       "      <td>20</td>\n",
       "      <td>RL</td>\n",
       "      <td>90.0</td>\n",
       "      <td>14684</td>\n",
       "      <td>Pave</td>\n",
       "      <td>Na</td>\n",
       "      <td>IR1</td>\n",
       "      <td>Lvl</td>\n",
       "      <td>AllPub</td>\n",
       "      <td>...</td>\n",
       "      <td>0</td>\n",
       "      <td>0</td>\n",
       "      <td>Na</td>\n",
       "      <td>Na</td>\n",
       "      <td>Na</td>\n",
       "      <td>0</td>\n",
       "      <td>6</td>\n",
       "      <td>2009</td>\n",
       "      <td>WD</td>\n",
       "      <td>Normal</td>\n",
       "    </tr>\n",
       "    <tr>\n",
       "      <th>6</th>\n",
       "      <td>1207</td>\n",
       "      <td>20</td>\n",
       "      <td>RH</td>\n",
       "      <td>66.5</td>\n",
       "      <td>8900</td>\n",
       "      <td>Pave</td>\n",
       "      <td>Na</td>\n",
       "      <td>Reg</td>\n",
       "      <td>Lvl</td>\n",
       "      <td>AllPub</td>\n",
       "      <td>...</td>\n",
       "      <td>0</td>\n",
       "      <td>0</td>\n",
       "      <td>Na</td>\n",
       "      <td>MnPrv</td>\n",
       "      <td>Na</td>\n",
       "      <td>0</td>\n",
       "      <td>11</td>\n",
       "      <td>2006</td>\n",
       "      <td>WD</td>\n",
       "      <td>Normal</td>\n",
       "    </tr>\n",
       "    <tr>\n",
       "      <th>7</th>\n",
       "      <td>1208</td>\n",
       "      <td>20</td>\n",
       "      <td>RL</td>\n",
       "      <td>70.0</td>\n",
       "      <td>9135</td>\n",
       "      <td>Pave</td>\n",
       "      <td>Na</td>\n",
       "      <td>Reg</td>\n",
       "      <td>Lvl</td>\n",
       "      <td>AllPub</td>\n",
       "      <td>...</td>\n",
       "      <td>0</td>\n",
       "      <td>0</td>\n",
       "      <td>Na</td>\n",
       "      <td>Na</td>\n",
       "      <td>Na</td>\n",
       "      <td>0</td>\n",
       "      <td>5</td>\n",
       "      <td>2006</td>\n",
       "      <td>WD</td>\n",
       "      <td>Normal</td>\n",
       "    </tr>\n",
       "    <tr>\n",
       "      <th>8</th>\n",
       "      <td>1209</td>\n",
       "      <td>20</td>\n",
       "      <td>RL</td>\n",
       "      <td>70.0</td>\n",
       "      <td>7763</td>\n",
       "      <td>Pave</td>\n",
       "      <td>Na</td>\n",
       "      <td>Reg</td>\n",
       "      <td>Lvl</td>\n",
       "      <td>AllPub</td>\n",
       "      <td>...</td>\n",
       "      <td>0</td>\n",
       "      <td>0</td>\n",
       "      <td>Na</td>\n",
       "      <td>Na</td>\n",
       "      <td>Na</td>\n",
       "      <td>0</td>\n",
       "      <td>10</td>\n",
       "      <td>2008</td>\n",
       "      <td>WD</td>\n",
       "      <td>Normal</td>\n",
       "    </tr>\n",
       "    <tr>\n",
       "      <th>9</th>\n",
       "      <td>1210</td>\n",
       "      <td>20</td>\n",
       "      <td>RL</td>\n",
       "      <td>85.0</td>\n",
       "      <td>10182</td>\n",
       "      <td>Pave</td>\n",
       "      <td>Na</td>\n",
       "      <td>IR1</td>\n",
       "      <td>Lvl</td>\n",
       "      <td>AllPub</td>\n",
       "      <td>...</td>\n",
       "      <td>0</td>\n",
       "      <td>0</td>\n",
       "      <td>Na</td>\n",
       "      <td>Na</td>\n",
       "      <td>Na</td>\n",
       "      <td>0</td>\n",
       "      <td>5</td>\n",
       "      <td>2006</td>\n",
       "      <td>New</td>\n",
       "      <td>Partial</td>\n",
       "    </tr>\n",
       "    <tr>\n",
       "      <th>10</th>\n",
       "      <td>1211</td>\n",
       "      <td>60</td>\n",
       "      <td>RL</td>\n",
       "      <td>70.0</td>\n",
       "      <td>11218</td>\n",
       "      <td>Pave</td>\n",
       "      <td>Na</td>\n",
       "      <td>Reg</td>\n",
       "      <td>Lvl</td>\n",
       "      <td>AllPub</td>\n",
       "      <td>...</td>\n",
       "      <td>0</td>\n",
       "      <td>0</td>\n",
       "      <td>Na</td>\n",
       "      <td>GdPrv</td>\n",
       "      <td>Shed</td>\n",
       "      <td>400</td>\n",
       "      <td>5</td>\n",
       "      <td>2010</td>\n",
       "      <td>WD</td>\n",
       "      <td>Normal</td>\n",
       "    </tr>\n",
       "    <tr>\n",
       "      <th>11</th>\n",
       "      <td>1212</td>\n",
       "      <td>50</td>\n",
       "      <td>RL</td>\n",
       "      <td>152.0</td>\n",
       "      <td>12134</td>\n",
       "      <td>Pave</td>\n",
       "      <td>Na</td>\n",
       "      <td>IR1</td>\n",
       "      <td>Bnk</td>\n",
       "      <td>AllPub</td>\n",
       "      <td>...</td>\n",
       "      <td>0</td>\n",
       "      <td>0</td>\n",
       "      <td>Na</td>\n",
       "      <td>Na</td>\n",
       "      <td>Na</td>\n",
       "      <td>0</td>\n",
       "      <td>6</td>\n",
       "      <td>2010</td>\n",
       "      <td>WD</td>\n",
       "      <td>Normal</td>\n",
       "    </tr>\n",
       "    <tr>\n",
       "      <th>12</th>\n",
       "      <td>1213</td>\n",
       "      <td>30</td>\n",
       "      <td>RL</td>\n",
       "      <td>50.0</td>\n",
       "      <td>9340</td>\n",
       "      <td>Pave</td>\n",
       "      <td>Na</td>\n",
       "      <td>Reg</td>\n",
       "      <td>Lvl</td>\n",
       "      <td>AllPub</td>\n",
       "      <td>...</td>\n",
       "      <td>0</td>\n",
       "      <td>0</td>\n",
       "      <td>Na</td>\n",
       "      <td>Na</td>\n",
       "      <td>Na</td>\n",
       "      <td>0</td>\n",
       "      <td>8</td>\n",
       "      <td>2009</td>\n",
       "      <td>WD</td>\n",
       "      <td>Normal</td>\n",
       "    </tr>\n",
       "    <tr>\n",
       "      <th>13</th>\n",
       "      <td>1214</td>\n",
       "      <td>80</td>\n",
       "      <td>RL</td>\n",
       "      <td>71.0</td>\n",
       "      <td>10246</td>\n",
       "      <td>Pave</td>\n",
       "      <td>Na</td>\n",
       "      <td>IR1</td>\n",
       "      <td>Lvl</td>\n",
       "      <td>AllPub</td>\n",
       "      <td>...</td>\n",
       "      <td>0</td>\n",
       "      <td>0</td>\n",
       "      <td>Na</td>\n",
       "      <td>Na</td>\n",
       "      <td>Na</td>\n",
       "      <td>0</td>\n",
       "      <td>5</td>\n",
       "      <td>2006</td>\n",
       "      <td>WD</td>\n",
       "      <td>Normal</td>\n",
       "    </tr>\n",
       "    <tr>\n",
       "      <th>14</th>\n",
       "      <td>1215</td>\n",
       "      <td>85</td>\n",
       "      <td>RL</td>\n",
       "      <td>69.0</td>\n",
       "      <td>10205</td>\n",
       "      <td>Pave</td>\n",
       "      <td>Na</td>\n",
       "      <td>IR1</td>\n",
       "      <td>Lvl</td>\n",
       "      <td>AllPub</td>\n",
       "      <td>...</td>\n",
       "      <td>0</td>\n",
       "      <td>0</td>\n",
       "      <td>Na</td>\n",
       "      <td>Na</td>\n",
       "      <td>Na</td>\n",
       "      <td>0</td>\n",
       "      <td>5</td>\n",
       "      <td>2006</td>\n",
       "      <td>WD</td>\n",
       "      <td>Normal</td>\n",
       "    </tr>\n",
       "    <tr>\n",
       "      <th>15</th>\n",
       "      <td>1216</td>\n",
       "      <td>20</td>\n",
       "      <td>RL</td>\n",
       "      <td>99.0</td>\n",
       "      <td>7094</td>\n",
       "      <td>Pave</td>\n",
       "      <td>Na</td>\n",
       "      <td>IR1</td>\n",
       "      <td>Lvl</td>\n",
       "      <td>AllPub</td>\n",
       "      <td>...</td>\n",
       "      <td>0</td>\n",
       "      <td>0</td>\n",
       "      <td>Na</td>\n",
       "      <td>MnPrv</td>\n",
       "      <td>Na</td>\n",
       "      <td>0</td>\n",
       "      <td>5</td>\n",
       "      <td>2007</td>\n",
       "      <td>WD</td>\n",
       "      <td>Normal</td>\n",
       "    </tr>\n",
       "    <tr>\n",
       "      <th>16</th>\n",
       "      <td>1217</td>\n",
       "      <td>90</td>\n",
       "      <td>RM</td>\n",
       "      <td>68.0</td>\n",
       "      <td>8930</td>\n",
       "      <td>Pave</td>\n",
       "      <td>Na</td>\n",
       "      <td>Reg</td>\n",
       "      <td>Lvl</td>\n",
       "      <td>AllPub</td>\n",
       "      <td>...</td>\n",
       "      <td>0</td>\n",
       "      <td>0</td>\n",
       "      <td>Na</td>\n",
       "      <td>Na</td>\n",
       "      <td>Na</td>\n",
       "      <td>0</td>\n",
       "      <td>4</td>\n",
       "      <td>2010</td>\n",
       "      <td>WD</td>\n",
       "      <td>Normal</td>\n",
       "    </tr>\n",
       "    <tr>\n",
       "      <th>17</th>\n",
       "      <td>1218</td>\n",
       "      <td>20</td>\n",
       "      <td>FV</td>\n",
       "      <td>72.0</td>\n",
       "      <td>8640</td>\n",
       "      <td>Pave</td>\n",
       "      <td>Na</td>\n",
       "      <td>Reg</td>\n",
       "      <td>Lvl</td>\n",
       "      <td>AllPub</td>\n",
       "      <td>...</td>\n",
       "      <td>0</td>\n",
       "      <td>0</td>\n",
       "      <td>Na</td>\n",
       "      <td>Na</td>\n",
       "      <td>Na</td>\n",
       "      <td>0</td>\n",
       "      <td>9</td>\n",
       "      <td>2009</td>\n",
       "      <td>New</td>\n",
       "      <td>Partial</td>\n",
       "    </tr>\n",
       "    <tr>\n",
       "      <th>18</th>\n",
       "      <td>1219</td>\n",
       "      <td>50</td>\n",
       "      <td>RM</td>\n",
       "      <td>52.0</td>\n",
       "      <td>6240</td>\n",
       "      <td>Pave</td>\n",
       "      <td>Na</td>\n",
       "      <td>Reg</td>\n",
       "      <td>Lvl</td>\n",
       "      <td>AllPub</td>\n",
       "      <td>...</td>\n",
       "      <td>0</td>\n",
       "      <td>0</td>\n",
       "      <td>Na</td>\n",
       "      <td>Na</td>\n",
       "      <td>Na</td>\n",
       "      <td>0</td>\n",
       "      <td>7</td>\n",
       "      <td>2006</td>\n",
       "      <td>WD</td>\n",
       "      <td>Normal</td>\n",
       "    </tr>\n",
       "    <tr>\n",
       "      <th>19</th>\n",
       "      <td>1220</td>\n",
       "      <td>160</td>\n",
       "      <td>RM</td>\n",
       "      <td>21.0</td>\n",
       "      <td>1680</td>\n",
       "      <td>Pave</td>\n",
       "      <td>Na</td>\n",
       "      <td>Reg</td>\n",
       "      <td>Lvl</td>\n",
       "      <td>AllPub</td>\n",
       "      <td>...</td>\n",
       "      <td>0</td>\n",
       "      <td>0</td>\n",
       "      <td>Na</td>\n",
       "      <td>Na</td>\n",
       "      <td>Na</td>\n",
       "      <td>0</td>\n",
       "      <td>4</td>\n",
       "      <td>2006</td>\n",
       "      <td>WD</td>\n",
       "      <td>Abnorml</td>\n",
       "    </tr>\n",
       "    <tr>\n",
       "      <th>20</th>\n",
       "      <td>1221</td>\n",
       "      <td>20</td>\n",
       "      <td>RL</td>\n",
       "      <td>66.0</td>\n",
       "      <td>7800</td>\n",
       "      <td>Pave</td>\n",
       "      <td>Na</td>\n",
       "      <td>IR1</td>\n",
       "      <td>Lvl</td>\n",
       "      <td>AllPub</td>\n",
       "      <td>...</td>\n",
       "      <td>0</td>\n",
       "      <td>0</td>\n",
       "      <td>Na</td>\n",
       "      <td>Na</td>\n",
       "      <td>Na</td>\n",
       "      <td>0</td>\n",
       "      <td>11</td>\n",
       "      <td>2006</td>\n",
       "      <td>WD</td>\n",
       "      <td>Abnorml</td>\n",
       "    </tr>\n",
       "    <tr>\n",
       "      <th>21</th>\n",
       "      <td>1222</td>\n",
       "      <td>20</td>\n",
       "      <td>RL</td>\n",
       "      <td>55.0</td>\n",
       "      <td>8250</td>\n",
       "      <td>Pave</td>\n",
       "      <td>Na</td>\n",
       "      <td>Reg</td>\n",
       "      <td>Lvl</td>\n",
       "      <td>AllPub</td>\n",
       "      <td>...</td>\n",
       "      <td>0</td>\n",
       "      <td>0</td>\n",
       "      <td>Na</td>\n",
       "      <td>Na</td>\n",
       "      <td>Na</td>\n",
       "      <td>0</td>\n",
       "      <td>8</td>\n",
       "      <td>2008</td>\n",
       "      <td>WD</td>\n",
       "      <td>Normal</td>\n",
       "    </tr>\n",
       "    <tr>\n",
       "      <th>22</th>\n",
       "      <td>1223</td>\n",
       "      <td>50</td>\n",
       "      <td>RL</td>\n",
       "      <td>78.0</td>\n",
       "      <td>10496</td>\n",
       "      <td>Pave</td>\n",
       "      <td>Na</td>\n",
       "      <td>Reg</td>\n",
       "      <td>Lvl</td>\n",
       "      <td>AllPub</td>\n",
       "      <td>...</td>\n",
       "      <td>0</td>\n",
       "      <td>0</td>\n",
       "      <td>Na</td>\n",
       "      <td>GdWo</td>\n",
       "      <td>Na</td>\n",
       "      <td>0</td>\n",
       "      <td>1</td>\n",
       "      <td>2007</td>\n",
       "      <td>WD</td>\n",
       "      <td>Normal</td>\n",
       "    </tr>\n",
       "    <tr>\n",
       "      <th>23</th>\n",
       "      <td>1224</td>\n",
       "      <td>20</td>\n",
       "      <td>RL</td>\n",
       "      <td>89.0</td>\n",
       "      <td>10680</td>\n",
       "      <td>Pave</td>\n",
       "      <td>Na</td>\n",
       "      <td>Reg</td>\n",
       "      <td>Lvl</td>\n",
       "      <td>AllPub</td>\n",
       "      <td>...</td>\n",
       "      <td>0</td>\n",
       "      <td>0</td>\n",
       "      <td>Na</td>\n",
       "      <td>MnPrv</td>\n",
       "      <td>Na</td>\n",
       "      <td>0</td>\n",
       "      <td>10</td>\n",
       "      <td>2006</td>\n",
       "      <td>WD</td>\n",
       "      <td>Normal</td>\n",
       "    </tr>\n",
       "    <tr>\n",
       "      <th>24</th>\n",
       "      <td>1225</td>\n",
       "      <td>60</td>\n",
       "      <td>RL</td>\n",
       "      <td>60.0</td>\n",
       "      <td>15384</td>\n",
       "      <td>Pave</td>\n",
       "      <td>Na</td>\n",
       "      <td>IR1</td>\n",
       "      <td>Lvl</td>\n",
       "      <td>AllPub</td>\n",
       "      <td>...</td>\n",
       "      <td>0</td>\n",
       "      <td>0</td>\n",
       "      <td>Na</td>\n",
       "      <td>Na</td>\n",
       "      <td>Na</td>\n",
       "      <td>0</td>\n",
       "      <td>2</td>\n",
       "      <td>2008</td>\n",
       "      <td>WD</td>\n",
       "      <td>Normal</td>\n",
       "    </tr>\n",
       "    <tr>\n",
       "      <th>25</th>\n",
       "      <td>1226</td>\n",
       "      <td>80</td>\n",
       "      <td>RL</td>\n",
       "      <td>65.0</td>\n",
       "      <td>10482</td>\n",
       "      <td>Pave</td>\n",
       "      <td>Na</td>\n",
       "      <td>Reg</td>\n",
       "      <td>Lvl</td>\n",
       "      <td>AllPub</td>\n",
       "      <td>...</td>\n",
       "      <td>0</td>\n",
       "      <td>0</td>\n",
       "      <td>Na</td>\n",
       "      <td>MnWw</td>\n",
       "      <td>Na</td>\n",
       "      <td>0</td>\n",
       "      <td>6</td>\n",
       "      <td>2007</td>\n",
       "      <td>WD</td>\n",
       "      <td>Normal</td>\n",
       "    </tr>\n",
       "    <tr>\n",
       "      <th>26</th>\n",
       "      <td>1227</td>\n",
       "      <td>60</td>\n",
       "      <td>RL</td>\n",
       "      <td>86.0</td>\n",
       "      <td>14598</td>\n",
       "      <td>Pave</td>\n",
       "      <td>Na</td>\n",
       "      <td>IR1</td>\n",
       "      <td>Lvl</td>\n",
       "      <td>AllPub</td>\n",
       "      <td>...</td>\n",
       "      <td>0</td>\n",
       "      <td>0</td>\n",
       "      <td>Na</td>\n",
       "      <td>Na</td>\n",
       "      <td>Na</td>\n",
       "      <td>0</td>\n",
       "      <td>1</td>\n",
       "      <td>2008</td>\n",
       "      <td>WD</td>\n",
       "      <td>Normal</td>\n",
       "    </tr>\n",
       "    <tr>\n",
       "      <th>27</th>\n",
       "      <td>1228</td>\n",
       "      <td>20</td>\n",
       "      <td>RL</td>\n",
       "      <td>72.0</td>\n",
       "      <td>8872</td>\n",
       "      <td>Pave</td>\n",
       "      <td>Na</td>\n",
       "      <td>Reg</td>\n",
       "      <td>Lvl</td>\n",
       "      <td>AllPub</td>\n",
       "      <td>...</td>\n",
       "      <td>0</td>\n",
       "      <td>0</td>\n",
       "      <td>Na</td>\n",
       "      <td>Na</td>\n",
       "      <td>Na</td>\n",
       "      <td>0</td>\n",
       "      <td>12</td>\n",
       "      <td>2008</td>\n",
       "      <td>WD</td>\n",
       "      <td>Normal</td>\n",
       "    </tr>\n",
       "    <tr>\n",
       "      <th>28</th>\n",
       "      <td>1229</td>\n",
       "      <td>120</td>\n",
       "      <td>RL</td>\n",
       "      <td>65.0</td>\n",
       "      <td>8769</td>\n",
       "      <td>Pave</td>\n",
       "      <td>Na</td>\n",
       "      <td>Reg</td>\n",
       "      <td>Lvl</td>\n",
       "      <td>AllPub</td>\n",
       "      <td>...</td>\n",
       "      <td>224</td>\n",
       "      <td>0</td>\n",
       "      <td>Na</td>\n",
       "      <td>Na</td>\n",
       "      <td>Na</td>\n",
       "      <td>0</td>\n",
       "      <td>10</td>\n",
       "      <td>2008</td>\n",
       "      <td>New</td>\n",
       "      <td>Partial</td>\n",
       "    </tr>\n",
       "    <tr>\n",
       "      <th>29</th>\n",
       "      <td>1230</td>\n",
       "      <td>80</td>\n",
       "      <td>RL</td>\n",
       "      <td>70.0</td>\n",
       "      <td>7910</td>\n",
       "      <td>Pave</td>\n",
       "      <td>Na</td>\n",
       "      <td>Reg</td>\n",
       "      <td>Lvl</td>\n",
       "      <td>AllPub</td>\n",
       "      <td>...</td>\n",
       "      <td>0</td>\n",
       "      <td>0</td>\n",
       "      <td>Na</td>\n",
       "      <td>GdWo</td>\n",
       "      <td>Na</td>\n",
       "      <td>0</td>\n",
       "      <td>8</td>\n",
       "      <td>2008</td>\n",
       "      <td>WD</td>\n",
       "      <td>Normal</td>\n",
       "    </tr>\n",
       "    <tr>\n",
       "      <th>...</th>\n",
       "      <td>...</td>\n",
       "      <td>...</td>\n",
       "      <td>...</td>\n",
       "      <td>...</td>\n",
       "      <td>...</td>\n",
       "      <td>...</td>\n",
       "      <td>...</td>\n",
       "      <td>...</td>\n",
       "      <td>...</td>\n",
       "      <td>...</td>\n",
       "      <td>...</td>\n",
       "      <td>...</td>\n",
       "      <td>...</td>\n",
       "      <td>...</td>\n",
       "      <td>...</td>\n",
       "      <td>...</td>\n",
       "      <td>...</td>\n",
       "      <td>...</td>\n",
       "      <td>...</td>\n",
       "      <td>...</td>\n",
       "      <td>...</td>\n",
       "    </tr>\n",
       "    <tr>\n",
       "      <th>230</th>\n",
       "      <td>1431</td>\n",
       "      <td>60</td>\n",
       "      <td>RL</td>\n",
       "      <td>60.0</td>\n",
       "      <td>21930</td>\n",
       "      <td>Pave</td>\n",
       "      <td>Na</td>\n",
       "      <td>IR3</td>\n",
       "      <td>Lvl</td>\n",
       "      <td>AllPub</td>\n",
       "      <td>...</td>\n",
       "      <td>0</td>\n",
       "      <td>0</td>\n",
       "      <td>Na</td>\n",
       "      <td>Na</td>\n",
       "      <td>Na</td>\n",
       "      <td>0</td>\n",
       "      <td>7</td>\n",
       "      <td>2006</td>\n",
       "      <td>WD</td>\n",
       "      <td>Normal</td>\n",
       "    </tr>\n",
       "    <tr>\n",
       "      <th>231</th>\n",
       "      <td>1432</td>\n",
       "      <td>120</td>\n",
       "      <td>RL</td>\n",
       "      <td>24.0</td>\n",
       "      <td>4928</td>\n",
       "      <td>Pave</td>\n",
       "      <td>Na</td>\n",
       "      <td>IR1</td>\n",
       "      <td>Lvl</td>\n",
       "      <td>AllPub</td>\n",
       "      <td>...</td>\n",
       "      <td>0</td>\n",
       "      <td>0</td>\n",
       "      <td>Na</td>\n",
       "      <td>Na</td>\n",
       "      <td>Na</td>\n",
       "      <td>0</td>\n",
       "      <td>10</td>\n",
       "      <td>2009</td>\n",
       "      <td>WD</td>\n",
       "      <td>Normal</td>\n",
       "    </tr>\n",
       "    <tr>\n",
       "      <th>232</th>\n",
       "      <td>1433</td>\n",
       "      <td>30</td>\n",
       "      <td>RL</td>\n",
       "      <td>60.0</td>\n",
       "      <td>10800</td>\n",
       "      <td>Pave</td>\n",
       "      <td>Grvl</td>\n",
       "      <td>Reg</td>\n",
       "      <td>Lvl</td>\n",
       "      <td>AllPub</td>\n",
       "      <td>...</td>\n",
       "      <td>0</td>\n",
       "      <td>0</td>\n",
       "      <td>Na</td>\n",
       "      <td>Na</td>\n",
       "      <td>Na</td>\n",
       "      <td>0</td>\n",
       "      <td>8</td>\n",
       "      <td>2007</td>\n",
       "      <td>WD</td>\n",
       "      <td>Normal</td>\n",
       "    </tr>\n",
       "    <tr>\n",
       "      <th>233</th>\n",
       "      <td>1434</td>\n",
       "      <td>60</td>\n",
       "      <td>RL</td>\n",
       "      <td>93.0</td>\n",
       "      <td>10261</td>\n",
       "      <td>Pave</td>\n",
       "      <td>Na</td>\n",
       "      <td>IR1</td>\n",
       "      <td>Lvl</td>\n",
       "      <td>AllPub</td>\n",
       "      <td>...</td>\n",
       "      <td>0</td>\n",
       "      <td>0</td>\n",
       "      <td>Na</td>\n",
       "      <td>Na</td>\n",
       "      <td>Na</td>\n",
       "      <td>0</td>\n",
       "      <td>5</td>\n",
       "      <td>2008</td>\n",
       "      <td>WD</td>\n",
       "      <td>Normal</td>\n",
       "    </tr>\n",
       "    <tr>\n",
       "      <th>234</th>\n",
       "      <td>1435</td>\n",
       "      <td>20</td>\n",
       "      <td>RL</td>\n",
       "      <td>80.0</td>\n",
       "      <td>17400</td>\n",
       "      <td>Pave</td>\n",
       "      <td>Na</td>\n",
       "      <td>Reg</td>\n",
       "      <td>Low</td>\n",
       "      <td>AllPub</td>\n",
       "      <td>...</td>\n",
       "      <td>0</td>\n",
       "      <td>0</td>\n",
       "      <td>Na</td>\n",
       "      <td>Na</td>\n",
       "      <td>Na</td>\n",
       "      <td>0</td>\n",
       "      <td>5</td>\n",
       "      <td>2006</td>\n",
       "      <td>WD</td>\n",
       "      <td>Normal</td>\n",
       "    </tr>\n",
       "    <tr>\n",
       "      <th>235</th>\n",
       "      <td>1436</td>\n",
       "      <td>20</td>\n",
       "      <td>RL</td>\n",
       "      <td>80.0</td>\n",
       "      <td>8400</td>\n",
       "      <td>Pave</td>\n",
       "      <td>Na</td>\n",
       "      <td>Reg</td>\n",
       "      <td>Lvl</td>\n",
       "      <td>AllPub</td>\n",
       "      <td>...</td>\n",
       "      <td>0</td>\n",
       "      <td>0</td>\n",
       "      <td>Na</td>\n",
       "      <td>GdPrv</td>\n",
       "      <td>Na</td>\n",
       "      <td>0</td>\n",
       "      <td>7</td>\n",
       "      <td>2008</td>\n",
       "      <td>COD</td>\n",
       "      <td>Abnorml</td>\n",
       "    </tr>\n",
       "    <tr>\n",
       "      <th>236</th>\n",
       "      <td>1437</td>\n",
       "      <td>20</td>\n",
       "      <td>RL</td>\n",
       "      <td>60.0</td>\n",
       "      <td>9000</td>\n",
       "      <td>Pave</td>\n",
       "      <td>Na</td>\n",
       "      <td>Reg</td>\n",
       "      <td>Lvl</td>\n",
       "      <td>AllPub</td>\n",
       "      <td>...</td>\n",
       "      <td>0</td>\n",
       "      <td>0</td>\n",
       "      <td>Na</td>\n",
       "      <td>GdWo</td>\n",
       "      <td>Na</td>\n",
       "      <td>0</td>\n",
       "      <td>5</td>\n",
       "      <td>2007</td>\n",
       "      <td>WD</td>\n",
       "      <td>Normal</td>\n",
       "    </tr>\n",
       "    <tr>\n",
       "      <th>237</th>\n",
       "      <td>1438</td>\n",
       "      <td>20</td>\n",
       "      <td>RL</td>\n",
       "      <td>96.0</td>\n",
       "      <td>12444</td>\n",
       "      <td>Pave</td>\n",
       "      <td>Na</td>\n",
       "      <td>Reg</td>\n",
       "      <td>Lvl</td>\n",
       "      <td>AllPub</td>\n",
       "      <td>...</td>\n",
       "      <td>0</td>\n",
       "      <td>0</td>\n",
       "      <td>Na</td>\n",
       "      <td>Na</td>\n",
       "      <td>Na</td>\n",
       "      <td>0</td>\n",
       "      <td>11</td>\n",
       "      <td>2008</td>\n",
       "      <td>New</td>\n",
       "      <td>Partial</td>\n",
       "    </tr>\n",
       "    <tr>\n",
       "      <th>238</th>\n",
       "      <td>1439</td>\n",
       "      <td>20</td>\n",
       "      <td>RM</td>\n",
       "      <td>90.0</td>\n",
       "      <td>7407</td>\n",
       "      <td>Pave</td>\n",
       "      <td>Na</td>\n",
       "      <td>Reg</td>\n",
       "      <td>Lvl</td>\n",
       "      <td>AllPub</td>\n",
       "      <td>...</td>\n",
       "      <td>0</td>\n",
       "      <td>0</td>\n",
       "      <td>Na</td>\n",
       "      <td>MnPrv</td>\n",
       "      <td>Na</td>\n",
       "      <td>0</td>\n",
       "      <td>4</td>\n",
       "      <td>2010</td>\n",
       "      <td>WD</td>\n",
       "      <td>Normal</td>\n",
       "    </tr>\n",
       "    <tr>\n",
       "      <th>239</th>\n",
       "      <td>1440</td>\n",
       "      <td>60</td>\n",
       "      <td>RL</td>\n",
       "      <td>80.0</td>\n",
       "      <td>11584</td>\n",
       "      <td>Pave</td>\n",
       "      <td>Na</td>\n",
       "      <td>Reg</td>\n",
       "      <td>Lvl</td>\n",
       "      <td>AllPub</td>\n",
       "      <td>...</td>\n",
       "      <td>0</td>\n",
       "      <td>0</td>\n",
       "      <td>Na</td>\n",
       "      <td>Na</td>\n",
       "      <td>Na</td>\n",
       "      <td>0</td>\n",
       "      <td>11</td>\n",
       "      <td>2007</td>\n",
       "      <td>WD</td>\n",
       "      <td>Normal</td>\n",
       "    </tr>\n",
       "    <tr>\n",
       "      <th>240</th>\n",
       "      <td>1441</td>\n",
       "      <td>70</td>\n",
       "      <td>RL</td>\n",
       "      <td>79.0</td>\n",
       "      <td>11526</td>\n",
       "      <td>Pave</td>\n",
       "      <td>Na</td>\n",
       "      <td>IR1</td>\n",
       "      <td>Bnk</td>\n",
       "      <td>AllPub</td>\n",
       "      <td>...</td>\n",
       "      <td>0</td>\n",
       "      <td>0</td>\n",
       "      <td>Na</td>\n",
       "      <td>Na</td>\n",
       "      <td>Na</td>\n",
       "      <td>0</td>\n",
       "      <td>9</td>\n",
       "      <td>2008</td>\n",
       "      <td>WD</td>\n",
       "      <td>Normal</td>\n",
       "    </tr>\n",
       "    <tr>\n",
       "      <th>241</th>\n",
       "      <td>1442</td>\n",
       "      <td>120</td>\n",
       "      <td>RM</td>\n",
       "      <td>70.0</td>\n",
       "      <td>4426</td>\n",
       "      <td>Pave</td>\n",
       "      <td>Na</td>\n",
       "      <td>Reg</td>\n",
       "      <td>Lvl</td>\n",
       "      <td>AllPub</td>\n",
       "      <td>...</td>\n",
       "      <td>0</td>\n",
       "      <td>0</td>\n",
       "      <td>Na</td>\n",
       "      <td>Na</td>\n",
       "      <td>Na</td>\n",
       "      <td>0</td>\n",
       "      <td>5</td>\n",
       "      <td>2008</td>\n",
       "      <td>WD</td>\n",
       "      <td>Normal</td>\n",
       "    </tr>\n",
       "    <tr>\n",
       "      <th>242</th>\n",
       "      <td>1443</td>\n",
       "      <td>60</td>\n",
       "      <td>FV</td>\n",
       "      <td>85.0</td>\n",
       "      <td>11003</td>\n",
       "      <td>Pave</td>\n",
       "      <td>Na</td>\n",
       "      <td>Reg</td>\n",
       "      <td>Lvl</td>\n",
       "      <td>AllPub</td>\n",
       "      <td>...</td>\n",
       "      <td>0</td>\n",
       "      <td>0</td>\n",
       "      <td>Na</td>\n",
       "      <td>Na</td>\n",
       "      <td>Na</td>\n",
       "      <td>0</td>\n",
       "      <td>4</td>\n",
       "      <td>2009</td>\n",
       "      <td>WD</td>\n",
       "      <td>Normal</td>\n",
       "    </tr>\n",
       "    <tr>\n",
       "      <th>243</th>\n",
       "      <td>1444</td>\n",
       "      <td>30</td>\n",
       "      <td>RL</td>\n",
       "      <td>52.0</td>\n",
       "      <td>8854</td>\n",
       "      <td>Pave</td>\n",
       "      <td>Na</td>\n",
       "      <td>Reg</td>\n",
       "      <td>Lvl</td>\n",
       "      <td>AllPub</td>\n",
       "      <td>...</td>\n",
       "      <td>40</td>\n",
       "      <td>0</td>\n",
       "      <td>Na</td>\n",
       "      <td>Na</td>\n",
       "      <td>Na</td>\n",
       "      <td>0</td>\n",
       "      <td>5</td>\n",
       "      <td>2009</td>\n",
       "      <td>WD</td>\n",
       "      <td>Normal</td>\n",
       "    </tr>\n",
       "    <tr>\n",
       "      <th>244</th>\n",
       "      <td>1445</td>\n",
       "      <td>20</td>\n",
       "      <td>RL</td>\n",
       "      <td>63.0</td>\n",
       "      <td>8500</td>\n",
       "      <td>Pave</td>\n",
       "      <td>Na</td>\n",
       "      <td>Reg</td>\n",
       "      <td>Lvl</td>\n",
       "      <td>AllPub</td>\n",
       "      <td>...</td>\n",
       "      <td>0</td>\n",
       "      <td>0</td>\n",
       "      <td>Na</td>\n",
       "      <td>Na</td>\n",
       "      <td>Na</td>\n",
       "      <td>0</td>\n",
       "      <td>11</td>\n",
       "      <td>2007</td>\n",
       "      <td>WD</td>\n",
       "      <td>Normal</td>\n",
       "    </tr>\n",
       "    <tr>\n",
       "      <th>245</th>\n",
       "      <td>1446</td>\n",
       "      <td>85</td>\n",
       "      <td>RL</td>\n",
       "      <td>70.0</td>\n",
       "      <td>8400</td>\n",
       "      <td>Pave</td>\n",
       "      <td>Na</td>\n",
       "      <td>Reg</td>\n",
       "      <td>Lvl</td>\n",
       "      <td>AllPub</td>\n",
       "      <td>...</td>\n",
       "      <td>0</td>\n",
       "      <td>0</td>\n",
       "      <td>Na</td>\n",
       "      <td>Na</td>\n",
       "      <td>Na</td>\n",
       "      <td>0</td>\n",
       "      <td>5</td>\n",
       "      <td>2007</td>\n",
       "      <td>WD</td>\n",
       "      <td>Normal</td>\n",
       "    </tr>\n",
       "    <tr>\n",
       "      <th>246</th>\n",
       "      <td>1447</td>\n",
       "      <td>20</td>\n",
       "      <td>RL</td>\n",
       "      <td>73.0</td>\n",
       "      <td>26142</td>\n",
       "      <td>Pave</td>\n",
       "      <td>Na</td>\n",
       "      <td>IR1</td>\n",
       "      <td>Lvl</td>\n",
       "      <td>AllPub</td>\n",
       "      <td>...</td>\n",
       "      <td>0</td>\n",
       "      <td>0</td>\n",
       "      <td>Na</td>\n",
       "      <td>Na</td>\n",
       "      <td>Na</td>\n",
       "      <td>0</td>\n",
       "      <td>4</td>\n",
       "      <td>2010</td>\n",
       "      <td>WD</td>\n",
       "      <td>Normal</td>\n",
       "    </tr>\n",
       "    <tr>\n",
       "      <th>247</th>\n",
       "      <td>1448</td>\n",
       "      <td>60</td>\n",
       "      <td>RL</td>\n",
       "      <td>80.0</td>\n",
       "      <td>10000</td>\n",
       "      <td>Pave</td>\n",
       "      <td>Na</td>\n",
       "      <td>Reg</td>\n",
       "      <td>Lvl</td>\n",
       "      <td>AllPub</td>\n",
       "      <td>...</td>\n",
       "      <td>0</td>\n",
       "      <td>0</td>\n",
       "      <td>Na</td>\n",
       "      <td>Na</td>\n",
       "      <td>Na</td>\n",
       "      <td>0</td>\n",
       "      <td>12</td>\n",
       "      <td>2007</td>\n",
       "      <td>WD</td>\n",
       "      <td>Normal</td>\n",
       "    </tr>\n",
       "    <tr>\n",
       "      <th>248</th>\n",
       "      <td>1449</td>\n",
       "      <td>50</td>\n",
       "      <td>RL</td>\n",
       "      <td>70.0</td>\n",
       "      <td>11767</td>\n",
       "      <td>Pave</td>\n",
       "      <td>Na</td>\n",
       "      <td>Reg</td>\n",
       "      <td>Lvl</td>\n",
       "      <td>AllPub</td>\n",
       "      <td>...</td>\n",
       "      <td>0</td>\n",
       "      <td>0</td>\n",
       "      <td>Na</td>\n",
       "      <td>GdWo</td>\n",
       "      <td>Na</td>\n",
       "      <td>0</td>\n",
       "      <td>5</td>\n",
       "      <td>2007</td>\n",
       "      <td>WD</td>\n",
       "      <td>Normal</td>\n",
       "    </tr>\n",
       "    <tr>\n",
       "      <th>249</th>\n",
       "      <td>1450</td>\n",
       "      <td>180</td>\n",
       "      <td>RM</td>\n",
       "      <td>21.0</td>\n",
       "      <td>1533</td>\n",
       "      <td>Pave</td>\n",
       "      <td>Na</td>\n",
       "      <td>Reg</td>\n",
       "      <td>Lvl</td>\n",
       "      <td>AllPub</td>\n",
       "      <td>...</td>\n",
       "      <td>0</td>\n",
       "      <td>0</td>\n",
       "      <td>Na</td>\n",
       "      <td>Na</td>\n",
       "      <td>Na</td>\n",
       "      <td>0</td>\n",
       "      <td>8</td>\n",
       "      <td>2006</td>\n",
       "      <td>WD</td>\n",
       "      <td>Abnorml</td>\n",
       "    </tr>\n",
       "    <tr>\n",
       "      <th>250</th>\n",
       "      <td>1451</td>\n",
       "      <td>90</td>\n",
       "      <td>RL</td>\n",
       "      <td>60.0</td>\n",
       "      <td>9000</td>\n",
       "      <td>Pave</td>\n",
       "      <td>Na</td>\n",
       "      <td>Reg</td>\n",
       "      <td>Lvl</td>\n",
       "      <td>AllPub</td>\n",
       "      <td>...</td>\n",
       "      <td>0</td>\n",
       "      <td>0</td>\n",
       "      <td>Na</td>\n",
       "      <td>Na</td>\n",
       "      <td>Na</td>\n",
       "      <td>0</td>\n",
       "      <td>9</td>\n",
       "      <td>2009</td>\n",
       "      <td>WD</td>\n",
       "      <td>Normal</td>\n",
       "    </tr>\n",
       "    <tr>\n",
       "      <th>251</th>\n",
       "      <td>1452</td>\n",
       "      <td>20</td>\n",
       "      <td>RL</td>\n",
       "      <td>78.0</td>\n",
       "      <td>9262</td>\n",
       "      <td>Pave</td>\n",
       "      <td>Na</td>\n",
       "      <td>Reg</td>\n",
       "      <td>Lvl</td>\n",
       "      <td>AllPub</td>\n",
       "      <td>...</td>\n",
       "      <td>0</td>\n",
       "      <td>0</td>\n",
       "      <td>Na</td>\n",
       "      <td>Na</td>\n",
       "      <td>Na</td>\n",
       "      <td>0</td>\n",
       "      <td>5</td>\n",
       "      <td>2009</td>\n",
       "      <td>New</td>\n",
       "      <td>Partial</td>\n",
       "    </tr>\n",
       "    <tr>\n",
       "      <th>252</th>\n",
       "      <td>1453</td>\n",
       "      <td>180</td>\n",
       "      <td>RM</td>\n",
       "      <td>35.0</td>\n",
       "      <td>3675</td>\n",
       "      <td>Pave</td>\n",
       "      <td>Na</td>\n",
       "      <td>Reg</td>\n",
       "      <td>Lvl</td>\n",
       "      <td>AllPub</td>\n",
       "      <td>...</td>\n",
       "      <td>0</td>\n",
       "      <td>0</td>\n",
       "      <td>Na</td>\n",
       "      <td>Na</td>\n",
       "      <td>Na</td>\n",
       "      <td>0</td>\n",
       "      <td>5</td>\n",
       "      <td>2006</td>\n",
       "      <td>WD</td>\n",
       "      <td>Normal</td>\n",
       "    </tr>\n",
       "    <tr>\n",
       "      <th>253</th>\n",
       "      <td>1454</td>\n",
       "      <td>20</td>\n",
       "      <td>RL</td>\n",
       "      <td>90.0</td>\n",
       "      <td>17217</td>\n",
       "      <td>Pave</td>\n",
       "      <td>Na</td>\n",
       "      <td>Reg</td>\n",
       "      <td>Lvl</td>\n",
       "      <td>AllPub</td>\n",
       "      <td>...</td>\n",
       "      <td>0</td>\n",
       "      <td>0</td>\n",
       "      <td>Na</td>\n",
       "      <td>Na</td>\n",
       "      <td>Na</td>\n",
       "      <td>0</td>\n",
       "      <td>7</td>\n",
       "      <td>2006</td>\n",
       "      <td>WD</td>\n",
       "      <td>Abnorml</td>\n",
       "    </tr>\n",
       "    <tr>\n",
       "      <th>254</th>\n",
       "      <td>1455</td>\n",
       "      <td>20</td>\n",
       "      <td>FV</td>\n",
       "      <td>62.0</td>\n",
       "      <td>7500</td>\n",
       "      <td>Pave</td>\n",
       "      <td>Pave</td>\n",
       "      <td>Reg</td>\n",
       "      <td>Lvl</td>\n",
       "      <td>AllPub</td>\n",
       "      <td>...</td>\n",
       "      <td>0</td>\n",
       "      <td>0</td>\n",
       "      <td>Na</td>\n",
       "      <td>Na</td>\n",
       "      <td>Na</td>\n",
       "      <td>0</td>\n",
       "      <td>10</td>\n",
       "      <td>2009</td>\n",
       "      <td>WD</td>\n",
       "      <td>Normal</td>\n",
       "    </tr>\n",
       "    <tr>\n",
       "      <th>255</th>\n",
       "      <td>1456</td>\n",
       "      <td>60</td>\n",
       "      <td>RL</td>\n",
       "      <td>62.0</td>\n",
       "      <td>7917</td>\n",
       "      <td>Pave</td>\n",
       "      <td>Na</td>\n",
       "      <td>Reg</td>\n",
       "      <td>Lvl</td>\n",
       "      <td>AllPub</td>\n",
       "      <td>...</td>\n",
       "      <td>0</td>\n",
       "      <td>0</td>\n",
       "      <td>Na</td>\n",
       "      <td>Na</td>\n",
       "      <td>Na</td>\n",
       "      <td>0</td>\n",
       "      <td>8</td>\n",
       "      <td>2007</td>\n",
       "      <td>WD</td>\n",
       "      <td>Normal</td>\n",
       "    </tr>\n",
       "    <tr>\n",
       "      <th>256</th>\n",
       "      <td>1457</td>\n",
       "      <td>20</td>\n",
       "      <td>RL</td>\n",
       "      <td>85.0</td>\n",
       "      <td>13175</td>\n",
       "      <td>Pave</td>\n",
       "      <td>Na</td>\n",
       "      <td>Reg</td>\n",
       "      <td>Lvl</td>\n",
       "      <td>AllPub</td>\n",
       "      <td>...</td>\n",
       "      <td>0</td>\n",
       "      <td>0</td>\n",
       "      <td>Na</td>\n",
       "      <td>MnPrv</td>\n",
       "      <td>Na</td>\n",
       "      <td>0</td>\n",
       "      <td>2</td>\n",
       "      <td>2010</td>\n",
       "      <td>WD</td>\n",
       "      <td>Normal</td>\n",
       "    </tr>\n",
       "    <tr>\n",
       "      <th>257</th>\n",
       "      <td>1458</td>\n",
       "      <td>70</td>\n",
       "      <td>RL</td>\n",
       "      <td>66.0</td>\n",
       "      <td>9042</td>\n",
       "      <td>Pave</td>\n",
       "      <td>Na</td>\n",
       "      <td>Reg</td>\n",
       "      <td>Lvl</td>\n",
       "      <td>AllPub</td>\n",
       "      <td>...</td>\n",
       "      <td>0</td>\n",
       "      <td>0</td>\n",
       "      <td>Na</td>\n",
       "      <td>GdPrv</td>\n",
       "      <td>Shed</td>\n",
       "      <td>2500</td>\n",
       "      <td>5</td>\n",
       "      <td>2010</td>\n",
       "      <td>WD</td>\n",
       "      <td>Normal</td>\n",
       "    </tr>\n",
       "    <tr>\n",
       "      <th>258</th>\n",
       "      <td>1459</td>\n",
       "      <td>20</td>\n",
       "      <td>RL</td>\n",
       "      <td>68.0</td>\n",
       "      <td>9717</td>\n",
       "      <td>Pave</td>\n",
       "      <td>Na</td>\n",
       "      <td>Reg</td>\n",
       "      <td>Lvl</td>\n",
       "      <td>AllPub</td>\n",
       "      <td>...</td>\n",
       "      <td>0</td>\n",
       "      <td>0</td>\n",
       "      <td>Na</td>\n",
       "      <td>Na</td>\n",
       "      <td>Na</td>\n",
       "      <td>0</td>\n",
       "      <td>4</td>\n",
       "      <td>2010</td>\n",
       "      <td>WD</td>\n",
       "      <td>Normal</td>\n",
       "    </tr>\n",
       "    <tr>\n",
       "      <th>259</th>\n",
       "      <td>1460</td>\n",
       "      <td>20</td>\n",
       "      <td>RL</td>\n",
       "      <td>75.0</td>\n",
       "      <td>9937</td>\n",
       "      <td>Pave</td>\n",
       "      <td>Na</td>\n",
       "      <td>Reg</td>\n",
       "      <td>Lvl</td>\n",
       "      <td>AllPub</td>\n",
       "      <td>...</td>\n",
       "      <td>0</td>\n",
       "      <td>0</td>\n",
       "      <td>Na</td>\n",
       "      <td>Na</td>\n",
       "      <td>Na</td>\n",
       "      <td>0</td>\n",
       "      <td>6</td>\n",
       "      <td>2008</td>\n",
       "      <td>WD</td>\n",
       "      <td>Normal</td>\n",
       "    </tr>\n",
       "  </tbody>\n",
       "</table>\n",
       "<p>260 rows × 80 columns</p>\n",
       "</div>"
      ],
      "text/plain": [
       "       Id  MSSubClass MSZoning  LotFrontage  LotArea Street Alley LotShape  \\\n",
       "0    1201          20       RL         71.0     9353   Pave    Na      Reg   \n",
       "1    1202          60       RL         80.0    10400   Pave    Na      Reg   \n",
       "2    1203          50       RM         50.0     6000   Pave    Na      Reg   \n",
       "3    1204          20       RL         75.0     9750   Pave    Na      Reg   \n",
       "4    1205          20       RL         78.0    10140   Pave    Na      Reg   \n",
       "5    1206          20       RL         90.0    14684   Pave    Na      IR1   \n",
       "6    1207          20       RH         66.5     8900   Pave    Na      Reg   \n",
       "7    1208          20       RL         70.0     9135   Pave    Na      Reg   \n",
       "8    1209          20       RL         70.0     7763   Pave    Na      Reg   \n",
       "9    1210          20       RL         85.0    10182   Pave    Na      IR1   \n",
       "10   1211          60       RL         70.0    11218   Pave    Na      Reg   \n",
       "11   1212          50       RL        152.0    12134   Pave    Na      IR1   \n",
       "12   1213          30       RL         50.0     9340   Pave    Na      Reg   \n",
       "13   1214          80       RL         71.0    10246   Pave    Na      IR1   \n",
       "14   1215          85       RL         69.0    10205   Pave    Na      IR1   \n",
       "15   1216          20       RL         99.0     7094   Pave    Na      IR1   \n",
       "16   1217          90       RM         68.0     8930   Pave    Na      Reg   \n",
       "17   1218          20       FV         72.0     8640   Pave    Na      Reg   \n",
       "18   1219          50       RM         52.0     6240   Pave    Na      Reg   \n",
       "19   1220         160       RM         21.0     1680   Pave    Na      Reg   \n",
       "20   1221          20       RL         66.0     7800   Pave    Na      IR1   \n",
       "21   1222          20       RL         55.0     8250   Pave    Na      Reg   \n",
       "22   1223          50       RL         78.0    10496   Pave    Na      Reg   \n",
       "23   1224          20       RL         89.0    10680   Pave    Na      Reg   \n",
       "24   1225          60       RL         60.0    15384   Pave    Na      IR1   \n",
       "25   1226          80       RL         65.0    10482   Pave    Na      Reg   \n",
       "26   1227          60       RL         86.0    14598   Pave    Na      IR1   \n",
       "27   1228          20       RL         72.0     8872   Pave    Na      Reg   \n",
       "28   1229         120       RL         65.0     8769   Pave    Na      Reg   \n",
       "29   1230          80       RL         70.0     7910   Pave    Na      Reg   \n",
       "..    ...         ...      ...          ...      ...    ...   ...      ...   \n",
       "230  1431          60       RL         60.0    21930   Pave    Na      IR3   \n",
       "231  1432         120       RL         24.0     4928   Pave    Na      IR1   \n",
       "232  1433          30       RL         60.0    10800   Pave  Grvl      Reg   \n",
       "233  1434          60       RL         93.0    10261   Pave    Na      IR1   \n",
       "234  1435          20       RL         80.0    17400   Pave    Na      Reg   \n",
       "235  1436          20       RL         80.0     8400   Pave    Na      Reg   \n",
       "236  1437          20       RL         60.0     9000   Pave    Na      Reg   \n",
       "237  1438          20       RL         96.0    12444   Pave    Na      Reg   \n",
       "238  1439          20       RM         90.0     7407   Pave    Na      Reg   \n",
       "239  1440          60       RL         80.0    11584   Pave    Na      Reg   \n",
       "240  1441          70       RL         79.0    11526   Pave    Na      IR1   \n",
       "241  1442         120       RM         70.0     4426   Pave    Na      Reg   \n",
       "242  1443          60       FV         85.0    11003   Pave    Na      Reg   \n",
       "243  1444          30       RL         52.0     8854   Pave    Na      Reg   \n",
       "244  1445          20       RL         63.0     8500   Pave    Na      Reg   \n",
       "245  1446          85       RL         70.0     8400   Pave    Na      Reg   \n",
       "246  1447          20       RL         73.0    26142   Pave    Na      IR1   \n",
       "247  1448          60       RL         80.0    10000   Pave    Na      Reg   \n",
       "248  1449          50       RL         70.0    11767   Pave    Na      Reg   \n",
       "249  1450         180       RM         21.0     1533   Pave    Na      Reg   \n",
       "250  1451          90       RL         60.0     9000   Pave    Na      Reg   \n",
       "251  1452          20       RL         78.0     9262   Pave    Na      Reg   \n",
       "252  1453         180       RM         35.0     3675   Pave    Na      Reg   \n",
       "253  1454          20       RL         90.0    17217   Pave    Na      Reg   \n",
       "254  1455          20       FV         62.0     7500   Pave  Pave      Reg   \n",
       "255  1456          60       RL         62.0     7917   Pave    Na      Reg   \n",
       "256  1457          20       RL         85.0    13175   Pave    Na      Reg   \n",
       "257  1458          70       RL         66.0     9042   Pave    Na      Reg   \n",
       "258  1459          20       RL         68.0     9717   Pave    Na      Reg   \n",
       "259  1460          20       RL         75.0     9937   Pave    Na      Reg   \n",
       "\n",
       "    LandContour Utilities      ...       ScreenPorch PoolArea PoolQC  Fence  \\\n",
       "0           Lvl    AllPub      ...                 0        0     Na     Na   \n",
       "1           Lvl    AllPub      ...                 0        0     Na     Na   \n",
       "2           Lvl    AllPub      ...                 0        0     Na     Na   \n",
       "3           Lvl    AllPub      ...                 0        0     Na     Na   \n",
       "4           Lvl    AllPub      ...                 0        0     Na  MnPrv   \n",
       "5           Lvl    AllPub      ...                 0        0     Na     Na   \n",
       "6           Lvl    AllPub      ...                 0        0     Na  MnPrv   \n",
       "7           Lvl    AllPub      ...                 0        0     Na     Na   \n",
       "8           Lvl    AllPub      ...                 0        0     Na     Na   \n",
       "9           Lvl    AllPub      ...                 0        0     Na     Na   \n",
       "10          Lvl    AllPub      ...                 0        0     Na  GdPrv   \n",
       "11          Bnk    AllPub      ...                 0        0     Na     Na   \n",
       "12          Lvl    AllPub      ...                 0        0     Na     Na   \n",
       "13          Lvl    AllPub      ...                 0        0     Na     Na   \n",
       "14          Lvl    AllPub      ...                 0        0     Na     Na   \n",
       "15          Lvl    AllPub      ...                 0        0     Na  MnPrv   \n",
       "16          Lvl    AllPub      ...                 0        0     Na     Na   \n",
       "17          Lvl    AllPub      ...                 0        0     Na     Na   \n",
       "18          Lvl    AllPub      ...                 0        0     Na     Na   \n",
       "19          Lvl    AllPub      ...                 0        0     Na     Na   \n",
       "20          Lvl    AllPub      ...                 0        0     Na     Na   \n",
       "21          Lvl    AllPub      ...                 0        0     Na     Na   \n",
       "22          Lvl    AllPub      ...                 0        0     Na   GdWo   \n",
       "23          Lvl    AllPub      ...                 0        0     Na  MnPrv   \n",
       "24          Lvl    AllPub      ...                 0        0     Na     Na   \n",
       "25          Lvl    AllPub      ...                 0        0     Na   MnWw   \n",
       "26          Lvl    AllPub      ...                 0        0     Na     Na   \n",
       "27          Lvl    AllPub      ...                 0        0     Na     Na   \n",
       "28          Lvl    AllPub      ...               224        0     Na     Na   \n",
       "29          Lvl    AllPub      ...                 0        0     Na   GdWo   \n",
       "..          ...       ...      ...               ...      ...    ...    ...   \n",
       "230         Lvl    AllPub      ...                 0        0     Na     Na   \n",
       "231         Lvl    AllPub      ...                 0        0     Na     Na   \n",
       "232         Lvl    AllPub      ...                 0        0     Na     Na   \n",
       "233         Lvl    AllPub      ...                 0        0     Na     Na   \n",
       "234         Low    AllPub      ...                 0        0     Na     Na   \n",
       "235         Lvl    AllPub      ...                 0        0     Na  GdPrv   \n",
       "236         Lvl    AllPub      ...                 0        0     Na   GdWo   \n",
       "237         Lvl    AllPub      ...                 0        0     Na     Na   \n",
       "238         Lvl    AllPub      ...                 0        0     Na  MnPrv   \n",
       "239         Lvl    AllPub      ...                 0        0     Na     Na   \n",
       "240         Bnk    AllPub      ...                 0        0     Na     Na   \n",
       "241         Lvl    AllPub      ...                 0        0     Na     Na   \n",
       "242         Lvl    AllPub      ...                 0        0     Na     Na   \n",
       "243         Lvl    AllPub      ...                40        0     Na     Na   \n",
       "244         Lvl    AllPub      ...                 0        0     Na     Na   \n",
       "245         Lvl    AllPub      ...                 0        0     Na     Na   \n",
       "246         Lvl    AllPub      ...                 0        0     Na     Na   \n",
       "247         Lvl    AllPub      ...                 0        0     Na     Na   \n",
       "248         Lvl    AllPub      ...                 0        0     Na   GdWo   \n",
       "249         Lvl    AllPub      ...                 0        0     Na     Na   \n",
       "250         Lvl    AllPub      ...                 0        0     Na     Na   \n",
       "251         Lvl    AllPub      ...                 0        0     Na     Na   \n",
       "252         Lvl    AllPub      ...                 0        0     Na     Na   \n",
       "253         Lvl    AllPub      ...                 0        0     Na     Na   \n",
       "254         Lvl    AllPub      ...                 0        0     Na     Na   \n",
       "255         Lvl    AllPub      ...                 0        0     Na     Na   \n",
       "256         Lvl    AllPub      ...                 0        0     Na  MnPrv   \n",
       "257         Lvl    AllPub      ...                 0        0     Na  GdPrv   \n",
       "258         Lvl    AllPub      ...                 0        0     Na     Na   \n",
       "259         Lvl    AllPub      ...                 0        0     Na     Na   \n",
       "\n",
       "    MiscFeature MiscVal MoSold  YrSold  SaleType  SaleCondition  \n",
       "0          Shed       0      7    2006       Oth        Abnorml  \n",
       "1            Na       0      3    2009        WD         Normal  \n",
       "2            Na       0      5    2009        WD         Normal  \n",
       "3            Na       0     10    2009        WD         Normal  \n",
       "4            Na       0      7    2006        WD         Normal  \n",
       "5            Na       0      6    2009        WD         Normal  \n",
       "6            Na       0     11    2006        WD         Normal  \n",
       "7            Na       0      5    2006        WD         Normal  \n",
       "8            Na       0     10    2008        WD         Normal  \n",
       "9            Na       0      5    2006       New        Partial  \n",
       "10         Shed     400      5    2010        WD         Normal  \n",
       "11           Na       0      6    2010        WD         Normal  \n",
       "12           Na       0      8    2009        WD         Normal  \n",
       "13           Na       0      5    2006        WD         Normal  \n",
       "14           Na       0      5    2006        WD         Normal  \n",
       "15           Na       0      5    2007        WD         Normal  \n",
       "16           Na       0      4    2010        WD         Normal  \n",
       "17           Na       0      9    2009       New        Partial  \n",
       "18           Na       0      7    2006        WD         Normal  \n",
       "19           Na       0      4    2006        WD        Abnorml  \n",
       "20           Na       0     11    2006        WD        Abnorml  \n",
       "21           Na       0      8    2008        WD         Normal  \n",
       "22           Na       0      1    2007        WD         Normal  \n",
       "23           Na       0     10    2006        WD         Normal  \n",
       "24           Na       0      2    2008        WD         Normal  \n",
       "25           Na       0      6    2007        WD         Normal  \n",
       "26           Na       0      1    2008        WD         Normal  \n",
       "27           Na       0     12    2008        WD         Normal  \n",
       "28           Na       0     10    2008       New        Partial  \n",
       "29           Na       0      8    2008        WD         Normal  \n",
       "..          ...     ...    ...     ...       ...            ...  \n",
       "230          Na       0      7    2006        WD         Normal  \n",
       "231          Na       0     10    2009        WD         Normal  \n",
       "232          Na       0      8    2007        WD         Normal  \n",
       "233          Na       0      5    2008        WD         Normal  \n",
       "234          Na       0      5    2006        WD         Normal  \n",
       "235          Na       0      7    2008       COD        Abnorml  \n",
       "236          Na       0      5    2007        WD         Normal  \n",
       "237          Na       0     11    2008       New        Partial  \n",
       "238          Na       0      4    2010        WD         Normal  \n",
       "239          Na       0     11    2007        WD         Normal  \n",
       "240          Na       0      9    2008        WD         Normal  \n",
       "241          Na       0      5    2008        WD         Normal  \n",
       "242          Na       0      4    2009        WD         Normal  \n",
       "243          Na       0      5    2009        WD         Normal  \n",
       "244          Na       0     11    2007        WD         Normal  \n",
       "245          Na       0      5    2007        WD         Normal  \n",
       "246          Na       0      4    2010        WD         Normal  \n",
       "247          Na       0     12    2007        WD         Normal  \n",
       "248          Na       0      5    2007        WD         Normal  \n",
       "249          Na       0      8    2006        WD        Abnorml  \n",
       "250          Na       0      9    2009        WD         Normal  \n",
       "251          Na       0      5    2009       New        Partial  \n",
       "252          Na       0      5    2006        WD         Normal  \n",
       "253          Na       0      7    2006        WD        Abnorml  \n",
       "254          Na       0     10    2009        WD         Normal  \n",
       "255          Na       0      8    2007        WD         Normal  \n",
       "256          Na       0      2    2010        WD         Normal  \n",
       "257        Shed    2500      5    2010        WD         Normal  \n",
       "258          Na       0      4    2010        WD         Normal  \n",
       "259          Na       0      6    2008        WD         Normal  \n",
       "\n",
       "[260 rows x 80 columns]"
      ]
     },
     "execution_count": 190,
     "metadata": {},
     "output_type": "execute_result"
    }
   ],
   "source": []
  },
  {
   "cell_type": "markdown",
   "metadata": {},
   "source": [
    "## Analyzing parameters\n",
    "\n",
    "In the following part we will analyze all the features.\n",
    "* Type of data and possible values.\n",
    "* Correcting missing data.\n",
    "* Visualize against SalePrice.\n",
    "* Visulize the repartition.\n",
    "\n",
    "It might come handy when not comparing to SalePrice to use all the data we have."
   ]
  },
  {
   "cell_type": "code",
   "execution_count": 30,
   "metadata": {},
   "outputs": [],
   "source": [
    "df = pd.concat([df_train.drop(columns=['SalePrice']), df_test])"
   ]
  },
  {
   "cell_type": "markdown",
   "metadata": {},
   "source": [
    "## Fixing missing parameters by removing them"
   ]
  },
  {
   "cell_type": "markdown",
   "metadata": {},
   "source": [
    "## Converting grading string system to numbers\n",
    "\n",
    "Several features of our data uses a grading system such as Poor, Fair, Great, Excellent. Let's convert it to numbers for future use. The first stage is to determine all the columns that we can transform."
   ]
  },
  {
   "cell_type": "code",
   "execution_count": 78,
   "metadata": {},
   "outputs": [],
   "source": [
    "stringGradingToNum = {'Na':0,'Po':1,'Fa':2,'TA':3,'Gd':4,'Ex':5}\n",
    "stringGradingToNumKeys = list(stringGradingToNum.keys())\n",
    "def isStringTypeConvertible(values) :\n",
    "    for v in values:\n",
    "        if v not in stringGradingToNumKeys:\n",
    "            return False\n",
    "    return True"
   ]
  },
  {
   "cell_type": "code",
   "execution_count": 79,
   "metadata": {
    "scrolled": true
   },
   "outputs": [
    {
     "name": "stdout",
     "output_type": "stream",
     "text": [
      "Columns that can be converted :  ['ExterQual', 'ExterCond', 'BsmtQual', 'BsmtCond', 'HeatingQC', 'KitchenQual', 'FireplaceQu', 'GarageQual', 'GarageCond', 'PoolQC']\n"
     ]
    }
   ],
   "source": [
    "col_convertible = [i for i in df.columns.to_series().groupby(df.dtypes).groups[np.dtype('O')] if isStringTypeConvertible(df[i].values)]\n",
    "print(\"Columns that can be converted : \", col_convertible)"
   ]
  },
  {
   "cell_type": "code",
   "execution_count": 80,
   "metadata": {},
   "outputs": [],
   "source": [
    "for col in col_convertible:\n",
    "    df[col] = df[col].map(lambda x: stringGradingToNum[x])"
   ]
  },
  {
   "cell_type": "code",
   "execution_count": 81,
   "metadata": {
    "scrolled": true
   },
   "outputs": [
    {
     "name": "stdout",
     "output_type": "stream",
     "text": [
      "MSZoning\n",
      "['C (all)' 'FV' 'RH' 'RL' 'RM']\n",
      "Street\n",
      "['Grvl' 'Pave']\n",
      "Alley\n",
      "['Grvl' 'Na' 'Pave']\n",
      "LotShape\n",
      "['IR1' 'IR2' 'IR3' 'Reg']\n",
      "LandContour\n",
      "['Bnk' 'HLS' 'Low' 'Lvl']\n",
      "Utilities\n",
      "['AllPub' 'NoSeWa']\n",
      "LotConfig\n",
      "['Corner' 'CulDSac' 'FR2' 'FR3' 'Inside']\n",
      "LandSlope\n",
      "['Gtl' 'Mod' 'Sev']\n",
      "Neighborhood\n",
      "['Blmngtn' 'Blueste' 'BrDale' 'BrkSide' 'ClearCr' 'CollgCr' 'Crawfor'\n",
      " 'Edwards' 'Gilbert' 'IDOTRR' 'MeadowV' 'Mitchel' 'NAmes' 'NPkVill'\n",
      " 'NWAmes' 'NoRidge' 'NridgHt' 'OldTown' 'SWISU' 'Sawyer' 'SawyerW'\n",
      " 'Somerst' 'StoneBr' 'Timber' 'Veenker']\n",
      "Condition1\n",
      "['Artery' 'Feedr' 'Norm' 'PosA' 'PosN' 'RRAe' 'RRAn' 'RRNe' 'RRNn']\n",
      "Condition2\n",
      "['Artery' 'Feedr' 'Norm' 'PosA' 'RRAe' 'RRAn' 'RRNn']\n",
      "BldgType\n",
      "['1Fam' '2fmCon' 'Duplex' 'Twnhs' 'TwnhsE']\n",
      "HouseStyle\n",
      "['1.5Fin' '1.5Unf' '1Story' '2.5Fin' '2.5Unf' '2Story' 'SFoyer' 'SLvl']\n",
      "RoofStyle\n",
      "['Flat' 'Gable' 'Gambrel' 'Hip' 'Mansard' 'Shed']\n",
      "RoofMatl\n",
      "['ClyTile' 'CompShg' 'Membran' 'Metal' 'Roll' 'Tar&Grv' 'WdShake'\n",
      " 'WdShngl']\n",
      "Exterior1st\n",
      "['AsbShng' 'AsphShn' 'BrkComm' 'BrkFace' 'CBlock' 'CemntBd' 'HdBoard'\n",
      " 'ImStucc' 'MetalSd' 'Plywood' 'Stone' 'Stucco' 'VinylSd' 'Wd Sdng'\n",
      " 'WdShing']\n",
      "Exterior2nd\n",
      "['AsbShng' 'AsphShn' 'Brk Cmn' 'BrkFace' 'CBlock' 'CmentBd' 'HdBoard'\n",
      " 'ImStucc' 'MetalSd' 'Other' 'Plywood' 'Stone' 'Stucco' 'VinylSd'\n",
      " 'Wd Sdng' 'Wd Shng']\n",
      "MasVnrType\n",
      "['BrkCmn' 'BrkFace' 'None' 'Stone']\n",
      "Foundation\n",
      "['BrkTil' 'CBlock' 'PConc' 'Slab' 'Stone' 'Wood']\n",
      "BsmtExposure\n",
      "['Av' 'Gd' 'Mn' 'Na' 'No']\n",
      "BsmtFinType1\n",
      "['ALQ' 'BLQ' 'GLQ' 'LwQ' 'Na' 'Rec' 'Unf']\n",
      "BsmtFinType2\n",
      "['ALQ' 'BLQ' 'GLQ' 'LwQ' 'Na' 'Rec' 'Unf']\n",
      "Heating\n",
      "['Floor' 'GasA' 'GasW' 'Grav' 'OthW' 'Wall']\n",
      "CentralAir\n",
      "['N' 'Y']\n",
      "Electrical\n",
      "['FuseA' 'FuseF' 'FuseP' 'Mix' 'SBrkr']\n",
      "Functional\n",
      "['Maj1' 'Maj2' 'Min1' 'Min2' 'Mod' 'Sev' 'Typ']\n",
      "GarageType\n",
      "['2Types' 'Attchd' 'Basment' 'BuiltIn' 'CarPort' 'Detchd' 'Na']\n",
      "GarageFinish\n",
      "['Fin' 'Na' 'RFn' 'Unf']\n",
      "PavedDrive\n",
      "['N' 'P' 'Y']\n",
      "Fence\n",
      "['GdPrv' 'GdWo' 'MnPrv' 'MnWw' 'Na']\n",
      "MiscFeature\n",
      "['Gar2' 'Na' 'Othr' 'Shed' 'TenC']\n",
      "SaleType\n",
      "['COD' 'CWD' 'Con' 'ConLD' 'ConLI' 'ConLw' 'New' 'Oth' 'WD']\n",
      "SaleCondition\n",
      "['Abnorml' 'AdjLand' 'Alloca' 'Family' 'Normal' 'Partial']\n"
     ]
    }
   ],
   "source": [
    "for col in df.columns.to_series().groupby(df.dtypes).groups[np.dtype('O')]:\n",
    "    print(col)\n",
    "    print(np.unique(df[col].values))"
   ]
  },
  {
   "cell_type": "markdown",
   "metadata": {},
   "source": [
    "The following columns can also be converted to integers as they present some kind of rating or are binary\n",
    "\n",
    "* Utilites\n",
    "* Street\n",
    "* Alley\n",
    "* LandSlope\n",
    "* BsmtExposure\n",
    "* BsmtFinType1\n",
    "* BsmtFinType2\n",
    "* CentralAir\n",
    "* PavedDrive\n",
    "* Fence\n",
    "\n",
    "Considering the other types of columns (int and float) some doesn't provide a ranking and therefore should be transform as categorical.\n",
    "\n",
    "* YearBuilt*\n",
    "* YearRemodAdd*\n",
    "* GarageYrBlt*\n",
    "* MoSold\n",
    "* YrSold"
   ]
  },
  {
   "cell_type": "code",
   "execution_count": 82,
   "metadata": {},
   "outputs": [],
   "source": [
    "df.YrSold = df.YrSold.astype(str)\n",
    "df.MoSold = df.MoSold.astype(str)"
   ]
  },
  {
   "cell_type": "code",
   "execution_count": 83,
   "metadata": {},
   "outputs": [],
   "source": [
    "UtilitesDic = {'AllPub':1, 'NoSeWa':0}\n",
    "df.Utilities = df.Utilities.apply(lambda x: UtilitesDic[x])"
   ]
  },
  {
   "cell_type": "code",
   "execution_count": 84,
   "metadata": {},
   "outputs": [],
   "source": [
    "StreetDic = {'Grvl':1, 'Pave':0}\n",
    "df.Street = df.Street.apply(lambda x: StreetDic[x])"
   ]
  },
  {
   "cell_type": "code",
   "execution_count": 85,
   "metadata": {},
   "outputs": [],
   "source": [
    "AlleyDic = {'Na':0, 'Grvl':1, 'Pave':2}\n",
    "df.Alley = df.Alley.apply(lambda x: AlleyDic[x])"
   ]
  },
  {
   "cell_type": "code",
   "execution_count": 86,
   "metadata": {},
   "outputs": [],
   "source": [
    "LandSlopeDic = {'Gtl':0, 'Mod':1, 'Sev':2}\n",
    "df.LandSlope = df.LandSlope.apply(lambda x: LandSlopeDic[x])"
   ]
  },
  {
   "cell_type": "code",
   "execution_count": 87,
   "metadata": {},
   "outputs": [],
   "source": [
    "BsmtExposureDic = {'Na':0, 'No':1, 'Mn':2, 'Av':3, 'Gd':4}\n",
    "df.BsmtExposure = df.BsmtExposure.apply(lambda x: BsmtExposureDic[x])"
   ]
  },
  {
   "cell_type": "code",
   "execution_count": 88,
   "metadata": {},
   "outputs": [],
   "source": [
    "BsmtFinTypeDic = {'ALQ':5, 'BLQ':4, 'GLQ':6, 'LwQ':2, 'Na':0, 'Rec':3, 'Unf':1}\n",
    "df.BsmtFinType1 = df.BsmtFinType1.apply(lambda x: BsmtFinTypeDic[x])\n",
    "df.BsmtFinType2 = df.BsmtFinType2.apply(lambda x: BsmtFinTypeDic[x])"
   ]
  },
  {
   "cell_type": "code",
   "execution_count": 89,
   "metadata": {},
   "outputs": [],
   "source": [
    "CentralAirDic = {'N':0, 'Y':1}\n",
    "df.CentralAir = df.CentralAir.apply(lambda x: CentralAirDic[x])"
   ]
  },
  {
   "cell_type": "code",
   "execution_count": 90,
   "metadata": {},
   "outputs": [],
   "source": [
    "PavedDriveDic = {'N':0, 'P':1, 'Y':2}\n",
    "df.PavedDrive = df.PavedDrive.apply(lambda x: PavedDriveDic[x])"
   ]
  },
  {
   "cell_type": "code",
   "execution_count": 91,
   "metadata": {},
   "outputs": [],
   "source": [
    "FenceDic = {'Na':0, 'MnWw':1, 'GdWo':2, 'MnPrv':3, 'GdPrv':4}\n",
    "df.Fence = df.Fence.apply(lambda x: FenceDic[x])"
   ]
  },
  {
   "cell_type": "code",
   "execution_count": 92,
   "metadata": {},
   "outputs": [
    {
     "name": "stdout",
     "output_type": "stream",
     "text": [
      "Correlation plot\n"
     ]
    },
    {
     "data": {
      "image/png": "[encoded data removed]",
      "text/plain": [
       "<Figure size 1080x1080 with 2 Axes>"
      ]
     },
     "metadata": {},
     "output_type": "display_data"
    }
   ],
   "source": [
    "# Compute the correlation matrix\n",
    "corr = df.corr()\n",
    "\n",
    "# Generate a mask for the upper triangle\n",
    "mask = np.zeros_like(corr, dtype=np.bool)\n",
    "mask[np.triu_indices_from(mask)] = True\n",
    "\n",
    "# Set up the matplotlib figure\n",
    "f, ax = plt.subplots(figsize=(15, 15))\n",
    "\n",
    "# Generate a custom diverging colormap\n",
    "cmap = sns.diverging_palette(230, 5, as_cmap=True)\n",
    "\n",
    "# Draw the heatmap with the mask and correct aspect ratio\n",
    "sns.heatmap(corr, mask=mask, cmap=cmap, center=0,\n",
    "            square=True, linewidths=.5, cbar_kws={\"shrink\": .5})\n",
    "print('Correlation plot')"
   ]
  },
  {
   "cell_type": "code",
   "execution_count": 93,
   "metadata": {},
   "outputs": [
    {
     "name": "stdout",
     "output_type": "stream",
     "text": [
      "\n",
      "The more correlated variable to MSSubClass are : \n",
      "2ndFlrSF        0.311788\n",
      "KitchenAbvGr    0.274550\n",
      "Alley           0.181466\n",
      "HalfBath        0.178171\n",
      "Name: MSSubClass, dtype: float64\n",
      "\n",
      "The more correlated variable to LotFrontage are : \n",
      "1stFlrSF       0.418836\n",
      "GrLivArea      0.364033\n",
      "TotalBsmtSF    0.362010\n",
      "LotArea        0.336496\n",
      "Name: LotFrontage, dtype: float64\n",
      "\n",
      "The more correlated variable to LotArea are : \n",
      "LandSlope      0.444191\n",
      "LotFrontage    0.336496\n",
      "1stFlrSF       0.282519\n",
      "Fireplaces     0.263967\n",
      "Name: LotArea, dtype: float64\n",
      "\n",
      "The more correlated variable to Street are : \n",
      "LotArea         0.241378\n",
      "LandSlope       0.185623\n",
      "BsmtExposure    0.108257\n",
      "BsmtFinType2    0.104002\n",
      "Name: Street, dtype: float64\n",
      "\n",
      "The more correlated variable to Alley are : \n",
      "MSSubClass       0.181466\n",
      "EnclosedPorch    0.124911\n",
      "2ndFlrSF         0.094589\n",
      "OpenPorchSF      0.086609\n",
      "Name: Alley, dtype: float64\n",
      "\n",
      "The more correlated variable to Utilities are : \n",
      "YearRemodAdd    0.034978\n",
      "FullBath        0.028307\n",
      "MSSubClass      0.023294\n",
      "BsmtFullBath    0.021760\n",
      "Name: Utilities, dtype: float64\n",
      "\n",
      "The more correlated variable to LandSlope are : \n",
      "LotArea         0.444191\n",
      "BsmtExposure    0.258007\n",
      "Street          0.185623\n",
      "Fireplaces      0.133628\n",
      "Name: LandSlope, dtype: float64\n",
      "\n",
      "The more correlated variable to OverallQual are : \n",
      "ExterQual      0.714016\n",
      "KitchenQual    0.653915\n",
      "BsmtQual       0.617680\n",
      "GarageCars     0.593922\n",
      "Name: OverallQual, dtype: float64\n",
      "\n",
      "The more correlated variable to OverallCond are : \n",
      "ExterCond       0.383988\n",
      "Fence           0.170459\n",
      "BsmtHalfBath    0.120295\n",
      "BsmtCond        0.111918\n",
      "Name: OverallCond, dtype: float64\n",
      "\n",
      "The more correlated variable to YearBuilt are : \n",
      "BsmtQual        0.598210\n",
      "ExterQual       0.597388\n",
      "YearRemodAdd    0.585094\n",
      "OverallQual     0.563375\n",
      "Name: YearBuilt, dtype: float64\n",
      "\n",
      "The more correlated variable to YearRemodAdd are : \n",
      "KitchenQual    0.615507\n",
      "YearBuilt      0.585094\n",
      "ExterQual      0.576482\n",
      "OverallQual    0.538034\n",
      "Name: YearRemodAdd, dtype: float64\n",
      "\n",
      "The more correlated variable to MasVnrArea are : \n",
      "OverallQual    0.376468\n",
      "GarageArea     0.350246\n",
      "GarageCars     0.349456\n",
      "GrLivArea      0.348954\n",
      "Name: MasVnrArea, dtype: float64\n",
      "\n",
      "The more correlated variable to ExterQual are : \n",
      "OverallQual     0.714016\n",
      "KitchenQual     0.697202\n",
      "YearBuilt       0.597388\n",
      "YearRemodAdd    0.576482\n",
      "Name: ExterQual, dtype: float64\n",
      "\n",
      "The more correlated variable to ExterCond are : \n",
      "OverallCond     0.383988\n",
      "BsmtCond        0.110056\n",
      "BsmtHalfBath    0.103420\n",
      "Fence           0.074936\n",
      "Name: ExterCond, dtype: float64\n",
      "\n",
      "The more correlated variable to BsmtQual are : \n",
      "BsmtCond       0.632845\n",
      "OverallQual    0.617680\n",
      "YearBuilt      0.598210\n",
      "TotalBsmtSF    0.551230\n",
      "Name: BsmtQual, dtype: float64\n",
      "\n",
      "The more correlated variable to BsmtCond are : \n",
      "BsmtQual        0.632845\n",
      "TotalBsmtSF     0.385583\n",
      "BsmtFinType1    0.293196\n",
      "BsmtExposure    0.256975\n",
      "Name: BsmtCond, dtype: float64\n",
      "\n",
      "The more correlated variable to BsmtExposure are : \n",
      "BsmtQual        0.385450\n",
      "TotalBsmtSF     0.376018\n",
      "BsmtFinSF1      0.353957\n",
      "BsmtFinType1    0.339474\n",
      "Name: BsmtExposure, dtype: float64\n",
      "\n",
      "The more correlated variable to BsmtFinType1 are : \n",
      "BsmtFinSF1      0.695306\n",
      "BsmtFullBath    0.587252\n",
      "BsmtQual        0.366348\n",
      "BsmtExposure    0.339474\n",
      "Name: BsmtFinType1, dtype: float64\n",
      "\n",
      "The more correlated variable to BsmtFinSF1 are : \n",
      "BsmtFinType1    0.695306\n",
      "BsmtFullBath    0.648368\n",
      "TotalBsmtSF     0.496958\n",
      "1stFlrSF        0.410858\n",
      "Name: BsmtFinSF1, dtype: float64\n",
      "\n",
      "The more correlated variable to BsmtFinType2 are : \n",
      "BsmtFinSF2      0.792539\n",
      "BsmtCond        0.241069\n",
      "BsmtFullBath    0.178220\n",
      "Fence           0.138163\n",
      "Name: BsmtFinType2, dtype: float64\n",
      "\n",
      "The more correlated variable to BsmtFinSF2 are : \n",
      "BsmtFinType2    0.792539\n",
      "BsmtFullBath    0.164508\n",
      "LotArea         0.118796\n",
      "Fence           0.116977\n",
      "Name: BsmtFinSF2, dtype: float64\n",
      "\n",
      "The more correlated variable to BsmtUnfSF are : \n",
      "TotalBsmtSF    0.407083\n",
      "1stFlrSF       0.302353\n",
      "OverallQual    0.300999\n",
      "FullBath       0.278157\n",
      "Name: BsmtUnfSF, dtype: float64\n",
      "\n",
      "The more correlated variable to TotalBsmtSF are : \n",
      "1stFlrSF       0.798697\n",
      "BsmtQual       0.551230\n",
      "OverallQual    0.499522\n",
      "BsmtFinSF1     0.496958\n",
      "Name: TotalBsmtSF, dtype: float64\n",
      "\n",
      "The more correlated variable to HeatingQC are : \n",
      "YearRemodAdd    0.536217\n",
      "ExterQual       0.513005\n",
      "KitchenQual     0.492243\n",
      "OverallQual     0.443407\n",
      "Name: HeatingQC, dtype: float64\n",
      "\n",
      "The more correlated variable to CentralAir are : \n",
      "YearBuilt       0.356354\n",
      "PavedDrive      0.284198\n",
      "HeatingQC       0.274889\n",
      "YearRemodAdd    0.270213\n",
      "Name: CentralAir, dtype: float64\n",
      "\n",
      "The more correlated variable to 1stFlrSF are : \n",
      "TotalBsmtSF    0.798697\n",
      "GrLivArea      0.522426\n",
      "GarageArea     0.462089\n",
      "OverallQual    0.432552\n",
      "Name: 1stFlrSF, dtype: float64\n",
      "\n",
      "The more correlated variable to 2ndFlrSF are : \n",
      "GrLivArea       0.692071\n",
      "HalfBath        0.626468\n",
      "TotRmsAbvGrd    0.621122\n",
      "BedroomAbvGr    0.498778\n",
      "Name: 2ndFlrSF, dtype: float64\n",
      "\n",
      "The more correlated variable to LowQualFinSF are : \n",
      "GrLivArea       0.147491\n",
      "TotRmsAbvGrd    0.138108\n",
      "PoolQC          0.109924\n",
      "BedroomAbvGr    0.108037\n",
      "Name: LowQualFinSF, dtype: float64\n",
      "\n",
      "The more correlated variable to GrLivArea are : \n",
      "TotRmsAbvGrd    0.825849\n",
      "2ndFlrSF        0.692071\n",
      "FullBath        0.621211\n",
      "OverallQual     0.564402\n",
      "Name: GrLivArea, dtype: float64\n",
      "\n",
      "The more correlated variable to BsmtFullBath are : \n",
      "BsmtFinSF1      0.648368\n",
      "BsmtFinType1    0.587252\n",
      "BsmtExposure    0.330845\n",
      "TotalBsmtSF     0.301116\n",
      "Name: BsmtFullBath, dtype: float64\n",
      "\n",
      "The more correlated variable to BsmtHalfBath are : \n",
      "OverallCond     0.120295\n",
      "BsmtFinType2    0.109333\n",
      "ExterCond       0.103420\n",
      "BsmtFinType1    0.085914\n",
      "Name: BsmtHalfBath, dtype: float64\n",
      "\n",
      "The more correlated variable to FullBath are : \n",
      "GrLivArea       0.621211\n",
      "OverallQual     0.539896\n",
      "TotRmsAbvGrd    0.536390\n",
      "GarageCars      0.482256\n",
      "Name: FullBath, dtype: float64\n",
      "\n",
      "The more correlated variable to HalfBath are : \n",
      "2ndFlrSF        0.626468\n",
      "GrLivArea       0.422758\n",
      "TotRmsAbvGrd    0.342892\n",
      "OverallQual     0.272468\n",
      "Name: HalfBath, dtype: float64\n",
      "\n",
      "The more correlated variable to BedroomAbvGr are : \n",
      "TotRmsAbvGrd    0.689938\n",
      "GrLivArea       0.534435\n",
      "2ndFlrSF        0.498778\n",
      "FullBath        0.332427\n",
      "Name: BedroomAbvGr, dtype: float64\n",
      "\n",
      "The more correlated variable to KitchenAbvGr are : \n",
      "TotRmsAbvGrd    0.277133\n",
      "MSSubClass      0.274550\n",
      "BedroomAbvGr    0.234737\n",
      "FullBath        0.164235\n",
      "Name: KitchenAbvGr, dtype: float64\n",
      "\n",
      "The more correlated variable to KitchenQual are : \n",
      "ExterQual       0.697202\n",
      "OverallQual     0.653915\n",
      "YearRemodAdd    0.615507\n",
      "YearBuilt       0.520676\n",
      "Name: KitchenQual, dtype: float64\n",
      "\n",
      "The more correlated variable to TotRmsAbvGrd are : \n",
      "GrLivArea       0.825849\n",
      "BedroomAbvGr    0.689938\n",
      "2ndFlrSF        0.621122\n",
      "FullBath        0.536390\n",
      "Name: TotRmsAbvGrd, dtype: float64\n",
      "\n",
      "The more correlated variable to Fireplaces are : \n",
      "FireplaceQu    0.864217\n",
      "GrLivArea      0.457903\n",
      "1stFlrSF       0.398689\n",
      "OverallQual    0.385657\n",
      "Name: Fireplaces, dtype: float64\n",
      "\n",
      "The more correlated variable to FireplaceQu are : \n",
      "Fireplaces     0.864217\n",
      "OverallQual    0.475836\n",
      "GrLivArea      0.460183\n",
      "1stFlrSF       0.385680\n",
      "Name: FireplaceQu, dtype: float64\n",
      "\n",
      "The more correlated variable to GarageYrBlt are : \n",
      "GarageCond    0.946847\n",
      "GarageQual    0.943962\n",
      "GarageCars    0.594976\n",
      "GarageArea    0.564560\n",
      "Name: GarageYrBlt, dtype: float64\n",
      "\n",
      "The more correlated variable to GarageCars are : \n",
      "GarageArea     0.880703\n",
      "GarageYrBlt    0.594976\n",
      "OverallQual    0.593922\n",
      "GarageQual     0.576616\n",
      "Name: GarageCars, dtype: float64\n",
      "\n",
      "The more correlated variable to GarageArea are : \n",
      "GarageCars     0.880703\n",
      "GarageQual     0.565522\n",
      "GarageYrBlt    0.564560\n",
      "OverallQual    0.554490\n",
      "Name: GarageArea, dtype: float64\n",
      "\n",
      "The more correlated variable to GarageQual are : \n",
      "GarageCond     0.957183\n",
      "GarageYrBlt    0.943962\n",
      "GarageCars     0.576616\n",
      "GarageArea     0.565522\n",
      "Name: GarageQual, dtype: float64\n",
      "\n",
      "The more correlated variable to GarageCond are : \n",
      "GarageQual     0.957183\n",
      "GarageYrBlt    0.946847\n",
      "GarageCars     0.566194\n",
      "GarageArea     0.551746\n",
      "Name: GarageCond, dtype: float64\n",
      "\n",
      "The more correlated variable to PavedDrive are : \n",
      "YearBuilt      0.414624\n",
      "GarageCond     0.363288\n",
      "GarageQual     0.345372\n",
      "GarageYrBlt    0.317838\n",
      "Name: PavedDrive, dtype: float64\n",
      "\n",
      "The more correlated variable to WoodDeckSF are : \n",
      "BsmtQual        0.243335\n",
      "BsmtExposure    0.235059\n",
      "GrLivArea       0.222461\n",
      "YearBuilt       0.220685\n",
      "Name: WoodDeckSF, dtype: float64\n",
      "\n",
      "The more correlated variable to OpenPorchSF are : \n",
      "GrLivArea      0.328190\n",
      "OverallQual    0.309969\n",
      "ExterQual      0.287660\n",
      "FullBath       0.263030\n",
      "Name: OpenPorchSF, dtype: float64\n",
      "\n",
      "The more correlated variable to EnclosedPorch are : \n",
      "Alley          0.124911\n",
      "PoolQC         0.113191\n",
      "OverallCond    0.070332\n",
      "Fence          0.066504\n",
      "Name: EnclosedPorch, dtype: float64\n",
      "\n",
      "The more correlated variable to 3SsnPorch are : \n",
      "LotFrontage     0.067599\n",
      "1stFlrSF        0.063637\n",
      "HeatingQC       0.060032\n",
      "YearRemodAdd    0.045510\n",
      "Name: 3SsnPorch, dtype: float64\n",
      "\n",
      "The more correlated variable to ScreenPorch are : \n",
      "Fireplaces     0.183833\n",
      "FireplaceQu    0.147529\n",
      "GrLivArea      0.096450\n",
      "1stFlrSF       0.089251\n",
      "Name: ScreenPorch, dtype: float64\n",
      "\n",
      "The more correlated variable to PoolArea are : \n",
      "PoolQC         0.934540\n",
      "LotFrontage    0.149899\n",
      "Fence          0.145474\n",
      "GrLivArea      0.136129\n",
      "Name: PoolArea, dtype: float64\n",
      "\n",
      "The more correlated variable to PoolQC are : \n",
      "PoolArea       0.934540\n",
      "LotFrontage    0.203398\n",
      "GrLivArea      0.166993\n",
      "BsmtFinSF1     0.158824\n",
      "Name: PoolQC, dtype: float64\n",
      "\n",
      "The more correlated variable to Fence are : \n",
      "OverallCond     0.170459\n",
      "PoolArea        0.145474\n",
      "BsmtFinType2    0.138163\n",
      "PoolQC          0.132238\n",
      "Name: Fence, dtype: float64\n",
      "\n",
      "The more correlated variable to MiscVal are : \n",
      "OverallCond     0.073870\n",
      "ExterCond       0.069323\n",
      "LotArea         0.043360\n",
      "KitchenAbvGr    0.041967\n",
      "Name: MiscVal, dtype: float64\n"
     ]
    }
   ],
   "source": [
    "for col in corr.columns :\n",
    "    print(\"\\nThe more correlated variable to %s are : \" %col)\n",
    "    print(corr[col].sort_values(ascending=False)[1:5])"
   ]
  },
  {
   "cell_type": "code",
   "execution_count": 94,
   "metadata": {},
   "outputs": [
    {
     "data": {
      "image/png": "[encoded data removed]",
      "text/plain": [
       "<Figure size 432x288 with 1 Axes>"
      ]
     },
     "metadata": {},
     "output_type": "display_data"
    }
   ],
   "source": [
    "sns.distplot(df.GarageQual, hist=True, kde=False);"
   ]
  },
  {
   "cell_type": "markdown",
   "metadata": {},
   "source": [
    "## Removing highly correlated columns"
   ]
  },
  {
   "cell_type": "code",
   "execution_count": 95,
   "metadata": {},
   "outputs": [],
   "source": [
    "df = df.drop(columns=['PoolQC','GarageCond','GarageYrBlt','GarageCars'])"
   ]
  },
  {
   "cell_type": "code",
   "execution_count": 96,
   "metadata": {},
   "outputs": [
    {
     "name": "stdout",
     "output_type": "stream",
     "text": [
      "Correlation plot\n"
     ]
    },
    {
     "data": {
      "image/png": "[encoded data removed]",
      "text/plain": [
       "<Figure size 1080x1080 with 2 Axes>"
      ]
     },
     "metadata": {},
     "output_type": "display_data"
    }
   ],
   "source": [
    "# Compute the correlation matrix\n",
    "corr = df.corr()\n",
    "\n",
    "# Generate a mask for the upper triangle\n",
    "mask = np.zeros_like(corr, dtype=np.bool)\n",
    "mask[np.triu_indices_from(mask)] = True\n",
    "\n",
    "# Set up the matplotlib figure\n",
    "f, ax = plt.subplots(figsize=(15, 15))\n",
    "\n",
    "# Generate a custom diverging colormap\n",
    "cmap = sns.diverging_palette(230, 5, as_cmap=True)\n",
    "\n",
    "# Draw the heatmap with the mask and correct aspect ratio\n",
    "sns.heatmap(corr, mask=mask, cmap=cmap, center=0,\n",
    "            square=True, linewidths=.5, cbar_kws={\"shrink\": .5})\n",
    "print('Correlation plot')"
   ]
  },
  {
   "cell_type": "markdown",
   "metadata": {},
   "source": [
    "Let's now add new columns and see the results"
   ]
  },
  {
   "cell_type": "code",
   "execution_count": 97,
   "metadata": {},
   "outputs": [],
   "source": [
    "df['TotalSurface'] = df['TotalBsmtSF']+df['1stFlrSF']+df['2ndFlrSF']\n"
   ]
  },
  {
   "cell_type": "code",
   "execution_count": 98,
   "metadata": {},
   "outputs": [
    {
     "name": "stdout",
     "output_type": "stream",
     "text": [
      "Correlation plot\n"
     ]
    },
    {
     "data": {
      "image/png": "[encoded data removed]",
      "text/plain": [
       "<Figure size 1080x1080 with 2 Axes>"
      ]
     },
     "metadata": {},
     "output_type": "display_data"
    }
   ],
   "source": [
    "# Compute the correlation matrix\n",
    "corr = df.corr()\n",
    "\n",
    "# Generate a mask for the upper triangle\n",
    "mask = np.zeros_like(corr, dtype=np.bool)\n",
    "mask[np.triu_indices_from(mask)] = True\n",
    "\n",
    "# Set up the matplotlib figure\n",
    "f, ax = plt.subplots(figsize=(15, 15))\n",
    "\n",
    "# Generate a custom diverging colormap\n",
    "cmap = sns.diverging_palette(230, 5, as_cmap=True)\n",
    "\n",
    "# Draw the heatmap with the mask and correct aspect ratio\n",
    "sns.heatmap(corr, mask=mask, cmap=cmap, center=0,\n",
    "            square=True, linewidths=.5, cbar_kws={\"shrink\": .5})\n",
    "print('Correlation plot')"
   ]
  },
  {
   "cell_type": "markdown",
   "metadata": {},
   "source": [
    "Our data is ready to be use. However we did not look for outliers, nor use the correlationn between the features. Those are ideas for future improvement that we might consider depending on the time, and correctness of the models we can create."
   ]
  },
  {
   "cell_type": "code",
   "execution_count": 99,
   "metadata": {},
   "outputs": [
    {
     "data": {
      "text/html": [
       "<div>\n",
       "<style scoped>\n",
       "    .dataframe tbody tr th:only-of-type {\n",
       "        vertical-align: middle;\n",
       "    }\n",
       "\n",
       "    .dataframe tbody tr th {\n",
       "        vertical-align: top;\n",
       "    }\n",
       "\n",
       "    .dataframe thead th {\n",
       "        text-align: right;\n",
       "    }\n",
       "</style>\n",
       "<table border=\"1\" class=\"dataframe\">\n",
       "  <thead>\n",
       "    <tr style=\"text-align: right;\">\n",
       "      <th></th>\n",
       "      <th>MSSubClass</th>\n",
       "      <th>MSZoning</th>\n",
       "      <th>LotFrontage</th>\n",
       "      <th>LotArea</th>\n",
       "      <th>Street</th>\n",
       "      <th>Alley</th>\n",
       "      <th>LotShape</th>\n",
       "      <th>LandContour</th>\n",
       "      <th>Utilities</th>\n",
       "      <th>LotConfig</th>\n",
       "      <th>...</th>\n",
       "      <th>ScreenPorch</th>\n",
       "      <th>PoolArea</th>\n",
       "      <th>Fence</th>\n",
       "      <th>MiscFeature</th>\n",
       "      <th>MiscVal</th>\n",
       "      <th>MoSold</th>\n",
       "      <th>YrSold</th>\n",
       "      <th>SaleType</th>\n",
       "      <th>SaleCondition</th>\n",
       "      <th>TotalSurface</th>\n",
       "    </tr>\n",
       "  </thead>\n",
       "  <tbody>\n",
       "    <tr>\n",
       "      <th>0</th>\n",
       "      <td>60</td>\n",
       "      <td>RL</td>\n",
       "      <td>65.0</td>\n",
       "      <td>8450</td>\n",
       "      <td>0</td>\n",
       "      <td>0</td>\n",
       "      <td>Reg</td>\n",
       "      <td>Lvl</td>\n",
       "      <td>1</td>\n",
       "      <td>Inside</td>\n",
       "      <td>...</td>\n",
       "      <td>0</td>\n",
       "      <td>0</td>\n",
       "      <td>0</td>\n",
       "      <td>Na</td>\n",
       "      <td>0</td>\n",
       "      <td>2</td>\n",
       "      <td>2008</td>\n",
       "      <td>WD</td>\n",
       "      <td>Normal</td>\n",
       "      <td>2566</td>\n",
       "    </tr>\n",
       "    <tr>\n",
       "      <th>1</th>\n",
       "      <td>20</td>\n",
       "      <td>RL</td>\n",
       "      <td>80.0</td>\n",
       "      <td>9600</td>\n",
       "      <td>0</td>\n",
       "      <td>0</td>\n",
       "      <td>Reg</td>\n",
       "      <td>Lvl</td>\n",
       "      <td>1</td>\n",
       "      <td>FR2</td>\n",
       "      <td>...</td>\n",
       "      <td>0</td>\n",
       "      <td>0</td>\n",
       "      <td>0</td>\n",
       "      <td>Na</td>\n",
       "      <td>0</td>\n",
       "      <td>5</td>\n",
       "      <td>2007</td>\n",
       "      <td>WD</td>\n",
       "      <td>Normal</td>\n",
       "      <td>2524</td>\n",
       "    </tr>\n",
       "    <tr>\n",
       "      <th>2</th>\n",
       "      <td>60</td>\n",
       "      <td>RL</td>\n",
       "      <td>68.0</td>\n",
       "      <td>11250</td>\n",
       "      <td>0</td>\n",
       "      <td>0</td>\n",
       "      <td>IR1</td>\n",
       "      <td>Lvl</td>\n",
       "      <td>1</td>\n",
       "      <td>Inside</td>\n",
       "      <td>...</td>\n",
       "      <td>0</td>\n",
       "      <td>0</td>\n",
       "      <td>0</td>\n",
       "      <td>Na</td>\n",
       "      <td>0</td>\n",
       "      <td>9</td>\n",
       "      <td>2008</td>\n",
       "      <td>WD</td>\n",
       "      <td>Normal</td>\n",
       "      <td>2706</td>\n",
       "    </tr>\n",
       "    <tr>\n",
       "      <th>3</th>\n",
       "      <td>70</td>\n",
       "      <td>RL</td>\n",
       "      <td>60.0</td>\n",
       "      <td>9550</td>\n",
       "      <td>0</td>\n",
       "      <td>0</td>\n",
       "      <td>IR1</td>\n",
       "      <td>Lvl</td>\n",
       "      <td>1</td>\n",
       "      <td>Corner</td>\n",
       "      <td>...</td>\n",
       "      <td>0</td>\n",
       "      <td>0</td>\n",
       "      <td>0</td>\n",
       "      <td>Na</td>\n",
       "      <td>0</td>\n",
       "      <td>2</td>\n",
       "      <td>2006</td>\n",
       "      <td>WD</td>\n",
       "      <td>Abnorml</td>\n",
       "      <td>2473</td>\n",
       "    </tr>\n",
       "    <tr>\n",
       "      <th>4</th>\n",
       "      <td>60</td>\n",
       "      <td>RL</td>\n",
       "      <td>84.0</td>\n",
       "      <td>14260</td>\n",
       "      <td>0</td>\n",
       "      <td>0</td>\n",
       "      <td>IR1</td>\n",
       "      <td>Lvl</td>\n",
       "      <td>1</td>\n",
       "      <td>FR2</td>\n",
       "      <td>...</td>\n",
       "      <td>0</td>\n",
       "      <td>0</td>\n",
       "      <td>0</td>\n",
       "      <td>Na</td>\n",
       "      <td>0</td>\n",
       "      <td>12</td>\n",
       "      <td>2008</td>\n",
       "      <td>WD</td>\n",
       "      <td>Normal</td>\n",
       "      <td>3343</td>\n",
       "    </tr>\n",
       "  </tbody>\n",
       "</table>\n",
       "<p>5 rows × 76 columns</p>\n",
       "</div>"
      ],
      "text/plain": [
       "   MSSubClass MSZoning  LotFrontage  LotArea  Street  Alley LotShape  \\\n",
       "0          60       RL         65.0     8450       0      0      Reg   \n",
       "1          20       RL         80.0     9600       0      0      Reg   \n",
       "2          60       RL         68.0    11250       0      0      IR1   \n",
       "3          70       RL         60.0     9550       0      0      IR1   \n",
       "4          60       RL         84.0    14260       0      0      IR1   \n",
       "\n",
       "  LandContour  Utilities LotConfig      ...       ScreenPorch PoolArea Fence  \\\n",
       "0         Lvl          1    Inside      ...                 0        0     0   \n",
       "1         Lvl          1       FR2      ...                 0        0     0   \n",
       "2         Lvl          1    Inside      ...                 0        0     0   \n",
       "3         Lvl          1    Corner      ...                 0        0     0   \n",
       "4         Lvl          1       FR2      ...                 0        0     0   \n",
       "\n",
       "  MiscFeature MiscVal MoSold  YrSold  SaleType  SaleCondition  TotalSurface  \n",
       "0          Na       0      2    2008        WD         Normal          2566  \n",
       "1          Na       0      5    2007        WD         Normal          2524  \n",
       "2          Na       0      9    2008        WD         Normal          2706  \n",
       "3          Na       0      2    2006        WD        Abnorml          2473  \n",
       "4          Na       0     12    2008        WD         Normal          3343  \n",
       "\n",
       "[5 rows x 76 columns]"
      ]
     },
     "execution_count": 99,
     "metadata": {},
     "output_type": "execute_result"
    }
   ],
   "source": [
    "df.head()"
   ]
  },
  {
   "cell_type": "code",
   "execution_count": 100,
   "metadata": {},
   "outputs": [],
   "source": [
    "df_dummies = pd.get_dummies(df)"
   ]
  },
  {
   "cell_type": "code",
   "execution_count": 101,
   "metadata": {},
   "outputs": [],
   "source": [
    "df_train_d = df_dummies[:len(df_train)]\n",
    "df_train_t = df_train.SalePrice\n",
    "df_test_d = df_dummies[len(df_train):]"
   ]
  },
  {
   "cell_type": "code",
   "execution_count": 102,
   "metadata": {},
   "outputs": [],
   "source": [
    "df_train_d_cat = df[:len(df_train)]\n",
    "df_test_d_cat = df[len(df_train):]"
   ]
  },
  {
   "cell_type": "code",
   "execution_count": 103,
   "metadata": {},
   "outputs": [
    {
     "data": {
      "text/plain": [
       "(260, 76)"
      ]
     },
     "execution_count": 103,
     "metadata": {},
     "output_type": "execute_result"
    }
   ],
   "source": [
    "df_test_d_cat.shape"
   ]
  },
  {
   "cell_type": "markdown",
   "metadata": {},
   "source": [
    "## Creating our models\n",
    "\n",
    "We are going to try different approach to see which one is less biased:\n",
    "- regression with Lasso,ElasticNet and Ridge\n",
    "- Tree based with xgboost\n",
    "- Svm"
   ]
  },
  {
   "cell_type": "code",
   "execution_count": 122,
   "metadata": {},
   "outputs": [],
   "source": [
    "from sklearn.model_selection import KFold\n",
    "from sklearn.linear_model import ElasticNet, Lasso,  BayesianRidge, LassoLarsIC, MultiTaskLasso,LassoCV\n",
    "from sklearn.model_selection import cross_val_score,GridSearchCV\n",
    "#from bayes_opt import BayesianOptimization\n",
    "from sklearn.preprocessing import RobustScaler\n",
    "from sklearn.pipeline import make_pipeline\n",
    "from sklearn.ensemble import RandomForestRegressor\n",
    "from sklearn.svm import SVR\n",
    "from sklearn.kernel_ridge import KernelRidge\n",
    "import xgboost as xgb"
   ]
  },
  {
   "cell_type": "code",
   "execution_count": 105,
   "metadata": {},
   "outputs": [],
   "source": [
    "def compute_error(model) :\n",
    "    kFold = KFold(n_splits=6, shuffle=True)\n",
    "    return -np.sqrt(-cross_val_score(model,X=df_train_d,y=df_train_t,cv=kFold, scoring=\"neg_mean_squared_error\"))"
   ]
  },
  {
   "cell_type": "markdown",
   "metadata": {},
   "source": [
    "### XGBoost\n",
    "\n",
    "We use a grid search to find the best param"
   ]
  },
  {
   "cell_type": "code",
   "execution_count": 107,
   "metadata": {},
   "outputs": [
    {
     "name": "stdout",
     "output_type": "stream",
     "text": [
      "Fitting 3 folds for each of 144 candidates, totalling 432 fits\n"
     ]
    },
    {
     "name": "stderr",
     "output_type": "stream",
     "text": [
      "[Parallel(n_jobs=-1)]: Done  34 tasks      | elapsed:    3.3s\n",
      "[Parallel(n_jobs=-1)]: Done 184 tasks      | elapsed:   17.4s\n",
      "[Parallel(n_jobs=-1)]: Done 432 out of 432 | elapsed:   42.9s finished\n"
     ]
    },
    {
     "data": {
      "text/plain": [
       "GridSearchCV(cv=3, error_score='raise',\n",
       "       estimator=XGBRegressor(base_score=0.5, booster='gbtree', colsample_bylevel=1,\n",
       "       colsample_bytree=1, gamma=0, learning_rate=0.1, max_delta_step=0,\n",
       "       max_depth=3, min_child_weight=1, missing=None, n_estimators=100,\n",
       "       n_jobs=1, nthread=None, objective='reg:linear', random_state=0,\n",
       "       reg_alpha=0, reg_lambda=1, scale_pos_weight=1, seed=None,\n",
       "       silent=True, subsample=1),\n",
       "       fit_params=None, iid=True, n_jobs=-1,\n",
       "       param_grid={'subsample': [0.5, 0.6, 0.7], 'max_depth': [4, 5], 'reg_lambda': [2.5, 3.0, 3.5], 'reg_alpha': [0.0005, 0.001], 'colsample_bytree': [0.95, 1.0], 'learning_rate': [0.1, 0.15]},\n",
       "       pre_dispatch='2*n_jobs', refit=True, return_train_score=True,\n",
       "       scoring='neg_mean_squared_error', verbose=True)"
      ]
     },
     "execution_count": 107,
     "metadata": {},
     "output_type": "execute_result"
    }
   ],
   "source": [
    "#trying to find best params for XGBOOST\n",
    "\n",
    "xgboost=xgb.XGBRegressor()\n",
    "parameters={'colsample_bytree':[0.95,1.0],'learning_rate':[0.10,0.15],'max_depth':[4,5],'reg_lambda':[2.5,3.0,3.5],'subsample':[0.5,0.6,0.7],'reg_alpha':[0.0005,0.001]}\n",
    "clf=GridSearchCV(xgboost,parameters,scoring='neg_mean_squared_error',n_jobs=-1,return_train_score=True,cv=3,verbose=True)\n",
    "clf.fit(df_train_d,df_train_t)"
   ]
  },
  {
   "cell_type": "code",
   "execution_count": 108,
   "metadata": {
    "scrolled": true
   },
   "outputs": [
    {
     "name": "stdout",
     "output_type": "stream",
     "text": [
      "XGBRegressor(base_score=0.5, booster='gbtree', colsample_bylevel=1,\n",
      "       colsample_bytree=0.95, gamma=0, learning_rate=0.15,\n",
      "       max_delta_step=0, max_depth=4, min_child_weight=1, missing=None,\n",
      "       n_estimators=100, n_jobs=1, nthread=None, objective='reg:linear',\n",
      "       random_state=0, reg_alpha=0.0005, reg_lambda=2.5,\n",
      "       scale_pos_weight=1, seed=None, silent=True, subsample=0.7)\n",
      "-0.10868618601254613\n"
     ]
    }
   ],
   "source": [
    "xgb=clf.best_estimator_\n",
    "print(xgb)\n",
    "print(compute_error(xgb).mean())"
   ]
  },
  {
   "cell_type": "markdown",
   "metadata": {},
   "source": [
    "### Random forest"
   ]
  },
  {
   "cell_type": "code",
   "execution_count": 131,
   "metadata": {},
   "outputs": [
    {
     "name": "stdout",
     "output_type": "stream",
     "text": [
      "Fitting 6 folds for each of 780 candidates, totalling 4680 fits\n"
     ]
    },
    {
     "name": "stderr",
     "output_type": "stream",
     "text": [
      "[Parallel(n_jobs=-1)]: Done 196 tasks      | elapsed:    4.2s\n",
      "[Parallel(n_jobs=-1)]: Done 620 tasks      | elapsed:   15.7s\n",
      "[Parallel(n_jobs=-1)]: Done 1103 tasks      | elapsed:   34.1s\n",
      "[Parallel(n_jobs=-1)]: Done 1456 tasks      | elapsed:   50.0s\n",
      "[Parallel(n_jobs=-1)]: Done 1906 tasks      | elapsed:  1.2min\n",
      "[Parallel(n_jobs=-1)]: Done 2456 tasks      | elapsed:  1.8min\n",
      "[Parallel(n_jobs=-1)]: Done 3106 tasks      | elapsed:  2.6min\n",
      "[Parallel(n_jobs=-1)]: Done 3856 tasks      | elapsed:  3.6min\n",
      "[Parallel(n_jobs=-1)]: Done 4680 out of 4680 | elapsed:  4.8min finished\n"
     ]
    },
    {
     "data": {
      "text/plain": [
       "GridSearchCV(cv=6, error_score='raise',\n",
       "       estimator=RandomForestRegressor(bootstrap=True, criterion='mse', max_depth=None,\n",
       "           max_features='auto', max_leaf_nodes=None,\n",
       "           min_impurity_decrease=0.0, min_impurity_split=None,\n",
       "           min_samples_leaf=1, min_samples_split=2,\n",
       "           min_weight_fraction_leaf=0.0, n_estimators=10, n_jobs=1,\n",
       "           oob_score=False, random_state=None, verbose=0, warm_start=False),\n",
       "       fit_params=None, iid=True, n_jobs=-1,\n",
       "       param_grid={'max_features': [0.1, 0.2, 0.3, 0.4, 0.5, 0.6, 0.7, 0.8, 0.9, 1.0], 'max_depth': [3, 4, 5, 6, 7, 8, 9, 10, 11, 12, 13, 14, 15], 'n_estimators': [10, 15, 20, 50, 75, 100]},\n",
       "       pre_dispatch='2*n_jobs', refit=True, return_train_score=True,\n",
       "       scoring='neg_mean_squared_error', verbose=True)"
      ]
     },
     "execution_count": 131,
     "metadata": {},
     "output_type": "execute_result"
    }
   ],
   "source": [
    "RF = RandomForestRegressor()\n",
    "randomForestParam = {'n_estimators':[10,15,20,50,75,100],'max_depth':list(range(3,16)), 'max_features':[0.1,0.2,0.3,0.4,0.5,0.6,0.7,.8,.9,1.]}\n",
    "rclf=GridSearchCV(RF,randomForestParam,scoring='neg_mean_squared_error',n_jobs=-1,return_train_score=True,cv=6,verbose=True)\n",
    "rclf.fit(df_train_d,df_train_t)"
   ]
  },
  {
   "cell_type": "code",
   "execution_count": 132,
   "metadata": {},
   "outputs": [
    {
     "name": "stdout",
     "output_type": "stream",
     "text": [
      "RandomForestRegressor(bootstrap=True, criterion='mse', max_depth=14,\n",
      "           max_features=0.3, max_leaf_nodes=None,\n",
      "           min_impurity_decrease=0.0, min_impurity_split=None,\n",
      "           min_samples_leaf=1, min_samples_split=2,\n",
      "           min_weight_fraction_leaf=0.0, n_estimators=100, n_jobs=1,\n",
      "           oob_score=False, random_state=None, verbose=0, warm_start=False)\n",
      "-0.1164652960414309\n"
     ]
    }
   ],
   "source": [
    "RF=rclf.best_estimator_\n",
    "print(RF)\n",
    "print(compute_error(RF).mean())"
   ]
  },
  {
   "cell_type": "markdown",
   "metadata": {},
   "source": [
    "### Lasso"
   ]
  },
  {
   "cell_type": "code",
   "execution_count": 104,
   "metadata": {
    "scrolled": true
   },
   "outputs": [
    {
     "name": "stdout",
     "output_type": "stream",
     "text": [
      "\u001b[31mInitialization\u001b[0m\n",
      "\u001b[94m-----------------------------------------\u001b[0m\n",
      " Step |   Time |      Value |     alpha | \n",
      "    1 | 00m01s | \u001b[35m  -0.09795\u001b[0m | \u001b[32m   0.0005\u001b[0m | \n",
      "    2 | 00m01s |   -0.09827 |    0.0005 | \n",
      "    3 | 00m01s |   -0.09864 |    0.0007 | \n",
      "    4 | 00m01s | \u001b[35m  -0.09767\u001b[0m | \u001b[32m   0.0007\u001b[0m | \n",
      "    5 | 00m01s |   -0.09791 |    0.0004 | \n",
      "\u001b[31mBayesian Optimization\u001b[0m\n",
      "\u001b[94m-----------------------------------------\u001b[0m\n",
      " Step |   Time |      Value |     alpha | \n",
      "    6 | 00m08s |   -0.09943 |    0.0008 | \n",
      "    7 | 00m07s | \u001b[35m  -0.09711\u001b[0m | \u001b[32m   0.0004\u001b[0m | \n",
      "    8 | 00m07s |   -0.09887 |    0.0004 | \n",
      "    9 | 00m04s |   -0.09945 |    0.0006 | \n",
      "   10 | 00m06s |   -0.09873 |    0.0008 | \n",
      "   11 | 00m06s |   -0.09879 |    0.0006 | \n",
      "   12 | 00m07s |   -0.09874 |    0.0006 | \n",
      "   13 | 00m08s |   -0.09868 |    0.0005 | \n",
      "   14 | 00m07s |   -0.09856 |    0.0005 | \n",
      "   15 | 00m08s |   -0.09840 |    0.0007 | \n"
     ]
    }
   ],
   "source": [
    "def LassoParam(alpha,random_state=1):\n",
    "    lasso =  Lasso(alpha =alpha, random_state=random_state)\n",
    "    return compute_error(lasso).mean()\n",
    "\n",
    "LassoBO = BayesianOptimization(LassoParam, {'alpha':(0.0004,0.0008)})\n",
    "LassoBO.maximize(n_iter=10)"
   ]
  },
  {
   "cell_type": "code",
   "execution_count": null,
   "metadata": {},
   "outputs": [
    {
     "data": {
      "text/plain": [
       "{'max_params': {'alpha': 0.0004000086933154514},\n",
       " 'max_val': -0.0971094671240436}"
      ]
     },
     "execution_count": 105,
     "metadata": {},
     "output_type": "execute_result"
    }
   ],
   "source": [
    "LassoBO.res['max']"
   ]
  },
  {
   "cell_type": "code",
   "execution_count": null,
   "metadata": {},
   "outputs": [
    {
     "name": "stdout",
     "output_type": "stream",
     "text": [
      "Fitting 3 folds for each of 9 candidates, totalling 27 fits\n"
     ]
    }
   ],
   "source": [
    "ENregressor=ElasticNet()\n",
    "ENparameters={'l1_ratio':[0.04,0.06,0.05,],'alpha':[0.01,0.012,0.008]}\n",
    "clf1=GridSearchCV(ENregressor,ENparameters,scoring='neg_mean_squared_error',n_jobs=-1,return_train_score=True,cv=3,verbose=True)\n",
    "clf1.fit(df_train_d,df_train_t)\n",
    "#print(compute_error(ENregressor))"
   ]
  },
  {
   "cell_type": "code",
   "execution_count": null,
   "metadata": {},
   "outputs": [],
   "source": [
    "en=clf1.best_estimator_\n",
    "print(en)\n",
    "print(compute_error(en).mean())"
   ]
  },
  {
   "cell_type": "markdown",
   "metadata": {},
   "source": [
    "## SVM"
   ]
  },
  {
   "cell_type": "code",
   "execution_count": null,
   "metadata": {},
   "outputs": [],
   "source": [
    "svm=SVR()\n",
    "SVMparameters={ 'C':[0.76,0.74,0.75],'gamma':[0.0000002,0.0000001,0.0000003],'epsilon':[,0.029,0.03,0.031]}\n",
    "clf2=GridSearchCV(svm,SVMparameters,scoring='neg_mean_squared_error',n_jobs=-1,return_train_score=True,cv=3,verbose=True)\n",
    "clf2.fit(df_train_d,df_train_t)\n",
    "\n"
   ]
  },
  {
   "cell_type": "code",
   "execution_count": null,
   "metadata": {},
   "outputs": [],
   "source": [
    "\n",
    "svm=clf2.best_estimator_\n",
    "print(svm)\n",
    "print(compute_error(svm).mean())"
   ]
  },
  {
   "cell_type": "markdown",
   "metadata": {},
   "source": [
    "This results aren't satisfying lets try another SVM for instance Kernel Ridge Regression"
   ]
  },
  {
   "cell_type": "code",
   "execution_count": null,
   "metadata": {},
   "outputs": [],
   "source": [
    "kr=KernelRidge()\n",
    "KRRparameters={'alpha':[0.2,0.1,0.3],'kernel':['polynomial'],'degree':[1,2,3],'coef0':[1,2,3,4,5]}\n",
    "clf3=GridSearchCV(kr,KRRparameters,scoring='neg_mean_squared_error',n_jobs=-1,return_train_score=True,cv=3,verbose=True)\n",
    "clf3.fit(df_train_d,df_train_t)"
   ]
  },
  {
   "cell_type": "code",
   "execution_count": null,
   "metadata": {},
   "outputs": [],
   "source": [
    "krr=clf3.best_estimator_\n",
    "print(krr)\n",
    "print(compute_error(krr))"
   ]
  },
  {
   "cell_type": "markdown",
   "metadata": {},
   "source": [
    "## First attempt at stacking"
   ]
  },
  {
   "cell_type": "code",
   "execution_count": null,
   "metadata": {},
   "outputs": [],
   "source": [
    "from sklearn.base import BaseEstimator, TransformerMixin, RegressorMixin, clone"
   ]
  },
  {
   "cell_type": "code",
   "execution_count": null,
   "metadata": {},
   "outputs": [],
   "source": [
    "class AveragingModels(BaseEstimator, RegressorMixin, TransformerMixin):\n",
    "    def __init__(self, models):\n",
    "        self.models = models\n",
    "        \n",
    "    # we define clones of the original models to fit the data in\n",
    "    def fit(self, X, y):\n",
    "        self.models_ = [clone(x) for x in self.models]\n",
    "        \n",
    "        # Train cloned base models\n",
    "        for model in self.models_:\n",
    "            model.fit(X, y)\n",
    "\n",
    "        return self\n",
    "    \n",
    "    #Now we do the predictions for cloned models and average them\n",
    "    def predict(self, X):\n",
    "        predictions = np.column_stack([\n",
    "            model.predict(X) for model in self.models_\n",
    "        ])\n",
    "        return np.mean(predictions, axis=1) "
   ]
  },
  {
   "cell_type": "code",
   "execution_count": 121,
   "metadata": {},
   "outputs": [
    {
     "name": "stdout",
     "output_type": "stream",
     "text": [
      "-2.4725215917753967\n"
     ]
    }
   ],
   "source": [
    "lasso=Lasso(alpha=0.0005)\n",
    "\n",
    "averaged_models = AveragingModels(models = (xgb,lasso,krr,en))\n",
    "print(compute_error(averaged_models).mean())"
   ]
  },
  {
   "cell_type": "code",
   "execution_count": 120,
   "metadata": {},
   "outputs": [
    {
     "name": "stdout",
     "output_type": "stream",
     "text": [
      "[-33.14402908 -20.90844855  -1.54991144  -0.7213609  -22.09594101\n",
      "  -2.19292823]\n",
      "[-0.10877293 -0.10538113 -0.12254344 -0.11126993 -0.1150323  -0.10869053]\n",
      "[-0.08496185 -0.10580668 -0.093384   -0.0966878  -0.10043696 -0.09824863]\n",
      "[-0.10643597 -0.10132801 -0.09385759 -0.08711878 -0.09009823 -0.10853917]\n"
     ]
    }
   ],
   "source": [
    "print(compute_error(krr))\n",
    "print(compute_error(xgb))\n",
    "print(compute_error(lasso))\n",
    "print(compute_error(en))"
   ]
  },
  {
   "cell_type": "code",
   "execution_count": null,
   "metadata": {},
   "outputs": [],
   "source": []
  }
 ],
 "metadata": {
  "kernelspec": {
   "display_name": "Python 3",
   "language": "python",
   "name": "python3"
  },
  "language_info": {
   "codemirror_mode": {
    "name": "ipython",
    "version": 3
   },
   "file_extension": ".py",
   "mimetype": "text/x-python",
   "name": "python",
   "nbconvert_exporter": "python",
   "pygments_lexer": "ipython3",
   "version": "3.5.2"
  }
 },
 "nbformat": 4,
 "nbformat_minor": 1
}
