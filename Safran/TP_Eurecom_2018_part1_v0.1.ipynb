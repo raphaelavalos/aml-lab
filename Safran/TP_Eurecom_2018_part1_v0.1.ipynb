{
 "cells": [
  {
   "cell_type": "markdown",
   "metadata": {
    "cell_style": "center"
   },
   "source": [
    "\n",
    "# Welcome to Safran TP 1\n",
    "\n",
    "<br>\n",
    "<div style=\"text-align: justify\"> \n",
    "Every day, more than 80,000 commercial flights take place around the world, operated by hundreds of airlines. For all aircraft take-off weight exceeding 27 tons, a regulatory constraint requires companies to systematically record and analyse all flight data, for the purpose of improving the safety of flights. Flight Data Monitoring strives to detect and prioritize deviations from standards set by the aircraft manufacturers, the authorities of civil aviation in the country, or even companies themselves. Such deviations, called events, are used to populate a database that enables companies to identify and monitor the risks inherent to these operations.\n",
    "</div>\n",
    "<br>\n",
    "<div style=\"text-align: justify\"> \n",
    "This notebook is designed to let you manipulate real aeronautical data, provided by the Safran Group. It is divided in two parts: the first part deals with the processing of raw data, you will be asked to visualize the data, understand what variables require processing and perform the processing for some of these variables. The second part deals with actual data analysis, and covers some interesting problems. We hope to give you some insights of the data scientist job and give you interesting and challenging questions.\n",
    "</div>"
   ]
  },
  {
   "cell_type": "markdown",
   "metadata": {},
   "source": [
    "<h1><div class=\"label label-success\">Part 1: Data processing</div></h1>"
   ]
  },
  {
   "cell_type": "markdown",
   "metadata": {},
   "source": [
    "## Loading the data"
   ]
  },
  {
   "cell_type": "markdown",
   "metadata": {},
   "source": [
    "Load the **raw** data into the structure proposed below (the schema is given to you), using the code provided. The definition of the variables available is given here:\n",
    "\n",
    "| var | description |\n",
    "|:-----:|:-------------:|\n",
    "| TIME   | elapsed seconds|\n",
    "| LATP_1 | Latitude (°)|\n",
    "| LONP_1 | Longitude (°)|\n",
    "| RALT1 | Radio Altitude, sensor 1 (feet)|\n",
    "| RALT2 | Radio Altitude, sensor 2 (feet)|\n",
    "| RALT3 | Radio Altitude, sensor 3 (feet)|\n",
    "| ALT_STD | Relative Altitude (feet)|\n",
    "| HEAD | head (°)|\n",
    "| PITCH | pitch (°)|\n",
    "| ROLL | roll (°)|\n",
    "| IAS | Indicated Air Speed (m/s)|\n",
    "| N11 | speed N1 of the first engine (% of tr/min)|\n",
    "| N21 | speed N2 of the first engine (% of tr/min)|\n",
    "| N12 | speed N1 of the second engine (% of tr/min)|\n",
    "| N22 | speed N2 of the second engine (% of tr/min)|\n",
    "| AIR_GROUND | boolean, 0: ground, 1: air|\n",
    "\n",
    "The sample rate is 1 Hz. You will be provided with `780` flight records. Each is a full record of a flight starting at the beginning of the taxi out phase and terminating at the end of the taxi in phase. Please be aware that due to side effects the very beginning of the record may be faulty. This is something to keep in mind when we will analyse the data.\n",
    "\n",
    "** Note ** : `TIME` represents the elapsed seconds from today midnight. You are not provided with an absolute time variable that would tell you the date and hour of the flights."
   ]
  },
  {
   "cell_type": "markdown",
   "metadata": {},
   "source": [
    "You will need some expertise about the signification of the variables. Latitude and longitude are quite straightforward. Head, Pitch and Roll are standards orientation angles, check this [image](https://i.stack.imgur.com/65EKz.png) to be sure. RALT\\* are coming from three different radio altimeters, they measure the same thing but have a lot of missing values and are valid only under a threshold altitude (around 5000 feet). Alt_std is the altitude measured from the pressure (it basically comes from a barometer), it is way less accurate that a radio altimeter but provides values for all altitudes. N1\\* and N2\\* are the rotational speeds of the engine sections expressed as a percentage of a nominal value. Some good links to check out to go deeper: \n",
    "- [about phases of flight](http://www.fp7-restarts.eu/index.php/home/root/state-of-the-art/objectives/2012-02-15-11-58-37/71-book-video/parti-principles-of-flight/126-4-phases-of-a-flight)\n",
    "- [pitch-roll-head](https://i.stack.imgur.com/65EKz.png)\n",
    "- [about N\\*\\* variables I](http://aviation.stackexchange.com/questions/14690/what-are-n1-and-n2)\n",
    "- [about N\\*\\* variables II](https://www.quora.com/Whats-N1-N2-in-aviation-And-how-is-the-value-of-100-N1-N2-determined)\n",
    "- [how altimeters work](http://www.explainthatstuff.com/how-altimeters-work.html)\n",
    "- [about runway naming](https://en.wikipedia.org/wiki/Runway#Naming)"
   ]
  },
  {
   "cell_type": "code",
   "execution_count": 1,
   "metadata": {},
   "outputs": [
    {
     "ename": "SyntaxError",
     "evalue": "invalid syntax (<ipython-input-1-7a37889a79e8>, line 30)",
     "output_type": "error",
     "traceback": [
      "\u001b[0;36m  File \u001b[0;32m\"<ipython-input-1-7a37889a79e8>\"\u001b[0;36m, line \u001b[0;32m30\u001b[0m\n\u001b[0;31m    print(str(p*10) + \"%: [\" + \"#\"*p + \" \"*(10-p) + \"]\", end=\"\\r\")\u001b[0m\n\u001b[0m                                                            ^\u001b[0m\n\u001b[0;31mSyntaxError\u001b[0m\u001b[0;31m:\u001b[0m invalid syntax\n"
     ]
    }
   ],
   "source": [
    "BASE_DIR = \"~/Desktop/data/\"\n",
    "\n",
    "from os import listdir\n",
    "from os.path import isfile, join\n",
    "\n",
    "import glob\n",
    "\n",
    "import matplotlib as mpl\n",
    "mpl.rcParams[\"axes.grid\"] = True\n",
    "import matplotlib.pylab as plt\n",
    "%matplotlib inline\n",
    "\n",
    "import numpy as np\n",
    "import pandas as pd\n",
    "pd.options.display.max_columns = 50\n",
    "\n",
    "from datetime import datetime\n",
    "\n",
    "# from haversine import haversine\n",
    "\n",
    "def load_data_from_directory(DATA_PATH, num_flights):\n",
    "    files_list = glob.glob(join(DATA_PATH, \"*pkl\"))\n",
    "    print(\"There are %d files in total\" % len(files_list))\n",
    "    files_list = files_list[:num_flights]\n",
    "    print(\"We process %d files\" % num_flights)\n",
    "    dfs = []\n",
    "    p = 0\n",
    "    for idx, f in enumerate(files_list):\n",
    "        if idx % int(len(files_list)/10) == 0:\n",
    "            print(str(p*10) + \"%: [\" + \"#\"*p + \" \"*(10-p) + \"]\", end=\"\\r\")\n",
    "            p += 1\n",
    "        dfs.append(pd.read_pickle(f))\n",
    "    print(str(p*10) + \"%: [\" + \"#\"*p + \" \"*(10-p) + \"]\", end=\"\\r\")\n",
    "    return dfs\n",
    "\n",
    "from IPython.core.display import HTML\n",
    "css = open('style-table.css').read()\n",
    "HTML('<style>{}</style>'.format(css))"
   ]
  },
  {
   "cell_type": "markdown",
   "metadata": {},
   "source": [
    "<div class=\"label label-primary\">Execute the cell below to load the data for part 1</div>"
   ]
  },
  {
   "cell_type": "code",
   "execution_count": null,
   "metadata": {
    "collapsed": true
   },
   "outputs": [],
   "source": [
    "num_flights = 780\n",
    "flights1 = load_data_from_directory(BASE_DIR + \"part1/flights\", num_flights)\n",
    "for f in flights1:\n",
    "    l = len(f)\n",
    "    new_idx = pd.date_range(start=pd.Timestamp(\"now\").date(), periods=l, freq=\"S\")\n",
    "    f.set_index(new_idx, inplace=True)"
   ]
  },
  {
   "cell_type": "markdown",
   "metadata": {},
   "source": [
    "The data is loaded with pandas. Please take a look at the [pandas cheat sheet](https://github.com/pandas-dev/pandas/blob/master/doc/cheatsheet/Pandas_Cheat_Sheet.pdf) if you have any doubt. You are provided with 780 dataframes, each of them represents the records of the variables defined above during a whole flight.\n",
    "\n",
    "`flights1` is a list where each item is a dataframe storing the data of one flight. There is no particular ordering in this list. All the flights depart from the same airport and arrive at the same airport. These airports are hidden to you and you will soon understand how.\n",
    "\n",
    "For example `flights1[0]` is a dataframe, representing one flight."
   ]
  },
  {
   "cell_type": "code",
   "execution_count": null,
   "metadata": {
    "collapsed": true
   },
   "outputs": [],
   "source": [
    "flights1[0].head(20)"
   ]
  },
  {
   "cell_type": "markdown",
   "metadata": {},
   "source": [
    "You can select a column by indexing by its name."
   ]
  },
  {
   "cell_type": "code",
   "execution_count": null,
   "metadata": {
    "collapsed": true
   },
   "outputs": [],
   "source": [
    "flights1[0][\"PITCH\"].describe()"
   ]
  },
  {
   "cell_type": "markdown",
   "metadata": {},
   "source": [
    "Use `iloc[]` to select by line number, either the whole dataframe to obtain all the variables or an individual series."
   ]
  },
  {
   "cell_type": "code",
   "execution_count": null,
   "metadata": {
    "collapsed": true
   },
   "outputs": [],
   "source": [
    "flights1[0].iloc[50:60]"
   ]
  },
  {
   "cell_type": "code",
   "execution_count": null,
   "metadata": {
    "collapsed": true
   },
   "outputs": [],
   "source": [
    "flights1[0][\"PITCH\"].iloc[50:60]"
   ]
  },
  {
   "cell_type": "markdown",
   "metadata": {},
   "source": [
    "## Visualization"
   ]
  },
  {
   "cell_type": "markdown",
   "metadata": {},
   "source": [
    "To perform monitoring of flights, it is necessary to clean up the data. To start, it is important to visualize the data that is available, in order to understand better their properties and the problems associated with them (noise, statistical characteristics, <del>ladders</del>, features and other values)."
   ]
  },
  {
   "cell_type": "markdown",
   "metadata": {},
   "source": [
    "<div class=\"alert alert-info\">\n",
    "<h3><div class=\"label label-default\">Question 1</div>  <div class=\"label label-info\">Visualize all the variables</div></h3>\n",
    "<br>\n",
    "For an arbitrary flight, for example <code>flights1[0]</code>, visualize all the variables. Would you rather use plot or scatter? Interpolate the data or not interpolate? Think about NaN values and how they are treated when we plot a series. Comment.\n",
    "</div>"
   ]
  },
  {
   "cell_type": "code",
   "execution_count": null,
   "metadata": {
    "collapsed": true
   },
   "outputs": [],
   "source": [
    "# your code goes here ..."
   ]
  },
  {
   "cell_type": "markdown",
   "metadata": {},
   "source": [
    "Your comment here:\n",
    "\n",
    "..."
   ]
  },
  {
   "cell_type": "markdown",
   "metadata": {},
   "source": [
    "If it is interesting to see the variables for a given flight, it is more informative to view the set of values for all flights in order to understand what are the significant/normal values and what are those which are abnormal."
   ]
  },
  {
   "cell_type": "markdown",
   "metadata": {},
   "source": [
    "<div class=\"alert alert-info\">\n",
    "<h3><div class=\"label label-default\">Question 2</div>  <div class=\"label label-info\">Visualize N21 variable for all flights</div></h3>\n",
    "<br>\n",
    "For the <code>N21</code> variable, for example, display all of the flights on the same figure. Use alpha parameter to add transparency to your plot. Is there any pattern? Comment the variabilities you observe.\n",
    "</div>"
   ]
  },
  {
   "cell_type": "code",
   "execution_count": null,
   "metadata": {
    "collapsed": true
   },
   "outputs": [],
   "source": [
    "# your code goes here ..."
   ]
  },
  {
   "cell_type": "markdown",
   "metadata": {},
   "source": [
    "Your comment here:\n",
    "\n",
    "..."
   ]
  },
  {
   "cell_type": "markdown",
   "metadata": {},
   "source": [
    "Some variables must be analyzed together, such as latitude and longitude, otherwise the visualization information will be incomplete, we could be missing something."
   ]
  },
  {
   "cell_type": "markdown",
   "metadata": {},
   "source": [
    "<div class=\"alert alert-info\">\n",
    "<h3><div class=\"label label-default\">Question 3</div>  <div class=\"label label-info\">Visualize latitude against longitude for all flights</div></h3>\n",
    "<br>\n",
    "Display the trajectories (<code>LONP_1</code>, <code>LATP_1</code>) of the first 20 flights, that is <code>flights1[:20]</code>. What do you see? Keep in mind that the data during the beginning of the recording may be abnormal. What insight do you lose when you plot <code>LONP_1</code> against <code>LATP_1</code> ?\n",
    "</div>"
   ]
  },
  {
   "cell_type": "code",
   "execution_count": null,
   "metadata": {
    "collapsed": true
   },
   "outputs": [],
   "source": [
    "# your code goes here ..."
   ]
  },
  {
   "cell_type": "markdown",
   "metadata": {},
   "source": [
    "Your comment here:\n",
    "\n",
    "..."
   ]
  },
  {
   "cell_type": "markdown",
   "metadata": {},
   "source": [
    "Keep in mind that our goal is to understand the nature and the inherent problems of our data, and its features. Proceed with the visual analysis of the data, looking at different features."
   ]
  },
  {
   "cell_type": "markdown",
   "metadata": {},
   "source": [
    "<div class=\"alert alert-info\">\n",
    "<h3><div class=\"label label-default\">Question 4</div>  <div class=\"label label-info\">Recap variables that require pre-processing</div></h3>\n",
    "<br>\n",
    "Based on your observations as for now, what are the variables requiring processing? For each of these variables, specify the necessary pre-processing required prior to perform data analysis.\n",
    "</div>"
   ]
  },
  {
   "cell_type": "markdown",
   "metadata": {},
   "source": [
    "Your answer here:\n",
    "\n",
    "..."
   ]
  },
  {
   "cell_type": "markdown",
   "metadata": {},
   "source": [
    "It is important to undestand the links between variables, to understand how a system works."
   ]
  },
  {
   "cell_type": "markdown",
   "metadata": {},
   "source": [
    "<div class=\"alert alert-info\">\n",
    "<h3><div class=\"label label-default\">[NEW] Question </div>  <div class=\"label label-info\">Correlation between variables</div></h3>\n",
    "<br>\n",
    " Compute the correlation of each normalized variables with any others for one flight.\n",
    "Compute delay and max value for each pair of variables.\n",
    "What happens if you do not normalize ?\n",
    "What are the most correlated variables or group of variables ?\n",
    "Can you comment about the delay between variables ?\n",
    "</div>"
   ]
  },
  {
   "cell_type": "code",
   "execution_count": null,
   "metadata": {
    "collapsed": true
   },
   "outputs": [],
   "source": [
    "from scipy import signal\n",
    "def correlation(x,y):\n",
    "    all_correlations = signal.interpolate(x,y)\n",
    "    maximum_correlation = np.max(all_correlations)\n",
    "    delay = np.argmax(correlations)-x.shape[0]+1\n",
    "    return maximum_correlation, delay   \n"
   ]
  },
  {
   "cell_type": "code",
   "execution_count": null,
   "metadata": {
    "collapsed": true
   },
   "outputs": [],
   "source": [
    "# your code goes here ..."
   ]
  },
  {
   "cell_type": "markdown",
   "metadata": {},
   "source": [
    "Your comment here:\n",
    "\n",
    "..."
   ]
  },
  {
   "cell_type": "markdown",
   "metadata": {},
   "source": [
    "## Pre-processing"
   ]
  },
  {
   "cell_type": "markdown",
   "metadata": {},
   "source": [
    "Data pre-processing is essential, in order to separate the errors due to measurement from \"normal\" data variability, which is representative of the phenomenon that interests us."
   ]
  },
  {
   "cell_type": "markdown",
   "metadata": {},
   "source": [
    "<div class=\"alert alert-info\">\n",
    "<h3><div class=\"label label-default\">Question 5</div>  <div class=\"label label-info\">Smooth and filter out abnormal data in trajectories (LATP_1 and LONP_1)</div></h3>\n",
    "<br>\n",
    "Filter the flight trajectories (<code>LATP_1</code> and <code>LONP_1</code> variables). You can focus on the first 20 flights, that is <code>flights1[:20]</code>. Display the trajectories before and after smoothing.\n",
    "</div>"
   ]
  },
  {
   "cell_type": "markdown",
   "metadata": {},
   "source": [
    "```python\n",
    "# this is a template code, fill in the blanks, or use your own code\n",
    "\n",
    "# Only work with the first few flights\n",
    "fs = flights1[:20]\n",
    "\n",
    "# Set up the figure to plot the trajectories before (ax0) and after smoothing (ax1)\n",
    "fig, axarr = plt.subplots(1, 2)\n",
    "fig.set_figwidth(15)\n",
    "ax0, ax1 = axarr\n",
    "\n",
    "for f in fs:\n",
    "    f[\"LATP_1_C\"] = f.LATP_1.rolling(window=...).... # FILL IN THE BLANKS\n",
    "    f[\"LONP_1_C\"] = f.LONP_1.rolling(window=...).... # FILL IN THE BLANKS\n",
    "\n",
    "for f in fs:\n",
    "    f.plot(kind=\"scatter\", x=\"LATP_1\", y=\"LONP_1\", s=1, ax=ax0) # plot raw trajectory\n",
    "    f.plot(kind=\"scatter\", x=\"LATP_1_C\", y=\"LONP_1_C\", s=1, ax=ax1) # plot smoothed trajectory\n",
    "    \n",
    "    \n",
    "fig.tight_layout()\n",
    "\n",
    "```"
   ]
  },
  {
   "cell_type": "markdown",
   "metadata": {},
   "source": [
    "<div class=\"alert alert-info\">\n",
    "<h3><div class=\"label label-default\">Question 6</div>  <div class=\"label label-info\">Pre-process HEAD, get rid off discontinuities</div></h3>\n",
    "<br>\n",
    "Angles are special variables because they \"cycle\" over their range of values. The <code>HEAD</code> variable shows artificial discontinuities: your goal is to eliminate (filter out) such discontinuities. The angle may no longer be between 0 and 360 degrees after the transformation but it will come very handy for some analysis later. Display the data before and after transformation. You can focus on one flight, for example <code>flights1[0]</code>.\n",
    "</div>"
   ]
  },
  {
   "cell_type": "code",
   "execution_count": null,
   "metadata": {
    "collapsed": true
   },
   "outputs": [],
   "source": [
    "# your code goes here ..."
   ]
  },
  {
   "cell_type": "markdown",
   "metadata": {},
   "source": [
    "Your comment here:\n",
    "\n",
    "..."
   ]
  },
  {
   "cell_type": "markdown",
   "metadata": {},
   "source": [
    "<div class=\"alert alert-info\">\n",
    "<h3><div class=\"label label-default\">[NEW] Question</div>  <div class=\"label label-info\">All data on the same time base</div></h3>\n",
    "<br>When we make an analysis, it is important to have the maximum of information. However, for any flight, you can see that there is three RALT (<code>RALT1</code>, <code>RALT2</code>, <code>RALT3</code>). They are not at the same sampling rate.\n",
    "Use interpolation on one flight, for example <code>flights1[0]</code>,to have them at the same sampling rate of 1Hz. Then, merge your results. Can you comment on the method you used ?\n",
    "</div>"
   ]
  },
  {
   "cell_type": "code",
   "execution_count": null,
   "metadata": {
    "collapsed": true
   },
   "outputs": [],
   "source": [
    "from scipy import interpolate\n",
    "# your code goes here ..."
   ]
  },
  {
   "cell_type": "markdown",
   "metadata": {},
   "source": [
    "Your comment here:\n",
    "\n",
    "...\n"
   ]
  },
  {
   "cell_type": "markdown",
   "metadata": {},
   "source": [
    "<h1><div class=\"label label-success\">Part 2: Analysis</div></h1>"
   ]
  },
  {
   "cell_type": "markdown",
   "metadata": {},
   "source": [
    "We now turn to the data analysis task. In this part, we will use a **clean** dataset, which has been prepared for you; nevertheless, the functions you developed in the first part of the notebook can still be used to visualize and inspect the new data. Next, we display the schema of the new dataset you will use:\n",
    "\n",
    "| var | description |\n",
    "|:-----:|:-------------:|\n",
    "| TIME   |elapsed seconds|\n",
    "| **LATP_C** | **Latitude (°), Corrected**|\n",
    "| **LONP_C** | **Longitude (°), Corrected**|\n",
    "| **RALT_F** | **Radio Altitude (feet), Fusioned**|\n",
    "| **ALT_STD_C** | **Relative Altitude (feet), Corrected**|\n",
    "| **HEAD_C** | **head (°), Corrected**|\n",
    "| **HEAD_TRUE** | **head (°), without discontinuities**|\n",
    "| **PITCH_C** | **pitch (°), Corrected**|\n",
    "| **ROLL_C** | **roll (°), Corrected**|\n",
    "| **IAS_C** | **Indicated Air Speed (m/s), Corrected**|\n",
    "| N11 | speed N1 of the first engine (% of tr/min)|\n",
    "| N21 | speed N2 of the first engine (% of tr/min)|\n",
    "| N12 | speed N1 of the second engine (% of tr/min)|\n",
    "| N22 | speed N2 of the second engine (% of tr/min)|\n",
    "| AIR_GROUND | status in the air (Boolean)|"
   ]
  },
  {
   "cell_type": "markdown",
   "metadata": {},
   "source": [
    "<div class=\"label label-primary\">Execute the cell below to load the data for part 2</div>"
   ]
  },
  {
   "cell_type": "code",
   "execution_count": null,
   "metadata": {
    "collapsed": true
   },
   "outputs": [],
   "source": [
    "num_flights = 780\n",
    "flights2 = load_data_from_directory(BASE_DIR + \"part2/flights/\", num_flights)\n",
    "for f in flights2:\n",
    "    l = len(f)\n",
    "    new_idx = pd.date_range(start=pd.Timestamp(\"now\").date(), periods=l, freq=\"S\")\n",
    "    f.set_index(new_idx, inplace=True)"
   ]
  },
  {
   "cell_type": "markdown",
   "metadata": {},
   "source": [
    "In this part, we will try to modelize a time series with simple models. In particular, we will look at the landing, and the N1 variable."
   ]
  },
  {
   "cell_type": "markdown",
   "metadata": {},
   "source": [
    "<div class=\"label label-primary\">\n",
    " First, look at the variables for the flight 0, by executing the following code.\n",
    "</div>"
   ]
  },
  {
   "cell_type": "code",
   "execution_count": null,
   "metadata": {
    "collapsed": true
   },
   "outputs": [],
   "source": [
    "plt.plot(flights2[0]['N11'], 'b')\n",
    "index_start = 4500\n",
    "tomodel = flights2[0]['N11'][index_start:index_start+1600] \n",
    "topredict = flights2[0]['N11'][index_start+1600:index_start+3600] \n",
    "plt.plot(tomodel, 'g')\n",
    "plt.plot(topredict, 'r')\n"
   ]
  },
  {
   "cell_type": "markdown",
   "metadata": {},
   "source": [
    "<div class=\"alert alert-info\">\n",
    "<h3><div class=\"label label-default\">[NEW] Question</div>  <div class=\"label label-info\">Modelization of time series</div></h3>\n",
    "<br>\n",
    "Is it stationary ? The augmented Dickey-Fuller test is a popular test to test the null hypothesis that a time series sample is non-stationary. Use this test to confirm what you observed.\n",
    "</div>"
   ]
  },
  {
   "cell_type": "code",
   "execution_count": null,
   "metadata": {
    "collapsed": true
   },
   "outputs": [],
   "source": [
    "import scipy.stats.stats as stats\n",
    "from statsmodels.tsa.stattools import adfuller\n",
    "# your code goes here\n",
    "\n",
    "\n",
    "\n",
    "\n",
    "DFtest_brut = ...\n",
    "print('Augmented D-F test before detrending:')\n",
    "print('p-value = ' + str(DFtest_brut))"
   ]
  },
  {
   "cell_type": "markdown",
   "metadata": {},
   "source": [
    "Your comment goes here ..."
   ]
  },
  {
   "cell_type": "markdown",
   "metadata": {},
   "source": [
    "<div class=\"alert alert-info\">\n",
    "<h3><div class=\"label label-default\">[NEW] Question</div>  <div class=\"label label-info\">Modelization of time series</div></h3>\n",
    "<br>\n",
    "We may want to detrend the time serie. Fit a polynom or order 3 to the sequence <code>tomodel</code>, remove the trend and look at the Dickey-Fuller test again. Should you have used an higher degree polynomial? What would be the issue of a high degree polynomial when trying to do prediction of future sample?\n",
    "\n",
    "</div>"
   ]
  },
  {
   "cell_type": "code",
   "execution_count": null,
   "metadata": {
    "collapsed": true
   },
   "outputs": [],
   "source": [
    "from sklearn.preprocessing import PolynomialFeatures\n",
    "from sklearn.linear_model import LinearRegression\n",
    "from sklearn.pipeline import Pipeline\n",
    "# Your code goes here\n",
    "\n",
    "DFtest_corrected\n",
    "print('Augmented D-F test after detrending:')\n",
    "print('p-value = ' + str(DFtest_corrected))"
   ]
  },
  {
   "cell_type": "markdown",
   "metadata": {},
   "source": [
    "Your comment goes here..."
   ]
  },
  {
   "cell_type": "markdown",
   "metadata": {},
   "source": [
    "<div class=\"alert alert-info\">\n",
    "<h3><div class=\"label label-default\">[NEW] Question</div>  <div class=\"label label-info\">Prediction using polynomial</div></h3>\n",
    "<br>\n",
    "We want to predict what will be our next N11 in the next time steps. Use the polynom to predict the end of <code>tomodel</code>. Compare to <code>topredict</code>. What can you say ? What could you do to improve your prediction ?\n",
    "</div>\n"
   ]
  },
  {
   "cell_type": "code",
   "execution_count": null,
   "metadata": {
    "collapsed": true
   },
   "outputs": [],
   "source": [
    "# Your code goes here"
   ]
  },
  {
   "cell_type": "markdown",
   "metadata": {},
   "source": [
    "Your comment goes here..."
   ]
  },
  {
   "cell_type": "markdown",
   "metadata": {},
   "source": [
    "We will now see if we can model the time series using auto-regressive / moving-average models.\n",
    "The **ARIMA** technique (Auto-Regressive Integrated Moving Average) allows modeling and forecasting of time series. The parameters of an ARIMA model are often noted (p,d,q) where:\n",
    "- p is the number of auto-regressive terms (AR), e.g. if p=3, x(t) will be determined from x(t-1), x(t-2) and x(t-3)\n",
    "- d is the number of differences to take before obtaining a stationary time series\n",
    "- q is the number of moving average (MA) terms.\n",
    "\n",
    "Autocorrelation (ACF) and partial autocorrelation (PACF) plots are a usefull tool to identify the values for *p* and *q*. The autocorrelation describes the correlation of observations with observations at previous time steps (or lags).\n",
    "Partial autocorrelation does the same thing but for lag *k* removes the effect of correlations due to the terms at shorter lags.\n",
    "\n",
    "<div class=\"label label-primary\">\n",
    "Plot the ACF and PACF of the time series.\n",
    "</div>\n"
   ]
  },
  {
   "cell_type": "code",
   "execution_count": null,
   "metadata": {
    "collapsed": true
   },
   "outputs": [],
   "source": [
    "from statsmodels.graphics.tsaplots import plot_acf\n",
    "from statsmodels.graphics.tsaplots import plot_pacf\n",
    "plot_acf(tomodel,lags=15)\n",
    "plt.show()\n",
    "plot_pacf(tomodel,lags=15)\n",
    "plt.show()"
   ]
  },
  {
   "cell_type": "markdown",
   "metadata": {},
   "source": [
    "On thoses plots you can observe blue shaded regions, those are confidence interevals (set to a 95% default value). Values of ACF or PACF outside of this region are likely to be correlations and not noise.\n",
    "\n",
    "Observe the shape of the two plots:\n",
    "\n",
    "    ACF plot decays gradually\n",
    "    PACF shows a statistically significant spike at lag 1, 2, 3, 5 and none beyond lag 5\n",
    "\n",
    "This is the sign of an auto-regressive AR(5) process.\n",
    "\n",
    "To sum up:\n",
    "\n",
    "    the signal is not stationary, so we can try to have d=1\n",
    "    it seems to be an AR(5) process so p=5 and q=0\n",
    "\n",
    "<div class=\"alert alert-info\">\n",
    "<h3><div class=\"label label-default\">[NEW] Question</div>  <div class=\"label label-info\">Prediction using ARIMA</div></h3>\n",
    "<br>\n",
    "\n",
    "Now, train an ARIMA(5,1,0) model on the data, and then, use it to predict the next steps of <code>tomodel</code>. Compare it to <code>topredict</code>\n",
    "</div>"
   ]
  },
  {
   "cell_type": "code",
   "execution_count": null,
   "metadata": {
    "collapsed": true
   },
   "outputs": [],
   "source": [
    "from statsmodels.tsa.arima_model import ARIMA\n",
    "from scipy.stats import probplot\n",
    "\n",
    "ARmodel = ARIMA(#complete)\n",
    "ARfitres = ARmodel.fit(trend='nc')\n",
    "\n",
    "\n",
    "residuals = pd.DataFrame(ARfitres.resid)\n",
    "residuals.plot()\n",
    "plt.show()\n",
    "\n",
    "probplot(ARfitres.resid, dist='norm',plot=plt)\n",
    "plt.show()\n",
    "\n",
    "plot_acf(ARfitres.resid,lags=15)\n",
    "plt.show()\n",
    "\n",
    "print(residuals.describe())"
   ]
  },
  {
   "cell_type": "code",
   "execution_count": null,
   "metadata": {
    "collapsed": true
   },
   "outputs": [],
   "source": [
    "model = ARIMA(#complete)\n",
    "model_res = model.fit(disp=0)\n",
    "newval = model_res.forecast(len(topredict))[0]\n",
    "\n",
    "plt.plot(X[:len(tomodel)],tomodel)\n",
    "plt.plot(X[len(tomodel):],topredict)\n",
    "plt.plot(X[len(tomodel):],newval)\n",
    "plt.show()\n"
   ]
  },
  {
   "cell_type": "markdown",
   "metadata": {},
   "source": [
    "We tried two models. We now want to compare them in a more scientific way, to select the best model.\n",
    "<div class=\"alert alert-info\">\n",
    "<h3><div class=\"label label-default\">[NEW] Question</div>  <div class=\"label label-info\">Compare models</div></h3>\n",
    "<br>\n",
    "Compute the mean squared error to compare the two models. Comment on the results, then comment on the two approaches.\n",
    "</div>"
   ]
  },
  {
   "cell_type": "code",
   "execution_count": null,
   "metadata": {
    "collapsed": true
   },
   "outputs": [],
   "source": [
    "# Your code goes here"
   ]
  },
  {
   "cell_type": "markdown",
   "metadata": {},
   "source": [
    "Your comment goes here..."
   ]
  },
  {
   "cell_type": "markdown",
   "metadata": {},
   "source": [
    "## Detection of phases of flight"
   ]
  },
  {
   "cell_type": "markdown",
   "metadata": {},
   "source": [
    "![phases_flight_image](http://code7700.com/images/ped_phase_of_flight_arc_ped_figure_2.png)"
   ]
  },
  {
   "cell_type": "markdown",
   "metadata": {},
   "source": [
    "In order to understand the different events that can happen, it is necessary to understand in what phase of the flight the aircraft is located. Indeed, an event that could be regarded as normal in a stage could be abnormal in another stage."
   ]
  },
  {
   "cell_type": "markdown",
   "metadata": {},
   "source": [
    "<div class=\"alert alert-info\">\n",
    "<h3><div class=\"label label-default\">Question 7</div>  <div class=\"label label-info\">Detect take-off and touch-down phases</div></h3>\n",
    "<br>\n",
    "Using the clean dataset, detect the take-off phase and the touch-down of all flights. Among all the variables available, what is the variable that tells us the most easily when the take off happens? There is no trap here. Choose the best variable wisely and use it to detect the take-off and the touch-down. Plot <code>ALT_STD_C</code> 5 mins before and 5 mins after take-off to test your criterion. Do the same for touch-down. Discuss the variabilities you observe.\n",
    "</div>"
   ]
  },
  {
   "cell_type": "code",
   "execution_count": null,
   "metadata": {
    "collapsed": true
   },
   "outputs": [],
   "source": [
    "# your code goes here ..."
   ]
  },
  {
   "cell_type": "markdown",
   "metadata": {},
   "source": [
    "Your comment here:\n",
    "\n",
    "..."
   ]
  },
  {
   "cell_type": "markdown",
   "metadata": {},
   "source": [
    "<div class=\"alert alert-info\">\n",
    "<h3><div class=\"label label-default\">Question 8</div>  <div class=\"label label-info\">HEAD during take-off and touch-down phases</div></h3>\n",
    "<br>\n",
    "Plot the <code>HEAD</code> variable between 20 seconds before the take-off until the take-off itself. Compute the mean of <code>HEAD</code> during this phase for each individual flight and do a boxplot of the distribution you obtain. Do the same for the touch-down. What do you observe? Is there something significant? Recall [how runways are named](https://en.wikipedia.org/wiki/Runway#Naming)\n",
    "</div>"
   ]
  },
  {
   "cell_type": "code",
   "execution_count": null,
   "metadata": {
    "collapsed": true
   },
   "outputs": [],
   "source": [
    "# your code goes here ..."
   ]
  },
  {
   "cell_type": "markdown",
   "metadata": {},
   "source": [
    "Your comment here:\n",
    "\n",
    "..."
   ]
  },
  {
   "cell_type": "markdown",
   "metadata": {},
   "source": [
    "Next, we want to detect the moment that the aircraft completed its climb (top of climb) and the moment when the aircraft is in descent phase."
   ]
  },
  {
   "cell_type": "markdown",
   "metadata": {},
   "source": [
    "<div class=\"alert alert-info\">\n",
    "<h3><div class=\"label label-default\">Question 9</div>  <div class=\"label label-info\">Detect top-of-climb and beginning of descent phases</div></h3>\n",
    "<br>\n",
    "Plot <code>ALT_STD_C</code> a minute before liftoff until five minutes after the top of climb. In another figure plot <code>ALT_STD_C</code> a minute before the beginning of descent until the touch-down. For information, a plane is considered: \n",
    "<ul>\n",
    "<li>in phase of climb if the altitude increases 30 feet/second for 20 seconds</li>\n",
    "<li>in stable phase if the altitude does not vary more than 30 feet for 5 minutes</li>\n",
    "<li>in phase of descent if the altitude decreases 30 feet/second for 20 seconds</li>\n",
    "</ul>\n",
    "</div>"
   ]
  },
  {
   "cell_type": "markdown",
   "metadata": {},
   "source": [
    "```python\n",
    "# this is a template code, fill in the blanks, or use your own code\n",
    "\n",
    "f = flights2[0] # test on the first flight\n",
    "\n",
    "f[\"CLIMB\"] = f.ALT_STD_C.diff().rolling(window=...).... > ... # FILL IN THE BLANKS\n",
    "f[\"STABLE\"] = f.ALT_STD_C.rolling(window=...).... < ... # FILL IN THE BLANKS\n",
    "f[\"DESCENT\"] = f.ALT_STD_C.diff().rolling(window=...).... < ...  # FILL IN THE BLANKS\n",
    " \n",
    "f[f.CLIMB].ALT_STD_C.plot(color=\"C0\", linestyle=\"none\", marker=\".\", label=\"CLIMB\") # plot climb phase\n",
    "f[f.STABLE].ALT_STD_C.plot(color=\"C1\", linestyle=\"none\", marker=\".\", label=\"STABLE\") # plot stable phase\n",
    "f[f.DESCENT].ALT_STD_C.plot(color=\"C2\", linestyle=\"none\", marker=\".\", label=\"DESCENT\") # plot descent phase\n",
    "\n",
    "top_of_climb = ... # FILL IN THE BLANKS\n",
    "beginning_of_descent = ... # FILL IN THE BLANKS\n",
    "\n",
    "plt.legend()\n",
    "\n",
    "```"
   ]
  },
  {
   "cell_type": "markdown",
   "metadata": {},
   "source": [
    "Your comment here:\n",
    "\n",
    "..."
   ]
  },
  {
   "cell_type": "markdown",
   "metadata": {},
   "source": [
    "<div class=\"alert alert-info\">\n",
    "<h3><div class=\"label label-default\">Question 10</div>  <div class=\"label label-info\">Flight time</div></h3>\n",
    "<br>\n",
    "Using your criteria to detect the take-off and the touch-down, compute the duration of each flight, and plot the distribution you obtain (boxplot, histogram, kernel density estimation, use your best judgement). Comment the distribution.\n",
    "</div>"
   ]
  },
  {
   "cell_type": "code",
   "execution_count": null,
   "metadata": {
    "collapsed": true
   },
   "outputs": [],
   "source": [
    "# your code goes here ..."
   ]
  },
  {
   "cell_type": "markdown",
   "metadata": {},
   "source": [
    "Your comment here:\n",
    "\n",
    "..."
   ]
  },
  {
   "cell_type": "markdown",
   "metadata": {},
   "source": [
    "## Problems"
   ]
  },
  {
   "cell_type": "markdown",
   "metadata": {},
   "source": [
    "Note that the data that we are using in this notebook has been anonymized. This means that the trajectories of a flight have been modified to hide the real information about that flight. In particular, in the dataset we use in this notebook, trajectories have been modified by simple translation and rotation operations"
   ]
  },
  {
   "cell_type": "markdown",
   "metadata": {},
   "source": [
    "<div class=\"alert alert-info\">\n",
    "<h3><div class=\"label label-default\">Question 11</div> <div class=\"label label-danger\">Challenge</div>  <div class=\"label label-info\">Find origin and destination airports</div></h3>\n",
    "<br>\n",
    "You are asked to find the departure and destination airports of the flights in the dataset. You are guided with sample code to load data from external resources and through several steps that will help you to narrow down the pairs of possible airports that fit with the anonymised data.\n",
    "</div>"
   ]
  },
  {
   "cell_type": "markdown",
   "metadata": {},
   "source": [
    "We begin by grabbing airport/routes/runways data available on the internet, for example [ourairports](http://ourairports.com/data) (for [airports](http://ourairports.com/data/airports.csv) and [runways](http://ourairports.com/data/runways.csv)) and [openflights](http://www.openflights.org/data.html) (for [routes](https://raw.githubusercontent.com/jpatokal/openflights/master/data/routes.dat)). These datasets would come useful. You can find the schema of the three datasets below and the code to load the data.\n",
    "\n",
    "airports.csv\n",
    "---------------\n",
    "|var|description|\n",
    "|:--:|:--:|\n",
    "| ** ident **\t| ** icao code **|\n",
    "| type\t| type |\n",
    "| name | airport name|\n",
    "| ** latitude_deg **| ** latitude in ° **|\n",
    "| ** longitude_deg\t**| ** longitude in ° **|\n",
    "| elevation_ft\t| elevation in feet|\n",
    "| ** iata_code ** | ** iata code ** |\n",
    "\n",
    "routes.dat\n",
    "---------------\n",
    "|var|description|\n",
    "|:--:|:--:|\n",
    "|AIRLINE\t| 2-letter (IATA) or 3-letter (ICAO) code of the airline.|\n",
    "|SOURCE_AIRPORT\t| 3-letter (IATA) or 4-letter (ICAO) code of the source airport.|\n",
    "|DESTINATION_AIRPORT| 3-letter (IATA) or 4-letter (ICAO) code of the destination airport.|\n",
    "\n",
    "runways.csv \n",
    "---------------\n",
    "|var|description|\n",
    "|:--:|:--:|\n",
    "|airport_ident\t| 3-letter (IATA) or 4-letter (ICAO) code of the airport.|\n",
    "| ** le_ident **| ** low-end runway identity **|\n",
    "| le_elevation_ft | low-end runway elevation in feet |\n",
    "| le_heading_degT | low-end runway heading in ° |\n",
    "| ** he_ident **| ** high-end runway identity **|\n",
    "|  he_elevation_ft | high-end runway elevation in feet |\n",
    "| ** he_heading_degT **|** high-end runway heading in ° **|"
   ]
  },
  {
   "cell_type": "markdown",
   "metadata": {},
   "source": [
    "The code below has been done for you."
   ]
  },
  {
   "cell_type": "markdown",
   "metadata": {},
   "source": [
    "```python\n",
    "# load data\n",
    "\n",
    "# load airports data from ourairports.com\n",
    "airports = pd.read_csv(\"http://ourairports.com/data/airports.csv\",\n",
    "                       usecols=[1, 2, 3, 4, 5, 6, 13])\n",
    "\n",
    "large_airports = airports[(airports.type == \"large_airport\")]\n",
    "print(\"There are \" + str(len(large_airports)) +\n",
    "      \" large airports in the world, let's focus on them\")\n",
    "\n",
    "print(\"airports columns:\", airports.columns.values)\n",
    "\n",
    "# load routes data from openflights.com\n",
    "routes = pd.read_csv(\"https://raw.githubusercontent.com/jpatokal/openflights/master/data/routes.dat\",\n",
    "                     header=0, usecols=[0, 2, 4],\n",
    "                     names=[\"AIRLINE\", \"SOURCE_AIRPORT\",\n",
    "                            \"DESTINATION_AIRPORT\"])\n",
    "print(\"routes columns:\", routes.columns.values)\n",
    "\n",
    "# load runways data from ourairports.com\n",
    "runways = pd.read_csv(\"http://ourairports.com/data/runways.csv\", header=0,\n",
    "                      usecols=[2, 8, 12, 14, 18],\n",
    "                      dtype={\n",
    "                          \"le_ident\": np.dtype(str),\n",
    "                          \"he_ident\": np.dtype(str)\n",
    "                      })\n",
    "print(\"runways columns:\", runways.columns.values)\n",
    "\n",
    "# create all pairs of airports\n",
    "la = large_airports\n",
    "pairs = pd.merge(la.assign(i=0), la.assign(i=0), how=\"outer\",\n",
    "                 left_on=\"i\", right_on=\"i\", suffixes=[\"_origin\", \"_destination\"])\n",
    "\n",
    "# compute haversine distance for all pairs of airports\n",
    "pairs[\"haversine_distance\"] = pairs.apply(lambda x: haversine((x.latitude_deg_origin, x.longitude_deg_origin),\n",
    "                                                              (x.latitude_deg_destination, x.longitude_deg_destination)), axis=1)\n",
    "\n",
    "del pairs[\"type_origin\"]\n",
    "del pairs[\"type_destination\"]\n",
    "del pairs[\"i\"]\n",
    "del pairs[\"latitude_deg_origin\"]\n",
    "del pairs[\"longitude_deg_origin\"]\n",
    "del pairs[\"latitude_deg_destination\"]\n",
    "del pairs[\"longitude_deg_destination\"]\n",
    "\n",
    "pairs = pairs[pairs.ident_origin != pairs.ident_destination]\n",
    "\n",
    "pairs = pairs.reindex_axis([\"ident_origin\", \"ident_destination\", \"iata_code_origin\", \"iata_code_destination\",\n",
    "                            \"haversine_distance\",\n",
    "                            \"elevation_ft_origin\", \"elevation_ft_destination\"], axis=1)\n",
    "\n",
    "print(\"pairs columns:\", pairs.columns.values)\n",
    "```"
   ]
  },
  {
   "cell_type": "markdown",
   "metadata": {},
   "source": [
    "Execute the cell below to load the data created by the code above."
   ]
  },
  {
   "cell_type": "code",
   "execution_count": null,
   "metadata": {
    "collapsed": true
   },
   "outputs": [],
   "source": [
    "airports = pd.read_pickle(BASE_DIR + \"part2/airports.pkl\")\n",
    "large_airports = pd.read_pickle(BASE_DIR +  \"part2/large_airports.pkl\")\n",
    "routes = pd.read_pickle(BASE_DIR +  \"part2/routes.pkl\")\n",
    "runways = pd.read_pickle(BASE_DIR +  \"part2/runways.pkl\")\n",
    "pairs = pd.read_pickle(BASE_DIR +  \"part2/pairs.pkl\")\n",
    "\n",
    "print(\"There are \" + str(len(large_airports)) +\n",
    "      \" large airports in the world, let's focus on them\")\n",
    "\n",
    "# Code to plot all the airports\n",
    "plt.scatter(airports[\"longitude_deg\"], airports[\"latitude_deg\"], s=.1)\n",
    "plt.scatter(large_airports[\"longitude_deg\"], large_airports[\"latitude_deg\"], s=.1)\n",
    "plt.xlabel(\"latitude_deg\")\n",
    "plt.ylabel(\"longitude_deg\")\n",
    "plt.title(\"All airports (blue) \\n large airports (red)\")\n",
    "\n",
    "print(\"airports columns:\", airports.columns.values)\n",
    "print(\"routes columns:\", routes.columns.values)\n",
    "print(\"runways columns:\", runways.columns.values)\n",
    "print(\"pairs columns:\", pairs.columns.values)"
   ]
  },
  {
   "cell_type": "markdown",
   "metadata": {},
   "source": [
    "You are provided with a dataframe of all pairs of large airports in the world: `pairs`"
   ]
  },
  {
   "cell_type": "code",
   "execution_count": null,
   "metadata": {
    "collapsed": true
   },
   "outputs": [],
   "source": [
    "pairs.sample(5)"
   ]
  },
  {
   "cell_type": "markdown",
   "metadata": {},
   "source": [
    "<div class=\"alert alert-info\">\n",
    "<h3><div class=\"label label-default\">Question 11.1</div> <div class=\"label label-info\"> Step 1</div></h3>\n",
    "<br>\n",
    "A first step towards the desanonymisation of the data is the following. Considering an <b> average speed of 700 km/h</b> you can compute the approximate distance between the airports in the anonymised data. Filter the possible pairs of airports by selecting airports that show a distance that is reasonably close to the distance you can compute with the anonymised data.</div>"
   ]
  },
  {
   "cell_type": "code",
   "execution_count": null,
   "metadata": {
    "collapsed": true
   },
   "outputs": [],
   "source": [
    "# your code goes here ..."
   ]
  },
  {
   "cell_type": "markdown",
   "metadata": {},
   "source": [
    "You comment here:\n",
    "\n",
    "..."
   ]
  },
  {
   "cell_type": "markdown",
   "metadata": {},
   "source": [
    "<div class=\"alert alert-info\">\n",
    "<h3><div class=\"label label-default\">Question 11.2</div> <div class=\"label label-info\">Step 2</div></h3>\n",
    "<br>\n",
    "You should now have a significantly smaller dataframe of possible pairs of airports. The next step is to eliminate the pairs of airports that are connected by commercial flights. You have all the existing commercial routes in the dataset <code>routes</code>. Use this dataframe to eliminate the airports that are not connected. How many pairs of airports possible do you have left?\n",
    "</div>"
   ]
  },
  {
   "cell_type": "markdown",
   "metadata": {},
   "source": [
    "```python\n",
    "# This is template code cell, fill in the blanks, or use your own code\n",
    "selected = pd.merge(...,\n",
    "                    ...,\n",
    "                    how=...,\n",
    "                    left_on=[..., ...],\n",
    "                    right_on=[..., ...])\n",
    "```"
   ]
  },
  {
   "cell_type": "code",
   "execution_count": null,
   "metadata": {
    "collapsed": true
   },
   "outputs": [],
   "source": [
    "# your code goes here ..."
   ]
  },
  {
   "cell_type": "markdown",
   "metadata": {},
   "source": [
    "Your comment here:\n",
    "\n",
    "..."
   ]
  },
  {
   "cell_type": "markdown",
   "metadata": {},
   "source": [
    "<div class=\"alert alert-info\">\n",
    "<h3><div class=\"label label-default\">Question 11.3</div> <div class=\"label label-info\"> Step 3</div></h3>\n",
    "<br>\n",
    "You now have a list of pairs of airports that are at a reasonable distance with respect to the distance between the airports in the anonymised data and that are connected by a commercial route. We have explored variables in the anonymised data that have not been altered and that may help us to narrow down the possibilities even more. Can you see what variable you may use? What previous question can help you a lot? Choose your criterion and use it to eliminate to pairs of airports that does not fit to the anonymised data.\n",
    "</div>"
   ]
  },
  {
   "cell_type": "markdown",
   "metadata": {},
   "source": [
    "Your comment here:\n",
    "\n",
    "..."
   ]
  },
  {
   "cell_type": "markdown",
   "metadata": {},
   "source": [
    "<div class=\"alert alert-info\">\n",
    "<h3><div class=\"label label-default\">Question 11.4</div> <div class=\"label label-info\">Step 4</div></h3>\n",
    "<br>\n",
    "Is there any other variables that can help discriminate more the airports?\n",
    "</div>"
   ]
  },
  {
   "cell_type": "code",
   "execution_count": null,
   "metadata": {
    "collapsed": true
   },
   "outputs": [],
   "source": [
    "# your code goes here ..."
   ]
  },
  {
   "cell_type": "markdown",
   "metadata": {},
   "source": [
    "Your comment here:\n",
    "\n",
    "..."
   ]
  }
 ],
 "metadata": {
  "hide_input": false,
  "kernelspec": {
   "display_name": "Python 3",
   "language": "python",
   "name": "python3"
  },
  "language_info": {
   "codemirror_mode": {
    "name": "ipython",
    "version": 3
   },
   "file_extension": ".py",
   "mimetype": "text/x-python",
   "name": "python",
   "nbconvert_exporter": "python",
   "pygments_lexer": "ipython3",
   "version": "3.6.5"
  },
  "toc": {
   "colors": {
    "hover_highlight": "#DAA520",
    "running_highlight": "#FF0000",
    "selected_highlight": "#FFD700"
   },
   "moveMenuLeft": true,
   "nav_menu": {
    "height": "84px",
    "width": "252px"
   },
   "navigate_menu": true,
   "number_sections": false,
   "sideBar": true,
   "threshold": 4,
   "toc_cell": false,
   "toc_position": {
    "height": "657px",
    "left": "0px",
    "right": "1014px",
    "top": "106px",
    "width": "394px"
   },
   "toc_section_display": "block",
   "toc_window_display": false
  }
 },
 "nbformat": 4,
 "nbformat_minor": 2
}
